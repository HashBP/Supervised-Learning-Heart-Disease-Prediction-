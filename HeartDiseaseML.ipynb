{% raw %}
{
 "cells": [
  {
   "attachments": {},
   "cell_type": "markdown",
   "id": "d14f7313",
   "metadata": {},
   "source": [
    "# Predicting hear disease using machine learning\n",
    "This notebook looks into using various Python-based machine learning and data science libraries in an attempt to build a machine learning model capable of predicting wether or not someone has heart disease based on medical attribute."
   ]
  },
  {
   "attachments": {},
   "cell_type": "markdown",
   "id": "d665a16d",
   "metadata": {},
   "source": [
    "# Problem Defination"
   ]
  },
  {
   "attachments": {},
   "cell_type": "markdown",
   "id": "62c6284f",
   "metadata": {},
   "source": [
    "> Given clinical parameters about a patient, can we predict wether or not they have heart disease?\n",
    "\n",
    "# Data\n",
    "This dataset is taken from public repositary available in kaggle at https://www.kaggle.com/datasets/cherngs/heart-disease-cleveland-uci\n",
    "\n",
    "# Evaluation\n",
    "> At 95% accuracy at predicting wether or not patient has heart disease or not during the proof of concept, we'll pursue the project.\n",
    "\n",
    "# Features\n",
    "\n",
    "**Create Data Dictionary*\n",
    "1. age: age in years \n",
    "2. sex: sex (1 = male; 0 = female)\n",
    "3. cp: chest pain type\n",
    "* 0: typical angina\n",
    "* 1: atypical angina\n",
    "* 2: non-anginal pain\n",
    "* 3: asymptomatic\n",
    "4. estbps: resting blood pressure (in mm Hg on admission to the hospital)\n",
    "5. chol: serum cholestoral in mg/dl\n",
    "6. fbs: (fasting blood sugar > 120 mg/dl) (1 = true; 0 = false)\n",
    "7. restecg: resting electrocardiographic results\n",
    "* 0: normal\n",
    "* 1: having ST-T wave abnormality (T wave inversions and/or ST \n",
    "elevation or depression of > 0.05 mV)\n",
    "* 2: showing probable or definite left ventricular hypertrophy by Estes' criteria\n",
    "8. thalach: maximum heart rate achieved\n",
    "9. exang: exercise induced angina (1 = yes; 0 = no)\n",
    "10. oldpeak = ST depression induced by exercise relative to rest\n",
    "11. slope: the slope of the peak exercise ST segment\n",
    "* 0: upsloping\n",
    "* 1: flat\n",
    "* 2: downsloping\n",
    "12. ca: number of major vessels (0-3) colored by flourosopy\n",
    "13. thal: 0 = normal; 1 = fixed defect; 2 = reversable defect\n",
    "and the label\n",
    "14. condition: 0 = no disease, 1 = disease"
   ]
  },
  {
   "cell_type": "code",
   "execution_count": null,
   "id": "7aed9bb0",
   "metadata": {},
   "outputs": [],
   "source": [
    "import sys\n",
    "!conda install --yes --prefix {sys.prefix} seaborn"
   ]
  },
  {
   "attachments": {},
   "cell_type": "markdown",
   "id": "6617d981",
   "metadata": {},
   "source": [
    "# Tools\n",
    "We will be using Numpy, Matplotlib and Pandas for data analysis and manipulation."
   ]
  },
  {
   "cell_type": "code",
   "execution_count": 84,
   "id": "cbc5da74",
   "metadata": {},
   "outputs": [],
   "source": [
    "import pandas as pd\n",
    "import numpy as np\n",
    "import matplotlib.pyplot as plt\n",
    "import seaborn as sns\n",
    "\n",
    "%matplotlib inline\n",
    "# Model from Scikit-learn\n",
    "from sklearn.linear_model import LogisticRegression\n",
    "from sklearn.neighbors import KNeighborsClassifier\n",
    "from sklearn.ensemble import RandomForestClassifier\n",
    "\n",
    "# For model evaluation\n",
    "from sklearn.model_selection import train_test_split,cross_val_score\n",
    "from sklearn.model_selection import RandomizedSearchCV,GridSearchCV\n",
    "from sklearn.metrics import confusion_matrix,classification_report\n",
    "from sklearn.metrics import precision_score,recall_score,f1_score\n",
    "from sklearn.metrics import RocCurveDisplay"
   ]
  },
  {
   "cell_type": "code",
   "execution_count": 11,
   "id": "fd33e079",
   "metadata": {},
   "outputs": [
    {
     "data": {
      "text/plain": [
       "(303, 14)"
      ]
     },
     "execution_count": 11,
     "metadata": {},
     "output_type": "execute_result"
    }
   ],
   "source": [
    "df=pd.read_csv(\"heart-disease.csv\")\n",
    "df.shape"
   ]
  },
  {
   "cell_type": "code",
   "execution_count": 12,
   "id": "f834fa56",
   "metadata": {},
   "outputs": [
    {
     "data": {
      "text/plain": [
       "<Axes: >"
      ]
     },
     "execution_count": 12,
     "metadata": {},
     "output_type": "execute_result"
    },
    {
     "data": {
      "image/png": "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",
      "text/plain": [
       "<Figure size 640x480 with 1 Axes>"
      ]
     },
     "metadata": {},
     "output_type": "display_data"
    }
   ],
   "source": [
    "df[\"target\"].value_counts().plot(kind=\"bar\",color=[\"salmon\",\"green\"])"
   ]
  },
  {
   "cell_type": "code",
   "execution_count": 13,
   "id": "2330d00c",
   "metadata": {},
   "outputs": [
    {
     "name": "stdout",
     "output_type": "stream",
     "text": [
      "<class 'pandas.core.frame.DataFrame'>\n",
      "RangeIndex: 303 entries, 0 to 302\n",
      "Data columns (total 14 columns):\n",
      " #   Column    Non-Null Count  Dtype  \n",
      "---  ------    --------------  -----  \n",
      " 0   age       303 non-null    int64  \n",
      " 1   sex       303 non-null    int64  \n",
      " 2   cp        303 non-null    int64  \n",
      " 3   trestbps  303 non-null    int64  \n",
      " 4   chol      303 non-null    int64  \n",
      " 5   fbs       303 non-null    int64  \n",
      " 6   restecg   303 non-null    int64  \n",
      " 7   thalach   303 non-null    int64  \n",
      " 8   exang     303 non-null    int64  \n",
      " 9   oldpeak   303 non-null    float64\n",
      " 10  slope     303 non-null    int64  \n",
      " 11  ca        303 non-null    int64  \n",
      " 12  thal      303 non-null    int64  \n",
      " 13  target    303 non-null    int64  \n",
      "dtypes: float64(1), int64(13)\n",
      "memory usage: 33.3 KB\n"
     ]
    }
   ],
   "source": [
    "df.info()"
   ]
  },
  {
   "cell_type": "code",
   "execution_count": 1,
   "id": "6e9b7494",
   "metadata": {},
   "outputs": [
    {
     "ename": "NameError",
     "evalue": "name 'df' is not defined",
     "output_type": "error",
     "traceback": [
      "\u001b[1;31m---------------------------------------------------------------------------\u001b[0m",
      "\u001b[1;31mNameError\u001b[0m                                 Traceback (most recent call last)",
      "Cell \u001b[1;32mIn[1], line 1\u001b[0m\n\u001b[1;32m----> 1\u001b[0m df\u001b[39m.\u001b[39misna()\n",
      "\u001b[1;31mNameError\u001b[0m: name 'df' is not defined"
     ]
    }
   ],
   "source": [
    "df.isna()"
   ]
  },
  {
   "cell_type": "code",
   "execution_count": 15,
   "id": "a73f6088",
   "metadata": {},
   "outputs": [
    {
     "data": {
      "text/html": [
       "<div>\n",
       "<style scoped>\n",
       "    .dataframe tbody tr th:only-of-type {\n",
       "        vertical-align: middle;\n",
       "    }\n",
       "\n",
       "    .dataframe tbody tr th {\n",
       "        vertical-align: top;\n",
       "    }\n",
       "\n",
       "    .dataframe thead th {\n",
       "        text-align: right;\n",
       "    }\n",
       "</style>\n",
       "<table border=\"1\" class=\"dataframe\">\n",
       "  <thead>\n",
       "    <tr style=\"text-align: right;\">\n",
       "      <th></th>\n",
       "      <th>age</th>\n",
       "      <th>sex</th>\n",
       "      <th>cp</th>\n",
       "      <th>trestbps</th>\n",
       "      <th>chol</th>\n",
       "      <th>fbs</th>\n",
       "      <th>restecg</th>\n",
       "      <th>thalach</th>\n",
       "      <th>exang</th>\n",
       "      <th>oldpeak</th>\n",
       "      <th>slope</th>\n",
       "      <th>ca</th>\n",
       "      <th>thal</th>\n",
       "      <th>target</th>\n",
       "    </tr>\n",
       "  </thead>\n",
       "  <tbody>\n",
       "    <tr>\n",
       "      <th>count</th>\n",
       "      <td>303.000000</td>\n",
       "      <td>303.000000</td>\n",
       "      <td>303.000000</td>\n",
       "      <td>303.000000</td>\n",
       "      <td>303.000000</td>\n",
       "      <td>303.000000</td>\n",
       "      <td>303.000000</td>\n",
       "      <td>303.000000</td>\n",
       "      <td>303.000000</td>\n",
       "      <td>303.000000</td>\n",
       "      <td>303.000000</td>\n",
       "      <td>303.000000</td>\n",
       "      <td>303.000000</td>\n",
       "      <td>303.000000</td>\n",
       "    </tr>\n",
       "    <tr>\n",
       "      <th>mean</th>\n",
       "      <td>54.366337</td>\n",
       "      <td>0.683168</td>\n",
       "      <td>0.966997</td>\n",
       "      <td>131.623762</td>\n",
       "      <td>246.264026</td>\n",
       "      <td>0.148515</td>\n",
       "      <td>0.528053</td>\n",
       "      <td>149.646865</td>\n",
       "      <td>0.326733</td>\n",
       "      <td>1.039604</td>\n",
       "      <td>1.399340</td>\n",
       "      <td>0.729373</td>\n",
       "      <td>2.313531</td>\n",
       "      <td>0.544554</td>\n",
       "    </tr>\n",
       "    <tr>\n",
       "      <th>std</th>\n",
       "      <td>9.082101</td>\n",
       "      <td>0.466011</td>\n",
       "      <td>1.032052</td>\n",
       "      <td>17.538143</td>\n",
       "      <td>51.830751</td>\n",
       "      <td>0.356198</td>\n",
       "      <td>0.525860</td>\n",
       "      <td>22.905161</td>\n",
       "      <td>0.469794</td>\n",
       "      <td>1.161075</td>\n",
       "      <td>0.616226</td>\n",
       "      <td>1.022606</td>\n",
       "      <td>0.612277</td>\n",
       "      <td>0.498835</td>\n",
       "    </tr>\n",
       "    <tr>\n",
       "      <th>min</th>\n",
       "      <td>29.000000</td>\n",
       "      <td>0.000000</td>\n",
       "      <td>0.000000</td>\n",
       "      <td>94.000000</td>\n",
       "      <td>126.000000</td>\n",
       "      <td>0.000000</td>\n",
       "      <td>0.000000</td>\n",
       "      <td>71.000000</td>\n",
       "      <td>0.000000</td>\n",
       "      <td>0.000000</td>\n",
       "      <td>0.000000</td>\n",
       "      <td>0.000000</td>\n",
       "      <td>0.000000</td>\n",
       "      <td>0.000000</td>\n",
       "    </tr>\n",
       "    <tr>\n",
       "      <th>25%</th>\n",
       "      <td>47.500000</td>\n",
       "      <td>0.000000</td>\n",
       "      <td>0.000000</td>\n",
       "      <td>120.000000</td>\n",
       "      <td>211.000000</td>\n",
       "      <td>0.000000</td>\n",
       "      <td>0.000000</td>\n",
       "      <td>133.500000</td>\n",
       "      <td>0.000000</td>\n",
       "      <td>0.000000</td>\n",
       "      <td>1.000000</td>\n",
       "      <td>0.000000</td>\n",
       "      <td>2.000000</td>\n",
       "      <td>0.000000</td>\n",
       "    </tr>\n",
       "    <tr>\n",
       "      <th>50%</th>\n",
       "      <td>55.000000</td>\n",
       "      <td>1.000000</td>\n",
       "      <td>1.000000</td>\n",
       "      <td>130.000000</td>\n",
       "      <td>240.000000</td>\n",
       "      <td>0.000000</td>\n",
       "      <td>1.000000</td>\n",
       "      <td>153.000000</td>\n",
       "      <td>0.000000</td>\n",
       "      <td>0.800000</td>\n",
       "      <td>1.000000</td>\n",
       "      <td>0.000000</td>\n",
       "      <td>2.000000</td>\n",
       "      <td>1.000000</td>\n",
       "    </tr>\n",
       "    <tr>\n",
       "      <th>75%</th>\n",
       "      <td>61.000000</td>\n",
       "      <td>1.000000</td>\n",
       "      <td>2.000000</td>\n",
       "      <td>140.000000</td>\n",
       "      <td>274.500000</td>\n",
       "      <td>0.000000</td>\n",
       "      <td>1.000000</td>\n",
       "      <td>166.000000</td>\n",
       "      <td>1.000000</td>\n",
       "      <td>1.600000</td>\n",
       "      <td>2.000000</td>\n",
       "      <td>1.000000</td>\n",
       "      <td>3.000000</td>\n",
       "      <td>1.000000</td>\n",
       "    </tr>\n",
       "    <tr>\n",
       "      <th>max</th>\n",
       "      <td>77.000000</td>\n",
       "      <td>1.000000</td>\n",
       "      <td>3.000000</td>\n",
       "      <td>200.000000</td>\n",
       "      <td>564.000000</td>\n",
       "      <td>1.000000</td>\n",
       "      <td>2.000000</td>\n",
       "      <td>202.000000</td>\n",
       "      <td>1.000000</td>\n",
       "      <td>6.200000</td>\n",
       "      <td>2.000000</td>\n",
       "      <td>4.000000</td>\n",
       "      <td>3.000000</td>\n",
       "      <td>1.000000</td>\n",
       "    </tr>\n",
       "  </tbody>\n",
       "</table>\n",
       "</div>"
      ],
      "text/plain": [
       "              age         sex          cp    trestbps        chol         fbs  \\\n",
       "count  303.000000  303.000000  303.000000  303.000000  303.000000  303.000000   \n",
       "mean    54.366337    0.683168    0.966997  131.623762  246.264026    0.148515   \n",
       "std      9.082101    0.466011    1.032052   17.538143   51.830751    0.356198   \n",
       "min     29.000000    0.000000    0.000000   94.000000  126.000000    0.000000   \n",
       "25%     47.500000    0.000000    0.000000  120.000000  211.000000    0.000000   \n",
       "50%     55.000000    1.000000    1.000000  130.000000  240.000000    0.000000   \n",
       "75%     61.000000    1.000000    2.000000  140.000000  274.500000    0.000000   \n",
       "max     77.000000    1.000000    3.000000  200.000000  564.000000    1.000000   \n",
       "\n",
       "          restecg     thalach       exang     oldpeak       slope          ca  \\\n",
       "count  303.000000  303.000000  303.000000  303.000000  303.000000  303.000000   \n",
       "mean     0.528053  149.646865    0.326733    1.039604    1.399340    0.729373   \n",
       "std      0.525860   22.905161    0.469794    1.161075    0.616226    1.022606   \n",
       "min      0.000000   71.000000    0.000000    0.000000    0.000000    0.000000   \n",
       "25%      0.000000  133.500000    0.000000    0.000000    1.000000    0.000000   \n",
       "50%      1.000000  153.000000    0.000000    0.800000    1.000000    0.000000   \n",
       "75%      1.000000  166.000000    1.000000    1.600000    2.000000    1.000000   \n",
       "max      2.000000  202.000000    1.000000    6.200000    2.000000    4.000000   \n",
       "\n",
       "             thal      target  \n",
       "count  303.000000  303.000000  \n",
       "mean     2.313531    0.544554  \n",
       "std      0.612277    0.498835  \n",
       "min      0.000000    0.000000  \n",
       "25%      2.000000    0.000000  \n",
       "50%      2.000000    1.000000  \n",
       "75%      3.000000    1.000000  \n",
       "max      3.000000    1.000000  "
      ]
     },
     "execution_count": 15,
     "metadata": {},
     "output_type": "execute_result"
    }
   ],
   "source": [
    "df.describe()"
   ]
  },
  {
   "attachments": {},
   "cell_type": "markdown",
   "id": "67ce399b",
   "metadata": {},
   "source": [
    "## Comparing the sex att. to target column"
   ]
  },
  {
   "cell_type": "code",
   "execution_count": 16,
   "id": "afd6a538",
   "metadata": {},
   "outputs": [
    {
     "data": {
      "text/plain": [
       "1    207\n",
       "0     96\n",
       "Name: sex, dtype: int64"
      ]
     },
     "execution_count": 16,
     "metadata": {},
     "output_type": "execute_result"
    }
   ],
   "source": [
    "df.sex.value_counts()"
   ]
  },
  {
   "cell_type": "code",
   "execution_count": 17,
   "id": "3eef1495",
   "metadata": {},
   "outputs": [
    {
     "data": {
      "text/html": [
       "<div>\n",
       "<style scoped>\n",
       "    .dataframe tbody tr th:only-of-type {\n",
       "        vertical-align: middle;\n",
       "    }\n",
       "\n",
       "    .dataframe tbody tr th {\n",
       "        vertical-align: top;\n",
       "    }\n",
       "\n",
       "    .dataframe thead th {\n",
       "        text-align: right;\n",
       "    }\n",
       "</style>\n",
       "<table border=\"1\" class=\"dataframe\">\n",
       "  <thead>\n",
       "    <tr style=\"text-align: right;\">\n",
       "      <th>target</th>\n",
       "      <th>0</th>\n",
       "      <th>1</th>\n",
       "    </tr>\n",
       "    <tr>\n",
       "      <th>sex</th>\n",
       "      <th></th>\n",
       "      <th></th>\n",
       "    </tr>\n",
       "  </thead>\n",
       "  <tbody>\n",
       "    <tr>\n",
       "      <th>0</th>\n",
       "      <td>24</td>\n",
       "      <td>72</td>\n",
       "    </tr>\n",
       "    <tr>\n",
       "      <th>1</th>\n",
       "      <td>114</td>\n",
       "      <td>93</td>\n",
       "    </tr>\n",
       "  </tbody>\n",
       "</table>\n",
       "</div>"
      ],
      "text/plain": [
       "target    0   1\n",
       "sex            \n",
       "0        24  72\n",
       "1       114  93"
      ]
     },
     "execution_count": 17,
     "metadata": {},
     "output_type": "execute_result"
    }
   ],
   "source": [
    "pd.crosstab(df.sex,df.target)"
   ]
  },
  {
   "cell_type": "code",
   "execution_count": 18,
   "id": "59771549",
   "metadata": {},
   "outputs": [
    {
     "data": {
      "text/plain": [
       "75.0"
      ]
     },
     "execution_count": 18,
     "metadata": {},
     "output_type": "execute_result"
    }
   ],
   "source": [
    "72/96*100"
   ]
  },
  {
   "attachments": {},
   "cell_type": "markdown",
   "id": "aff1086c",
   "metadata": {},
   "source": [
    "75% of women is True for the heart disease acc. to out dataset"
   ]
  },
  {
   "cell_type": "code",
   "execution_count": 19,
   "id": "7494b8b8",
   "metadata": {},
   "outputs": [
    {
     "data": {
      "text/plain": [
       "<matplotlib.legend.Legend at 0x25277cd3fd0>"
      ]
     },
     "execution_count": 19,
     "metadata": {},
     "output_type": "execute_result"
    },
    {
     "data": {
      "image/png": "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",
      "text/plain": [
       "<Figure size 640x480 with 1 Axes>"
      ]
     },
     "metadata": {},
     "output_type": "display_data"
    }
   ],
   "source": [
    "pd.crosstab(df.sex,df.target).plot(kind=\"bar\",color=[\"salmon\",\"green\"])\n",
    "plt.title(\"Heart Disease Frequence of sex.\")\n",
    "plt.xlabel(\"0=No Disease, 1=Disease\")\n",
    "plt.ylabel(\"Amount\")\n",
    "plt.legend([\"Female\",\"Male\"])"
   ]
  },
  {
   "cell_type": "code",
   "execution_count": 20,
   "id": "a7423422",
   "metadata": {},
   "outputs": [
    {
     "data": {
      "text/html": [
       "<div>\n",
       "<style scoped>\n",
       "    .dataframe tbody tr th:only-of-type {\n",
       "        vertical-align: middle;\n",
       "    }\n",
       "\n",
       "    .dataframe tbody tr th {\n",
       "        vertical-align: top;\n",
       "    }\n",
       "\n",
       "    .dataframe thead th {\n",
       "        text-align: right;\n",
       "    }\n",
       "</style>\n",
       "<table border=\"1\" class=\"dataframe\">\n",
       "  <thead>\n",
       "    <tr style=\"text-align: right;\">\n",
       "      <th></th>\n",
       "      <th>age</th>\n",
       "      <th>sex</th>\n",
       "      <th>cp</th>\n",
       "      <th>trestbps</th>\n",
       "      <th>chol</th>\n",
       "      <th>fbs</th>\n",
       "      <th>restecg</th>\n",
       "      <th>thalach</th>\n",
       "      <th>exang</th>\n",
       "      <th>oldpeak</th>\n",
       "      <th>slope</th>\n",
       "      <th>ca</th>\n",
       "      <th>thal</th>\n",
       "      <th>target</th>\n",
       "    </tr>\n",
       "  </thead>\n",
       "  <tbody>\n",
       "    <tr>\n",
       "      <th>0</th>\n",
       "      <td>63</td>\n",
       "      <td>1</td>\n",
       "      <td>3</td>\n",
       "      <td>145</td>\n",
       "      <td>233</td>\n",
       "      <td>1</td>\n",
       "      <td>0</td>\n",
       "      <td>150</td>\n",
       "      <td>0</td>\n",
       "      <td>2.3</td>\n",
       "      <td>0</td>\n",
       "      <td>0</td>\n",
       "      <td>1</td>\n",
       "      <td>1</td>\n",
       "    </tr>\n",
       "    <tr>\n",
       "      <th>1</th>\n",
       "      <td>37</td>\n",
       "      <td>1</td>\n",
       "      <td>2</td>\n",
       "      <td>130</td>\n",
       "      <td>250</td>\n",
       "      <td>0</td>\n",
       "      <td>1</td>\n",
       "      <td>187</td>\n",
       "      <td>0</td>\n",
       "      <td>3.5</td>\n",
       "      <td>0</td>\n",
       "      <td>0</td>\n",
       "      <td>2</td>\n",
       "      <td>1</td>\n",
       "    </tr>\n",
       "    <tr>\n",
       "      <th>2</th>\n",
       "      <td>41</td>\n",
       "      <td>0</td>\n",
       "      <td>1</td>\n",
       "      <td>130</td>\n",
       "      <td>204</td>\n",
       "      <td>0</td>\n",
       "      <td>0</td>\n",
       "      <td>172</td>\n",
       "      <td>0</td>\n",
       "      <td>1.4</td>\n",
       "      <td>2</td>\n",
       "      <td>0</td>\n",
       "      <td>2</td>\n",
       "      <td>1</td>\n",
       "    </tr>\n",
       "    <tr>\n",
       "      <th>3</th>\n",
       "      <td>56</td>\n",
       "      <td>1</td>\n",
       "      <td>1</td>\n",
       "      <td>120</td>\n",
       "      <td>236</td>\n",
       "      <td>0</td>\n",
       "      <td>1</td>\n",
       "      <td>178</td>\n",
       "      <td>0</td>\n",
       "      <td>0.8</td>\n",
       "      <td>2</td>\n",
       "      <td>0</td>\n",
       "      <td>2</td>\n",
       "      <td>1</td>\n",
       "    </tr>\n",
       "    <tr>\n",
       "      <th>4</th>\n",
       "      <td>57</td>\n",
       "      <td>0</td>\n",
       "      <td>0</td>\n",
       "      <td>120</td>\n",
       "      <td>354</td>\n",
       "      <td>0</td>\n",
       "      <td>1</td>\n",
       "      <td>163</td>\n",
       "      <td>1</td>\n",
       "      <td>0.6</td>\n",
       "      <td>2</td>\n",
       "      <td>0</td>\n",
       "      <td>2</td>\n",
       "      <td>1</td>\n",
       "    </tr>\n",
       "  </tbody>\n",
       "</table>\n",
       "</div>"
      ],
      "text/plain": [
       "   age  sex  cp  trestbps  chol  fbs  restecg  thalach  exang  oldpeak  slope  \\\n",
       "0   63    1   3       145   233    1        0      150      0      2.3      0   \n",
       "1   37    1   2       130   250    0        1      187      0      3.5      0   \n",
       "2   41    0   1       130   204    0        0      172      0      1.4      2   \n",
       "3   56    1   1       120   236    0        1      178      0      0.8      2   \n",
       "4   57    0   0       120   354    0        1      163      1      0.6      2   \n",
       "\n",
       "   ca  thal  target  \n",
       "0   0     1       1  \n",
       "1   0     2       1  \n",
       "2   0     2       1  \n",
       "3   0     2       1  \n",
       "4   0     2       1  "
      ]
     },
     "execution_count": 20,
     "metadata": {},
     "output_type": "execute_result"
    }
   ],
   "source": [
    "df.head()"
   ]
  },
  {
   "attachments": {},
   "cell_type": "markdown",
   "id": "c6c17f90",
   "metadata": {},
   "source": [
    "## Age vs Max. Heart Disease"
   ]
  },
  {
   "cell_type": "code",
   "execution_count": 21,
   "id": "9fe9bdf8",
   "metadata": {},
   "outputs": [
    {
     "data": {
      "text/plain": [
       "<matplotlib.legend.Legend at 0x252797112d0>"
      ]
     },
     "execution_count": 21,
     "metadata": {},
     "output_type": "execute_result"
    },
    {
     "data": {
      "image/png": "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",
      "text/plain": [
       "<Figure size 1000x600 with 1 Axes>"
      ]
     },
     "metadata": {},
     "output_type": "display_data"
    }
   ],
   "source": [
    "plt.figure(figsize=(10,6))\n",
    "plt.scatter(df.age[df.target==1],df.thalach[df.target==1],c=\"green\")\n",
    "plt.scatter(df.age[df.target==0],df.thalach[df.target==0],c=\"salmon\")\n",
    "plt.title(\"Heart Disease test comparison on max. heart rate and age.\")\n",
    "plt.xlabel(\"Age\")\n",
    "plt.ylabel(\"Maximum Heart Rate Achived\")\n",
    "plt.legend([\"+ve test\",\"-ve test\"])"
   ]
  },
  {
   "attachments": {},
   "cell_type": "markdown",
   "id": "9487dc1e",
   "metadata": {},
   "source": [
    "# Check the distribution/spread of the age column with histogram "
   ]
  },
  {
   "cell_type": "code",
   "execution_count": 22,
   "id": "387d7b05",
   "metadata": {},
   "outputs": [
    {
     "data": {
      "text/plain": [
       "<Axes: ylabel='Frequency'>"
      ]
     },
     "execution_count": 22,
     "metadata": {},
     "output_type": "execute_result"
    },
    {
     "data": {
      "image/png": "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",
      "text/plain": [
       "<Figure size 640x480 with 1 Axes>"
      ]
     },
     "metadata": {},
     "output_type": "display_data"
    }
   ],
   "source": [
    "df.age.plot.hist(color=\"green\")"
   ]
  },
  {
   "attachments": {},
   "cell_type": "markdown",
   "id": "f7ebca0e",
   "metadata": {},
   "source": [
    " ### Heart Disease Frequency per chest pain type\n",
    " cp: chest pain type\n",
    "* 0: typical angina -less blood supply in heart\n",
    "* 1: atypical angina -not heart related\n",
    "* 2: non-anginal pain - not heart related\n",
    "* 3: asymptomatic - chest pain no sign of disease"
   ]
  },
  {
   "cell_type": "code",
   "execution_count": 23,
   "id": "6dee206f",
   "metadata": {},
   "outputs": [
    {
     "data": {
      "text/html": [
       "<div>\n",
       "<style scoped>\n",
       "    .dataframe tbody tr th:only-of-type {\n",
       "        vertical-align: middle;\n",
       "    }\n",
       "\n",
       "    .dataframe tbody tr th {\n",
       "        vertical-align: top;\n",
       "    }\n",
       "\n",
       "    .dataframe thead th {\n",
       "        text-align: right;\n",
       "    }\n",
       "</style>\n",
       "<table border=\"1\" class=\"dataframe\">\n",
       "  <thead>\n",
       "    <tr style=\"text-align: right;\">\n",
       "      <th>target</th>\n",
       "      <th>0</th>\n",
       "      <th>1</th>\n",
       "    </tr>\n",
       "    <tr>\n",
       "      <th>cp</th>\n",
       "      <th></th>\n",
       "      <th></th>\n",
       "    </tr>\n",
       "  </thead>\n",
       "  <tbody>\n",
       "    <tr>\n",
       "      <th>0</th>\n",
       "      <td>104</td>\n",
       "      <td>39</td>\n",
       "    </tr>\n",
       "    <tr>\n",
       "      <th>1</th>\n",
       "      <td>9</td>\n",
       "      <td>41</td>\n",
       "    </tr>\n",
       "    <tr>\n",
       "      <th>2</th>\n",
       "      <td>18</td>\n",
       "      <td>69</td>\n",
       "    </tr>\n",
       "    <tr>\n",
       "      <th>3</th>\n",
       "      <td>7</td>\n",
       "      <td>16</td>\n",
       "    </tr>\n",
       "  </tbody>\n",
       "</table>\n",
       "</div>"
      ],
      "text/plain": [
       "target    0   1\n",
       "cp             \n",
       "0       104  39\n",
       "1         9  41\n",
       "2        18  69\n",
       "3         7  16"
      ]
     },
     "execution_count": 23,
     "metadata": {},
     "output_type": "execute_result"
    }
   ],
   "source": [
    "pd.crosstab(df.cp,df.target)"
   ]
  },
  {
   "cell_type": "code",
   "execution_count": 24,
   "id": "15da95db",
   "metadata": {
    "scrolled": true
   },
   "outputs": [
    {
     "data": {
      "text/plain": [
       "<matplotlib.legend.Legend at 0x252796c71d0>"
      ]
     },
     "execution_count": 24,
     "metadata": {},
     "output_type": "execute_result"
    },
    {
     "data": {
      "image/png": "iVBORw0KGgoAAAANSUhEUgAAA1IAAAIcCAYAAAD8A5+vAAAAOXRFWHRTb2Z0d2FyZQBNYXRwbG90bGliIHZlcnNpb24zLjcuMSwgaHR0cHM6Ly9tYXRwbG90bGliLm9yZy/bCgiHAAAACXBIWXMAAA9hAAAPYQGoP6dpAABPtUlEQVR4nO3dd3QUZf/+8WtJ74EISWghQGiCoYo0AwrhoUkRQUAhFEWKNH2wIJCAJIBSlKaiEhARFQERaVGaPCDSQUBUWqIQA1JCCS2Z3x/8sl+WJJCBhA3h/Tpnz2HvuWfms7M7OXtxz9xrMQzDEAAAAAAg2wrYuwAAAAAAuN8QpAAAAADAJIIUAAAAAJhEkAIAAAAAkwhSAAAAAGASQQoAAAAATCJIAQAAAIBJBCkAAAAAMIkgBQAAAAAmEaQAZCk2NlYWi0Vbt27NdHnLli1VqlSpe1vUDZYtW6bIyMhs94+IiJDFYrE+PDw8VKpUKT311FOaNWuWLl++nGGdhg0bqmHDhjlXdB4VGRlpc2xufEydOtXe5cEO0j8TJ0+evKf7jY6O1uLFi+/pPm905MgRWSwWxcbG5tg2582bp8mTJ+fY9gDkDY72LgAA7tSyZcs0bdo0U2HKzc1Nq1evliSlpKQoISFBy5cv1wsvvKAJEyZoxYoVKl68uLX/9OnTc7rsPG3FihXy8fGxaQsODrZTNXgQRUdHq3379mrTpo1d9h8YGKhNmzapTJkyObbNefPm6ddff9WgQYNybJsA7I8gBeC+c/HiRbm7u9/RugUKFNBjjz1m09a1a1d1795dLVu2VPv27fXzzz9bl1WqVOmuar3f1KhRQw899FC2+qakpMjV1VUWiyWXq8KduJvz5EHm4uKS4W8EAGSGS/sA5CjDMDR9+nRVrVpVbm5uKliwoNq3b69Dhw7Z9IuLi1Pr1q1VvHhxubq6qmzZsurdu3eGy4jSLy/avn272rdvr4IFC6pMmTKKiIjQtGnTJMnmMrQjR47cUd3h4eF64YUXtHnzZq1fv97antmlfTNmzFBoaKg8PT3l5eWlChUq6M0337Tpk5iYqN69e6t48eJydnZWcHCwoqKidO3aNZt+UVFRql27tgoVKiRvb29Vr15dn3zyiQzDsOm3evVqNWzYUH5+fnJzc1PJkiX19NNP6+LFi9Y+V65c0dtvv60KFSrIxcVFhQsXVvfu3XXixIk7OiY3Sr/Mc9WqVerRo4cKFy4sd3d36+WQX375perUqSMPDw95enqqadOm2rFjR6bbKV++vFxcXFSxYkXNmTNHERERNpeIrl27VhaLRWvXrrVZN6tLrrZu3aqnnnpKhQoVkqurq6pVq6avvvoq0/rXrFmjPn366KGHHpKfn5/atWunY8eOZahz3rx5qlOnjjw9PeXp6amqVavqk08+kSSNHj1ajo6OSkhIyLBejx495Ofnp0uXLmV5LCMiIuTp6am9e/fqySeflIeHhwoXLqz+/fvbvJ9S9s+nhg0bqnLlylq/fr3q1q0rd3d39ejRI8saJGnz5s1q1aqV/Pz85OrqqjJlymQ6YvLPP/+oU6dO8vHxkb+/v3r06KGzZ8/eUZ07duxQy5YtVaRIEbm4uKho0aJq0aKF/vrrL0nXz+ULFy5o9uzZ1nP6VpfWpn8mxo8frzFjxqhkyZJydXVVzZo19eOPP9r0/fPPP9W9e3eFhITI3d1dxYoVU6tWrbRnz55Mt3nj5yz979DevXtveyxu1rBhQ33//fc6evSozd8qwzAUEhKipk2bZljn/Pnz8vHxUb9+/ST93zkxd+5cDRkyRAEBAXJzc1NYWFim51l2zgkAd48gBeC2UlNTde3atQyPm7/sS1Lv3r01aNAgNW7cWIsXL9b06dO1d+9e1a1bV//884+138GDB1WnTh3NmDFDq1at0ogRI7R582bVr19fV69ezbDddu3aqWzZsvr666/1wQcfaPjw4Wrfvr0kadOmTdZHYGDgHb/Op556SpJsgtTN5s+fr759+yosLEyLFi3S4sWLNXjwYF24cMHaJzExUY8++qhWrlypESNGaPny5erZs6diYmL0wgsv2GzvyJEj6t27t7766istXLhQ7dq108svv6zRo0fb9GnRooWcnZ316aefasWKFRo7dqw8PDx05coVSVJaWppat26tsWPHqnPnzvr+++81duxYxcXFqWHDhkpJScnWMbj5vU5NTbVZ3qNHDzk5Oemzzz7TggUL5OTkpOjoaHXq1EmVKlXSV199pc8++0znzp1TgwYNtG/fPuu6sbGx6t69uypWrKhvvvlGb731lkaPHm291PJOrFmzRvXq1dOZM2f0wQcf6Ntvv1XVqlXVsWPHTO9x6dWrl5ycnDRv3jyNHz9ea9eu1XPPPWfTZ8SIEerSpYuKFi2q2NhYLVq0SN26ddPRo0clXf+MOzo66sMPP7RZ79SpU5o/f7569uwpV1fXW9Z99epVNW/eXE8++aQWL16s/v3768MPP1THjh1t+mX3fJKk48eP67nnnlPnzp21bNky9e3bN8v9r1y5Ug0aNFB8fLwmTpyo5cuX66233sqwTUl6+umnVa5cOX3zzTd6/fXXNW/ePA0ePNh0nRcuXFCTJk30zz//aNq0aYqLi9PkyZNVsmRJnTt3TtL1c9nNzU3Nmze3ntPZubx26tSpWrFihSZPnqy5c+eqQIECatasmTZt2mTtc+zYMfn5+Wns2LFasWKFpk2bJkdHR9WuXVsHDhy47T6yeyxuNn36dNWrV08BAQE2f6ssFotefvllxcXF6Y8//rBZZ86cOUpOTrYGqXRvvvmmDh06pI8//lgff/yxjh07poYNG9oEVrPnBIC7YABAFmbNmmVIuuUjKCjI2n/Tpk2GJGPChAk220lISDDc3NyMoUOHZrqftLQ04+rVq8bRo0cNSca3335rXTZy5EhDkjFixIgM6/Xr188w82esW7duhoeHR5bL9+/fb0gy+vTpY20LCwszwsLCrM/79+9v+Pr63nI/vXv3Njw9PY2jR4/atL/77ruGJGPv3r2ZrpeammpcvXrVGDVqlOHn52ekpaUZhmEYCxYsMCQZO3fuzHKfX3zxhSHJ+Oabb2zat2zZYkgypk+ffsua04/zzY9ixYoZhvF/n4WuXbvarBcfH284OjoaL7/8sk37uXPnjICAAKNDhw7W11a0aFGjevXq1tdlGIZx5MgRw8nJyeZztGbNGkOSsWbNGpttHj582JBkzJo1y9pWoUIFo1q1asbVq1dt+rZs2dIIDAw0UlNTberv27evTb/x48cbkozjx48bhmEYhw4dMhwcHIwuXbrc8nh169bNKFKkiHH58mVr27hx44wCBQoYhw8fvu26koz33nvPpn3MmDGGJGPDhg2GYZg7n8LCwgxJxo8//njLfacrU6aMUaZMGSMlJSXLPumfifHjx9u09+3b13B1dbW+j9mtc+vWrYYkY/HixbeszcPDw+jWrVu2Xkf6Z6Jo0aI2ryU5OdkoVKiQ0bhx4yzXvXbtmnHlyhUjJCTEGDx4cIZt3vg5y+6xyEqLFi1sPuM31unl5WUMHDjQpr1SpUpGo0aNrM/Tz4mszp9evXpZ27J7TgC4e4xIAbitOXPmaMuWLRke9evXt+m3dOlSWSwWPffcczajGgEBAQoNDbW5VCspKUkvvfSSSpQoIUdHRzk5OSkoKEiStH///gw1PP3007n6GiVlOsJ2s0cffVRnzpxRp06d9O2332Y6o9nSpUvVqFEjFS1a1OY4NGvWTJK0bt06a9/Vq1ercePG8vHxkYODg5ycnDRixAj9+++/SkpKkiRVrVpVzs7OevHFFzV79uwMl0ul79PX11etWrWy2WfVqlUVEBCQ4TK5rPzwww827/GyZctslt/8PqxcuVLXrl1T165dbfbr6uqqsLAw634PHDigY8eOqXPnzjb3VAUFBalu3brZqu1mf/75p3777Td16dJFkmz237x5cx0/fjzDSEP6qGO6Rx55RJKso01xcXFKTU3NMBJws4EDByopKUlff/21pOsjgjNmzFCLFi2yPZNlet3pOnfuLOn6iIJk7nySpIIFC+qJJ5647X5///13HTx4MFsjZ1Lmx+zSpUvWz2d26yxbtqwKFiyo1157TR988IHNaOXdateunc1r8fLyUqtWrbR+/XrrqOq1a9cUHR2tSpUqydnZWY6OjnJ2dtYff/yR6d+czNzuWJjl5eWl7t27KzY21jqqvXr1au3bt0/9+/fP0D+r8yf9M3Mn5wSAO8dkEwBuq2LFiqpZs2aGdh8fH5v7RP755x8ZhiF/f/9Mt1O6dGlJ1790hoeH69ixYxo+fLiqVKkiDw8PpaWl6bHHHsv0MrS7uWQvu9K/TBctWjTLPs8//7yuXbummTNn6umnn1ZaWppq1aqlt99+W02aNJF0/Th89913cnJyynQb6eHrl19+UXh4uBo2bKiZM2da76davHixxowZYz0OZcqU0Q8//KDx48erX79+unDhgkqXLq0BAwZo4MCB1n2eOXNGzs7Ot9zn7YSGht5ysomb34f0y7Zq1aqVaf8CBa7/f92///4rSQoICMjQJyAg4I7ubUvf96uvvqpXX3010z43v24/Pz+b5y4uLpJkPdbp95PdOHNjZqpVq6YGDRpo2rRp6tKli5YuXaojR45kuNwvK46OjhlqST826ccqu+dTuuyeI9l9jelud8yyW6ePj4/WrVunMWPG6M0339Tp06cVGBioF154QW+99VaW50t2ZPW5unLlivV+oyFDhmjatGl67bXXFBYWpoIFC6pAgQLq1atXti99vd2xuBMvv/yypk6dqs8//1wvvviipk6dquLFi6t169aZvqbM2nbt2iXpzs4JAHeOIAUgxzz00EOyWCz66aefrF8wbpTe9uuvv2rXrl2KjY1Vt27drMv//PPPLLd9L2aGW7JkiSTd9nejunfvru7du+vChQtav369Ro4cqZYtW+r3339XUFCQHnroIT3yyCMaM2ZMpuunB7X58+fLyclJS5cutfnf9Mx+Q6dBgwZq0KCBUlNTtXXrVk2ZMkWDBg2Sv7+/nn32WevkCStWrMh0n15eXtk4Ard38/uQHroWLFhgHVHMTPoX0MTExAzLbm5LPxY3/67XzV8A0/f9xhtvqF27dpnut3z58lnWlJnChQtLkv766y+VKFHiln0HDBigZ555Rtu3b9fUqVNVrlw5a5i+nWvXrunff/+1+WKefhzS27J7PqXL7jly42vMCWbqrFKliubPny/DMLR7927FxsZq1KhRcnNz0+uvv37HNWT1uXJ2dpanp6ckae7cueratauio6Nt+p08eVK+vr53vO+7VbZsWTVr1kzTpk1Ts2bNtGTJEkVFRcnBwSFD36xe542fGSlnzwkAWSNIAcgxLVu21NixY/X333+rQ4cOWfZL/8J385eu7P5vfrob/zfYzc3NZLW24uLi9PHHH6tu3boZLlnMioeHh5o1a6YrV66oTZs22rt3r4KCgtSyZUstW7ZMZcqUUcGCBbNc32KxyNHR0eYLU0pKij777LMs13FwcFDt2rVVoUIFff7559q+fbueffZZtWzZUvPnz1dqaqpq166d/Rd+l5o2bSpHR0cdPHjwlpdfli9fXoGBgfriiy80ZMgQ62fg6NGj2rhxo80oYPqlcbt377aZ0Sw96N64zZCQEO3atSvDl+M7FR4eLgcHB82YMUN16tS5Zd+2bduqZMmSeuWVV7Ru3TpNmjTJVOD//PPPNWDAAOvzefPmSfq/IJ/d88mscuXKqUyZMvr00081ZMiQTMOPGXdSp8ViUWhoqCZNmqTY2Fht377duszFxcX0CM/ChQv1zjvvWEP4uXPn9N1336lBgwbW88tisWR4rd9//73+/vtvlS1b1tT+zLrdaxo4cKDCw8PVrVs3OTg4ZJiUJl1W50/Xrl0l5c45ASBrBCkAOaZevXp68cUX1b17d23dulWPP/64PDw8dPz4cW3YsEFVqlRRnz59VKFCBZUpU0avv/66DMNQoUKF9N133ykuLs7U/qpUqSJJGjdunJo1ayYHBwc98sgjWV7eJl2/rDD9d6IuX76s+Ph4LV++XF999ZUqVqx42ymCX3jhBbm5ualevXoKDAxUYmKiYmJi5OPjY728bdSoUYqLi1PdunU1YMAAlS9fXpcuXdKRI0e0bNkyffDBBypevLhatGihiRMnqnPnznrxxRf177//6t13383wZe+DDz7Q6tWr1aJFC5UsWVKXLl3Sp59+Kklq3LixJOnZZ5/V559/rubNm2vgwIF69NFH5eTkpL/++ktr1qxR69at1bZtW1PHNztKlSqlUaNGadiwYTp06JD+85//qGDBgvrnn3/0yy+/yMPDQ1FRUSpQoIBGjx6tXr16qW3btnrhhRd05swZRUZGZrhcKSAgQI0bN1ZMTIwKFiyooKAg/fjjj1q4cGGG/X/44Ydq1qyZmjZtqoiICBUrVkynTp3S/v37tX37dus9TGZez5tvvqnRo0crJSXFOtX1vn37dPLkSUVFRVn7Ojg4qF+/fnrttdfk4eGhiIiIbO/H2dlZEyZM0Pnz51WrVi1t3LhRb7/9tpo1a2YN8tk9n+7EtGnT1KpVKz322GMaPHiwSpYsqfj4eK1cuVKff/65qW1lt86lS5dq+vTpatOmjUqXLi3DMLRw4UKdOXPGZiSvSpUqWrt2rb777jsFBgbKy8vrtqMoDg4OatKkiYYMGaK0tDSNGzdOycnJNu9Xy5YtFRsbqwoVKuiRRx7Rtm3b9M4772T7Ese7UaVKFS1cuFAzZsxQjRo1VKBAAZvLpZs0aaJKlSppzZo1eu6551SkSJFMt5OUlGQ9f86ePauRI0fK1dVVb7zxhrVPds+Jo0ePqkyZMurWrZt1an8AJtlxogsAeVz6TGdbtmzJdHlWM1F9+umnRu3atQ0PDw/Dzc3NKFOmjNG1a1dj69at1j779u0zmjRpYnh5eRkFCxY0nnnmGSM+Pt6QZIwcOdLaL322rBMnTmTYz+XLl41evXoZhQsXNiwWiyHpljOmpc+Wlv5wc3MzSpYsabRq1cr49NNPbWZgS3fzrH2zZ882GjVqZPj7+xvOzs5G0aJFjQ4dOhi7d++2We/EiRPGgAEDjODgYMPJyckoVKiQUaNGDWPYsGHG+fPnbY5V+fLlDRcXF6N06dJGTEyM8cknn9i8lk2bNhlt27Y1goKCDBcXF8PPz88ICwszlixZYrPPq1evGu+++64RGhpquLq6Gp6enkaFChWM3r17G3/88UeWx+V2x9kwbv9ZWLx4sdGoUSPD29vbcHFxMYKCgoz27dsbP/zwg02/jz/+2AgJCTGcnZ2NcuXKGZ9++qnRrVu3DJ+j48ePG+3btzcKFSpk+Pj4GM8995x11rcbZ1MzDMPYtWuX0aFDB6NIkSKGk5OTERAQYDzxxBPGBx98cNv6s5ohcM6cOUatWrWsx7FatWoZ9msY12dNk2S89NJLmR6XzKTPHrl7926jYcOGhpubm1GoUCGjT58+Np+NdNk5n8LCwoyHH3442zUYxvXPVbNmzQwfHx/DxcXFKFOmjM3sdVl9JtKP5c3n2u3q/O2334xOnToZZcqUMdzc3AwfHx/j0UcfNWJjY222s3PnTqNevXqGu7u7Icnm/LtZ+gx748aNM6KioozixYsbzs7ORrVq1YyVK1fa9D19+rTRs2dPo0iRIoa7u7tRv35946effspwjt9q1r7sHoubnTp1ymjfvr3h6+tr/Vt1s8jISEOS8fPPP2dYlv45/eyzz4wBAwYYhQsXNlxcXIwGDRrYfA7SZeecSH+d2Z0hEUBGFsPIxjRVAADkkoiICK1du/aOf0zZnqZMmaIBAwbo119/1cMPP5ytdSIiIrRgwQKdP38+l6vL/44cOaLg4GC98847WU6ucL+oWbOmLBaLtmzZkmHZ2rVr1ahRI3399dfW388DYH9c2gcAgEk7duzQ4cOHNWrUKLVu3TrbIQq4UXJysn799VctXbpU27Zt06JFi+xdEgATCFIAAJjUtm1bJSYmqkGDBvrggw/sXQ7uU9u3b1ejRo3k5+enkSNHqk2bNvYuCYAJXNoHAAAAACYVsHcBAAAAAHC/IUgBAAAAgEkEKQAAAAAwickmdP0HOo8dOyYvLy9Tv0oPAAAAIH8xDEPnzp1T0aJFVaBA1uNOBClJx44dU4kSJexdBgAAAIA8IiEhQcWLF89yOUFKkpeXl6TrB8vb29vO1QAAAACwl+TkZJUoUcKaEbJCkJKsl/N5e3sTpAAAAADc9pYfJpsAAAAAAJMIUgAAAABgEkEKAAAAAEziHikAAABAUmpqqq5evWrvMpDLnJyc5ODgcNfbIUgBAADggWYYhhITE3XmzBl7l4J7xNfXVwEBAXf1G7IEKQAAADzQ0kNUkSJF5O7ufldfrpG3GYahixcvKikpSZIUGBh4x9siSAEAAOCBlZqaag1Rfn5+9i4H94Cbm5skKSkpSUWKFLnjy/yYbAIAAAAPrPR7otzd3e1cCe6l9Pf7bu6JI0gBAADggcflfA+WnHi/CVIAAAAAYBJBCgAAAMBtRUZGqmrVqtbnERERatOmjd3qsTcmmwAAAAAycTXqlXu2L6eRE0yvExERodmzZysmJkavv/66tX3x4sVq27atDMPIyRIzeO+993J9H3kZI1IAAADAfcrV1VXjxo3T6dOn7/m+fXx85Ovre8/3m1cQpAAAAID7VOPGjRUQEKCYmJhb9vvmm2/08MMPy8XFRaVKldKECbcfARs7dqz8/f3l5eWlnj176tKlSzbLb760b8GCBapSpYrc3Nzk5+enxo0b68KFC9bls2bNUsWKFeXq6qoKFSpo+vTpNtt77bXXVK5cObm7u6t06dIaPny4zax6u3btUqNGjeTl5SVvb2/VqFFDW7dutS7fuHGjHn/8cbm5ualEiRIaMGCAzf5zGkEKAAAAuE85ODgoOjpaU6ZM0V9//ZVpn23btqlDhw569tlntWfPHkVGRmr48OGKjY3NcrtfffWVRo4cqTFjxmjr1q0KDAzMEHxudPz4cXXq1Ek9evTQ/v37tXbtWrVr18566d/MmTM1bNgwjRkzRvv371d0dLSGDx+u2bNnW7fh5eWl2NhY7du3T++9955mzpypSZMmWZd36dJFxYsX15YtW7Rt2za9/vrrcnJykiTt2bNHTZs2Vbt27bR79259+eWX2rBhg/r372/mcJpiMR7kCxv/v+TkZPn4+Ojs2bPy9va2dzkAAAC4Ry5duqTDhw8rODhYrq6uNsvuh3ukzpw5o8WLF6tOnTqqVKmSPvnkkwz3SHXp0kUnTpzQqlWrrOsOHTpU33//vfbu3ZvptuvWravQ0FDNmDHD2vbYY4/p0qVL2rlzZ4b9b9++XTVq1NCRI0cUFBSUYXslS5bUuHHj1KlTJ2vb22+/rWXLlmnjxo2Z1vDOO+/oyy+/tI46eXt7a8qUKerWrVuGvl27dpWbm5s+/PBDa9uGDRsUFhamCxcuZHhvb/W+ZzcbMCIFAAAA3OfGjRun2bNna9++fRmW7d+/X/Xq1bNpq1evnv744w+lpqZmur39+/erTp06Nm03P79RaGionnzySVWpUkXPPPOMZs6cab1v68SJE0pISFDPnj3l6elpfbz99ts6ePCgdRsLFixQ/fr1FRAQIE9PTw0fPlzx8fHW5UOGDFGvXr3UuHFjjR071mbdbdu2KTY21mb7TZs2VVpamg4fPnyLI3fnCFIAAADAfe7xxx9X06ZN9eabb2ZYZhhGhh+gzemL0hwcHBQXF6fly5erUqVKmjJlisqXL6/Dhw8rLS1N0vXL+3bu3Gl9/Prrr/r5558lST///LOeffZZNWvWTEuXLtWOHTs0bNgwXblyxbqPyMhI7d27Vy1atNDq1atVqVIlLVq0SJKUlpam3r1722x/165d+uOPP1SmTJkcfa3pmP4cAAAAyAfGjh2rqlWrqly5cjbtlSpV0oYNG2zaNm7cqHLlysnBwSHTbVWsWFE///yzunbtam1LDz1ZsVgsqlevnurVq6cRI0YoKChIixYt0pAhQ1SsWDEdOnRIXbp0yXTd//3vfwoKCtKwYcOsbUePHs3Qr1y5cipXrpwGDx6sTp06adasWWrbtq2qV6+uvXv3qmzZsresMScRpPKJe3kNb265k2uDAQAAcF2VKlXUpUsXTZkyxab9lVdeUa1atTR69Gh17NhRmzZt0tSpU285ecTAgQPVrVs31axZU/Xr19fnn3+uvXv3qnTp0pn237x5s3788UeFh4erSJEi2rx5s06cOKGKFStKuj6aNGDAAHl7e6tZs2a6fPmytm7dqtOnT2vIkCEqW7as4uPjNX/+fNWqVUvff/+9dbRJklJSUvTf//5X7du3V3BwsP766y9t2bJFTz/9tKTrM/499thj6tevn1544QV5eHho//79iouLy3A8cgpBCgAAAMjE/fifvKNHj9ZXX31l01a9enV99dVXGjFihEaPHq3AwECNGjVKERERWW6nY8eOOnjwoF577TVdunRJTz/9tPr06aOVK1dm2t/b21vr16/X5MmTlZycrKCgIE2YMEHNmjWTJPXq1Uvu7u565513NHToUHl4eKhKlSoaNGiQJKl169YaPHiw+vfvr8uXL6tFixYaPny4IiMjJV2/dPDff/9V165d9c8//+ihhx5Su3btFBUVJUl65JFHtG7dOg0bNkwNGjSQYRgqU6aMOnbseHcH9BaYtU/5Y9Y+RqQAAADMu9Xsbci/mLUPAAAAAOyAIAUAAAAAJhGkAAAAAMAkghQAAAAAmESQAgAAAACTCFIAAAAAYBJBCgAAAABMIkgBAAAAgEkEKQAAAAAwiSAFAAAA5GMWi0WLFy+2dxn5jqM9d75+/Xq988472rZtm44fP65FixapTZs21uWGYSgqKkofffSRTp8+rdq1a2vatGl6+OGHrX0uX76sV199VV988YVSUlL05JNPavr06SpevLgdXhEAAADyC0uU5Z7tyxhpmF4nIiJCs2fPliQ5OjqqUKFCeuSRR9SpUydFRESoQIHrYybHjx9XwYIFc7Re2HlE6sKFCwoNDdXUqVMzXT5+/HhNnDhRU6dO1ZYtWxQQEKAmTZro3Llz1j6DBg3SokWLNH/+fG3YsEHnz59Xy5YtlZqaeq9eBgAAAGAX//nPf3T8+HEdOXJEy5cvV6NGjTRw4EC1bNlS165dkyQFBATIxcXFzpXmP3YNUs2aNdPbb7+tdu3aZVhmGIYmT56sYcOGqV27dqpcubJmz56tixcvat68eZKks2fP6pNPPtGECRPUuHFjVatWTXPnztWePXv0ww8/3OuXAwAAANxTLi4uCggIULFixVS9enW9+eab+vbbb7V8+XLFxsZKsr2078qVK+rfv78CAwPl6uqqUqVKKSYmxrq9s2fP6sUXX1SRIkXk7e2tJ554Qrt27bIuP3jwoFq3bi1/f395enqqVq1aGb53T58+XSEhIXJ1dZW/v7/at29vXWYYhsaPH6/SpUvLzc1NoaGhWrBgQe4doFyUZ++ROnz4sBITExUeHm5tc3FxUVhYmDZu3ChJ2rZtm65evWrTp2jRoqpcubK1T2YuX76s5ORkmwcAAACQHzzxxBMKDQ3VwoULMyx7//33tWTJEn311Vc6cOCA5s6dq1KlSkm6HnJatGihxMRELVu2TNu2bVP16tX15JNP6tSpU5Kk8+fPq3nz5vrhhx+0Y8cONW3aVK1atVJ8fLwkaevWrRowYIBGjRqlAwcOaMWKFXr88cet+3/rrbc0a9YszZgxQ3v37tXgwYP13HPPad26dbl/YHKYXe+RupXExERJkr+/v027v7+/jh49au3j7Oyc4ZpPf39/6/qZiYmJUVRUVA5XDAAAAOQNFSpU0O7duzO0x8fHKyQkRPXr15fFYlFQUJB12Zo1a7Rnzx4lJSVZLwV89913tXjxYi1YsEAvvviiQkNDFRoaal3n7bff1qJFi7RkyRL1799f8fHx8vDwUMuWLeXl5aWgoCBVq1ZN0vXbeiZOnKjVq1erTp06kqTSpUtrw4YN+vDDDxUWFpabhyTH5dkRqXQWi+1NfoZhZGi72e36vPHGGzp79qz1kZCQkCO1AgAAAHlBVt+HIyIitHPnTpUvX14DBgzQqlWrrMu2bdum8+fPy8/PT56entbH4cOHdfDgQUnXw9DQoUNVqVIl+fr6ytPTU7/99pt1RKpJkyYKCgpS6dKl9fzzz+vzzz/XxYsXJUn79u3TpUuX1KRJE5vtz5kzx7r9+0meHZEKCAiQdH3UKTAw0NqelJRkHaUKCAjQlStXdPr0aZtRqaSkJNWtWzfLbbu4uHDDHQAAAPKt/fv3Kzg4OEN79erVdfjwYS1fvlw//PCDOnTooMaNG2vBggVKS0tTYGCg1q5dm2E9X19fSdJ///tfrVy5Uu+++67Kli0rNzc3tW/fXleuXJEkeXl5afv27Vq7dq1WrVqlESNGKDIyUlu2bFFaWpok6fvvv1exYsVstn8/fjfPsyNSwcHBCggIUFxcnLXtypUrWrdunTUk1ahRQ05OTjZ9jh8/rl9//fWWQQoAAADIr1avXq09e/bo6aefznS5t7e3OnbsqJkzZ+rLL7/UN998o1OnTql69epKTEyUo6OjypYta/N46KGHJEk//fSTIiIi1LZtW1WpUkUBAQE6cuSIzfYdHR3VuHFjjR8/Xrt379aRI0e0evVqVapUSS4uLoqPj8+w/RIlSuT2Yclxdh2ROn/+vP7880/r88OHD2vnzp0qVKiQSpYsqUGDBik6OlohISEKCQlRdHS03N3d1blzZ0mSj4+PevbsqVdeeUV+fn4qVKiQXn31VVWpUkWNGze218sCAAAA7onLly8rMTFRqamp+ueff7RixQrFxMSoZcuW6tq1a4b+kyZNUmBgoKpWraoCBQro66+/VkBAgHx9fdW4cWPVqVNHbdq00bhx41S+fHkdO3ZMy5YtU5s2bVSzZk2VLVtWCxcuVKtWrWSxWDR8+HDrSJMkLV26VIcOHdLjjz+uggULatmyZUpLS1P58uXl5eWlV199VYMHD1ZaWprq16+v5ORkbdy4UZ6enurWrdu9PHR3za5BauvWrWrUqJH1+ZAhQyRJ3bp1U2xsrIYOHaqUlBT17dvX+oO8q1atkpeXl3WdSZMmydHRUR06dLD+IG9sbKwcHBzu+esBAABA/nEnP5J7r61YsUKBgYFydHRUwYIFFRoaqvfff1/dunWz/iDvjTw9PTVu3Dj98ccfcnBwUK1atbRs2TJr32XLlmnYsGHq0aOHTpw4oYCAAD3++OPWW2smTZqkHj16qG7dunrooYf02muv2cyA7evrq4ULFyoyMlKXLl1SSEiIvvjiCz388MOSpNGjR6tIkSKKiYnRoUOH5Ovra522/X5jMQwj739CcllycrJ8fHx09uxZeXt727ucO3I16hV7l3DXnEZOsHcJAADgAXPp0iUdPnxYwcHBcnV1tXc5uEdu9b5nNxvk2XukAAAAACCvIkgBAAAAgEkEKQAAAAAwiSAFAAAAACYRpAAAAPDAY/61B0tOvN8EKQAAADywnJycJEkXL160cyW4l9Lf7/T3/07Y9XekAAAAAHtycHCQr6+vkpKSJEnu7u6yWCx2rgq5xTAMXbx4UUlJSfL19b2r354lSAEAAOCBFhAQIEnWMIX8z9fX1/q+3ymCFAAAAB5oFotFgYGBKlKkiK5evWrvcpDLnJyc7mokKh1BCgAAAND1y/xy4gs2HgxMNgEAAAAAJhGkAAAAAMAkghQAAAAAmESQAgAAAACTCFIAAAAAYBJBCgAAAABMIkgBAAAAgEkEKQAAAAAwiSAFAAAAACYRpAAAAADAJIIUAAAAAJhEkAIAAAAAkwhSAAAAAGASQQoAAAAATCJIAQAAAIBJBCkAAAAAMIkgBQAAAAAmEaQAAAAAwCSCFAAAAACYRJACAAAAAJMIUgAAAABgEkEKAAAAAEwiSAEAAACASQQpAAAAADCJIAUAAAAAJhGkAAAAAMAkghQAAAAAmESQAgAAAACTCFIAAAAAYBJBCgAAAABMIkgBAAAAgEkEKQAAAAAwiSAFAAAAACYRpAAAAADAJIIUAAAAAJhEkAIAAAAAkwhSAAAAAGASQQoAAAAATCJIAQAAAIBJBCkAAAAAMIkgBQAAAAAmEaQAAAAAwCSCFAAAAACYRJACAAAAAJMIUgAAAABgEkEKAAAAAEwiSAEAAACASQQpAAAAADCJIAUAAAAAJhGkAAAAAMAkghQAAAAAmESQAgAAAACTCFIAAAAAYBJBCgAAAABMIkgBAAAAgEkEKQAAAAAwiSAFAAAAACYRpAAAAADAJIIUAAAAAJhEkAIAAAAAkwhSAAAAAGASQQoAAAAATCJIAQAAAIBJeTpIXbt2TW+99ZaCg4Pl5uam0qVLa9SoUUpLS7P2MQxDkZGRKlq0qNzc3NSwYUPt3bvXjlUDAAAAyO/ydJAaN26cPvjgA02dOlX79+/X+PHj9c4772jKlCnWPuPHj9fEiRM1depUbdmyRQEBAWrSpInOnTtnx8oBAAAA5Gd5Okht2rRJrVu3VosWLVSqVCm1b99e4eHh2rp1q6Tro1GTJ0/WsGHD1K5dO1WuXFmzZ8/WxYsXNW/ePDtXDwAAACC/ytNBqn79+vrxxx/1+++/S5J27dqlDRs2qHnz5pKkw4cPKzExUeHh4dZ1XFxcFBYWpo0bN2a53cuXLys5OdnmAQAAAADZ5WjvAm7ltdde09mzZ1WhQgU5ODgoNTVVY8aMUadOnSRJiYmJkiR/f3+b9fz9/XX06NEstxsTE6OoqKjcKxwAAABAvpanR6S+/PJLzZ07V/PmzdP27ds1e/Zsvfvuu5o9e7ZNP4vFYvPcMIwMbTd64403dPbsWesjISEhV+oHAAAAkD/l6RGp//73v3r99df17LPPSpKqVKmio0ePKiYmRt26dVNAQICk6yNTgYGB1vWSkpIyjFLdyMXFRS4uLrlbPAAAAIB8K0+PSF28eFEFCtiW6ODgYJ3+PDg4WAEBAYqLi7Muv3LlitatW6e6deve01oBAAAAPDjy9IhUq1atNGbMGJUsWVIPP/ywduzYoYkTJ6pHjx6Srl/SN2jQIEVHRyskJEQhISGKjo6Wu7u7OnfubOfqAQAAAORXeTpITZkyRcOHD1ffvn2VlJSkokWLqnfv3hoxYoS1z9ChQ5WSkqK+ffvq9OnTql27tlatWiUvLy87Vg4AAAAgP7MYhmHYuwh7S05Olo+Pj86ePStvb297l3NHrka9Yu8S7prTyAn2LgEAAAAPuOxmgzx9jxQAAAAA5EUEKQAAAAAwiSAFAAAAACYRpAAAAADAJIIUAAAAAJhEkAIAAAAAkwhSAAAAAGASQQoAAAAATCJIAQAAAIBJBCkAAAAAMIkgBQAAAAAmEaQAAAAAwCSCFAAAAACYRJACAAAAAJMIUgAAAABgEkEKAAAAAEwiSAEAAACASQQpAAAAADCJIAUAAAAAJhGkAAAAAMAkghQAAAAAmESQAgAAAACTCFIAAAAAYBJBCgAAAABMIkgBAAAAgEkEKQAAAAAwiSAFAAAAACYRpAAAAADAJIIUAAAAAJhEkAIAAAAAkwhSAAAAAGASQQoAAAAATCJIAQAAAIBJBCkAAAAAMIkgBQAAAAAmEaQAAAAAwCSCFAAAAACYRJACAAAAAJMIUgAAAABgEkEKAAAAAExytHcBAAAA6SxRFnuXcNeMkYa9SwBwDzAiBQAAAAAmEaQAAAAAwCSCFAAAAACYRJACAAAAAJMIUgAAAABgEkEKAAAAAEwiSAEAAACASQQpAAAAADCJIAUAAAAAJhGkAAAAAMAkghQAAAAAmESQAgAAAACTCFIAAAAAYBJBCgAAAABMIkgBAAAAgEkEKQAAAAAwiSAFAAAAACYRpAAAAADAJIIUAAAAAJhEkAIAAAAAkwhSAAAAAGASQQoAAAAATCJIAQAAAIBJBCkAAAAAMIkgBQAAAAAmEaQAAAAAwCSCFAAAAACYRJACAAAAAJMIUgAAAABgEkEKAAAAAEwiSAEAAACASQQpAAAAADCJIAUAAAAAJuX5IPX333/rueeek5+fn9zd3VW1alVt27bNutwwDEVGRqpo0aJyc3NTw4YNtXfvXjtWDAAAACC/y9NB6vTp06pXr56cnJy0fPly7du3TxMmTJCvr6+1z/jx4zVx4kRNnTpVW7ZsUUBAgJo0aaJz587Zr3AAAAAA+Zqj2RXi4+NVokQJWSwWm3bDMJSQkKCSJUvmWHHjxo1TiRIlNGvWLGtbqVKlbPY5efJkDRs2TO3atZMkzZ49W/7+/po3b5569+6dY7UAAAAAQDrTI1LBwcE6ceJEhvZTp04pODg4R4pKt2TJEtWsWVPPPPOMihQpomrVqmnmzJnW5YcPH1ZiYqLCw8OtbS4uLgoLC9PGjRuz3O7ly5eVnJxs8wAAAACA7DIdpAzDyDAaJUnnz5+Xq6trjhSV7tChQ5oxY4ZCQkK0cuVKvfTSSxowYIDmzJkjSUpMTJQk+fv726zn7+9vXZaZmJgY+fj4WB8lSpTI0boBAAAA5G/ZvrRvyJAhkiSLxaLhw4fL3d3duiw1NVWbN29W1apVc7S4tLQ01axZU9HR0ZKkatWqae/evZoxY4a6du1q7ZfZZYaZhb10b7zxhvX1SFJycjJhCgAAAEC2ZTtI7dixQ9L1kLJnzx45Oztblzk7Oys0NFSvvvpqjhYXGBioSpUq2bRVrFhR33zzjSQpICBA0vWRqcDAQGufpKSkDKNUN3JxcZGLi0uO1goAAADgwZHtILVmzRpJUvfu3fXee+/J29s714pKV69ePR04cMCm7ffff1dQUJCk6/drBQQEKC4uTtWqVZMkXblyRevWrdO4ceNyvT4AAAAADybTs/bdOINebhs8eLDq1q2r6OhodejQQb/88os++ugjffTRR5KuX9I3aNAgRUdHKyQkRCEhIYqOjpa7u7s6d+58z+oEAAAA8GAxHaQuXLigsWPH6scff1RSUpLS0tJslh86dCjHiqtVq5YWLVqkN954Q6NGjVJwcLAmT56sLl26WPsMHTpUKSkp6tu3r06fPq3atWtr1apV8vLyyrE6AAAAAOBGpoNUr169tG7dOj3//PMKDAy85aQOOaFly5Zq2bJllsstFosiIyMVGRmZq3UAAAAAQDrTQWr58uX6/vvvVa9evdyoBwAAAADyPNO/I1WwYEEVKlQoN2oBAAAAgPuC6SA1evRojRgxQhcvXsyNegAAAAAgzzN9ad+ECRN08OBB+fv7q1SpUnJycrJZvn379hwrDgAAAADyItNBqk2bNrlQBgAAAADcP0wHqZEjR+ZGHQAAAABw3zB9jxQAAAAAPOhMj0gVKFDglr8dlZqaelcFAQAAAEBeZzpILVq0yOb51atXtWPHDs2ePVtRUVE5VhgAAAAA5FWmg1Tr1q0ztLVv314PP/ywvvzyS/Xs2TNHCgMAAACAvCrH7pGqXbu2fvjhh5zaHAAAAADkWTkSpFJSUjRlyhQVL148JzYHAAAAAHma6Uv7ChYsaDPZhGEYOnfunNzd3TV37twcLQ4AAAAA8iLTQWry5Mk2zwsUKKDChQurdu3aKliwYE7VBQAAAAB5lukg1a1bt9yoAwAAAADuG6aDlCSdOXNGn3zyifbv3y+LxaJKlSqpR48e8vHxyen6AAAAACDPMT3ZxNatW1WmTBlNmjRJp06d0smTJzVx4kSVKVNG27dvz40aAQAAACBPMT0iNXjwYD311FOaOXOmHB2vr37t2jX16tVLgwYN0vr163O8SAAAAADIS0wHqa1bt9qEKElydHTU0KFDVbNmzRwtDgAAAADyItOX9nl7eys+Pj5De0JCgry8vHKkKAAAAADIy0wHqY4dO6pnz5768ssvlZCQoL/++kvz589Xr1691KlTp9yoEQAAAADyFNOX9r377ruyWCzq2rWrrl27JklycnJSnz59NHbs2BwvEAAAAADyGtNBytnZWe+9955iYmJ08OBBGYahsmXLyt3dPTfqAwAAAIA8545+R0qS3N3dVaVKlZysBQAAAADuC6aD1KVLlzRlyhStWbNGSUlJSktLs1nOb0kBAAAAyO9MB6kePXooLi5O7du316OPPiqLxZIbdQEAAABAnmU6SH3//fdatmyZ6tWrlxv1AAAAAECeZ3r682LFivF7UQAAAAAeaKaD1IQJE/Taa6/p6NGjuVEPAAAAAOR5pi/tq1mzpi5duqTSpUvL3d1dTk5ONstPnTqVY8UBAAAAQF5kOkh16tRJf//9t6Kjo+Xv789kEwAAAAAeOKaD1MaNG7Vp0yaFhobmRj0AAAAAkOeZvkeqQoUKSklJyY1aAAAAAOC+YDpIjR07Vq+88orWrl2rf//9V8nJyTYPAAAAAMjvTF/a95///EeS9OSTT9q0G4Yhi8Wi1NTUnKkMAAAAAPIo00FqzZo1WS7bsWPHXRUDAAAAAPcD00EqLCzM5vnZs2f1+eef6+OPP9auXbs0aNCgnKoNAAAAAPIk0/dIpVu9erWee+45BQYGasqUKWrevLm2bt2ak7UBAAAAQJ5kakTqr7/+UmxsrD799FNduHBBHTp00NWrV/XNN9+oUqVKuVUjAAAAAOQp2R6Rat68uSpVqqR9+/ZpypQpOnbsmKZMmZKbtQEAAABAnpTtEalVq1ZpwIAB6tOnj0JCQnKzJgAAAADI07I9IvXTTz/p3LlzqlmzpmrXrq2pU6fqxIkTuVkbAAAAAORJ2Q5SderU0cyZM3X8+HH17t1b8+fPV7FixZSWlqa4uDidO3cuN+sEAAAAgDzD9Kx97u7u6tGjhzZs2KA9e/bolVde0dixY1WkSBE99dRTuVEjAAAAAOQpdzz9uSSVL19e48eP119//aUvvvgip2oCAAAAgDztroJUOgcHB7Vp00ZLlizJic0BAAAAQJ6WI0EKAAAAAB4kBCkAAAAAMIkgBQAAAAAmEaQAAAAAwCSCFAAAAACYRJACAAAAAJMIUgAAAABgEkEKAAAAAEwiSAEAAACASQQpAAAAADCJIAUAAAAAJhGkAAAAAMAkghQAAAAAmESQAgAAAACTCFIAAAAAYBJBCgAAAABMIkgBAAAAgEkEKQAAAAAwiSAFAAAAACYRpAAAAADAJIIUAAAAAJhEkAIAAAAAkwhSAAAAAGASQQoAAAAATCJIAQAAAIBJBCkAAAAAMIkgBQAAAAAmOdq7AADA/7FEWexdwl0xRhr2LgEAgHvivhqRiomJkcVi0aBBg6xthmEoMjJSRYsWlZubmxo2bKi9e/far0gAAAAA+d59E6S2bNmijz76SI888ohN+/jx4zVx4kRNnTpVW7ZsUUBAgJo0aaJz587ZqVIAAAAA+d19EaTOnz+vLl26aObMmSpYsKC13TAMTZ48WcOGDVO7du1UuXJlzZ49WxcvXtS8efPsWDEAAACA/Oy+CFL9+vVTixYt1LhxY5v2w4cPKzExUeHh4dY2FxcXhYWFaePGjVlu7/Lly0pOTrZ5AAAAAEB25fnJJubPn6/t27dry5YtGZYlJiZKkvz9/W3a/f39dfTo0Sy3GRMTo6ioqJwtFAAAAMADI0+PSCUkJGjgwIGaO3euXF1ds+xnsdjOcmUYRoa2G73xxhs6e/as9ZGQkJBjNQMAAADI//L0iNS2bduUlJSkGjVqWNtSU1O1fv16TZ06VQcOHJB0fWQqMDDQ2icpKSnDKNWNXFxc5OLiknuFAwAAAMjX8vSI1JNPPqk9e/Zo586d1kfNmjXVpUsX7dy5U6VLl1ZAQIDi4uKs61y5ckXr1q1T3bp17Vg5AAAAgPwsT49IeXl5qXLlyjZtHh4e8vPzs7YPGjRI0dHRCgkJUUhIiKKjo+Xu7q7OnTvbo2TcBX6IFAAAAPeLPB2ksmPo0KFKSUlR3759dfr0adWuXVurVq2Sl5eXvUsDAAAAkE/dd0Fq7dq1Ns8tFosiIyMVGRlpl3oAAAAAPHjy9D1SAAAAAJAXEaQAAAAAwCSCFAAAAACYRJACAAAAAJMIUgAAAABgEkEKAAAAAEwiSAEAAACASQQpAAAAADCJIAUAAAAAJhGkAAAAAMAkghQAAAAAmESQAgAAAACTCFIAAAAAYBJBCgAAAABMIkgBAAAAgEkEKQAAAAAwiSAFAAAAACYRpAAAAADAJIIUAAAAAJhEkAIAAAAAkwhSAAAAAGASQQoAAAAATCJIAQAAAIBJBCkAAAAAMIkgBQAAAAAmEaQAAAAAwCSCFAAAAACYRJACAAAAAJMIUgAAAABgEkEKAAAAAEwiSAEAAACASQQpAAAAADCJIAUAAAAAJhGkAAAAAMAkghQAAAAAmESQAgAAAACTCFIAAAAAYBJBCgAAAABMIkgBAAAAgEkEKQAAAAAwiSAFAAAAACYRpAAAAADAJIIUAAAAAJhEkAIAAAAAkwhSAAAAAGASQQoAAAAATCJIAQAAAIBJBCkAAAAAMIkgBQAAAAAmEaQAAAAAwCSCFAAAAACYRJACAAAAAJMIUgAAAABgEkEKAAAAAEwiSAEAAACASQQpAAAAADCJIAUAAAAAJhGkAAAAAMAkghQAAAAAmESQAgAAAACTCFIAAAAAYBJBCgAAAABMIkgBAAAAgEkEKQAAAAAwiSAFAAAAACYRpAAAAADAJIIUAAAAAJhEkAIAAAAAkwhSAAAAAGASQQoAAAAATCJIAQAAAIBJBCkAAAAAMIkgBQAAAAAm5ekgFRMTo1q1asnLy0tFihRRmzZtdODAAZs+hmEoMjJSRYsWlZubmxo2bKi9e/faqWIAAAAAD4I8HaTWrVunfv366eeff1ZcXJyuXbum8PBwXbhwwdpn/PjxmjhxoqZOnaotW7YoICBATZo00blz5+xYOQAAAID8zNHeBdzKihUrbJ7PmjVLRYoU0bZt2/T444/LMAxNnjxZw4YNU7t27SRJs2fPlr+/v+bNm6fevXvbo2wAAAAA+VyeHpG62dmzZyVJhQoVkiQdPnxYiYmJCg8Pt/ZxcXFRWFiYNm7cmOV2Ll++rOTkZJsHAAAAAGTXfROkDMPQkCFDVL9+fVWuXFmSlJiYKEny9/e36evv729dlpmYmBj5+PhYHyVKlMi9wgEAAADkO/dNkOrfv792796tL774IsMyi8Vi89wwjAxtN3rjjTd09uxZ6yMhISHH6wUAAACQf+Xpe6TSvfzyy1qyZInWr1+v4sWLW9sDAgIkXR+ZCgwMtLYnJSVlGKW6kYuLi1xcXHKvYAAAAAD5Wp4ekTIMQ/3799fChQu1evVqBQcH2ywPDg5WQECA4uLirG1XrlzRunXrVLdu3XtdLgAAAIAHRJ4ekerXr5/mzZunb7/9Vl5eXtb7nnx8fOTm5iaLxaJBgwYpOjpaISEhCgkJUXR0tNzd3dW5c2c7Vw8AAAAgv8rTQWrGjBmSpIYNG9q0z5o1SxEREZKkoUOHKiUlRX379tXp06dVu3ZtrVq1Sl5eXve4WgAAAAAPijwdpAzDuG0fi8WiyMhIRUZG5n5BAAAAAKA8fo8UAAAAAORFBCkAAAAAMClPX9oHAADMuRr1ir1LAIAHAiNSAAAAAGASQQoAAAAATCJIAQAAAIBJBCkAAAAAMIkgBQAAAAAmEaQAAAAAwCSCFAAAAACYxO9IAQAAAHmIJcpi7xLuijHSsHcJ9wQjUgAAAABgEkEKAAAAAEwiSAEAAACASQQpAAAAADCJIAUAAAAAJhGkAAAAAMAkghQAAAAAmESQAgAAAACTCFIAAAAAYBJBCgAAAABMIkgBAAAAgEkEKQAAAAAwiSAFAAAAACYRpAAAAADAJIIUAAAAAJhEkAIAAAAAkwhSAAAAAGASQQoAAAAATCJIAQAAAIBJBCkAAAAAMIkgBQAAAAAmEaQAAAAAwCSCFAAAAACYRJACAAAAAJMIUgAAAABgEkEKAAAAAEwiSAEAAACASQQpAAAAADCJIAUAAAAAJjnauwAAyClXo16xdwkAAOABwYgUAAAAAJhEkAIAAAAAkwhSAAAAAGASQQoAAAAATCJIAQAAAIBJBCkAAAAAMIkgBQAAAAAm8TtSAAAAyFf4XUHcC4xIAQAAAIBJBCkAAAAAMIkgBQAAAAAmEaQAAAAAwCSCFAAAAACYRJACAAAAAJMIUgAAAABgEkEKAAAAAEwiSAEAAACASQQpAAAAADCJIAUAAAAAJhGkAAAAAMAkghQAAAAAmESQAgAAAACTCFIAAAAAYBJBCgAAAABMIkgBAAAAgEkEKQAAAAAwiSAFAAAAACYRpAAAAADAJIIUAAAAAJhEkAIAAAAAkwhSAAAAAGASQQoAAAAATCJIAQAAAIBJ+SZITZ8+XcHBwXJ1dVWNGjX0008/2bskAAAAAPlUvghSX375pQYNGqRhw4Zpx44datCggZo1a6b4+Hh7lwYAAAAgH8oXQWrixInq2bOnevXqpYoVK2ry5MkqUaKEZsyYYe/SAAAAAORDjvYu4G5duXJF27Zt0+uvv27THh4ero0bN2a6zuXLl3X58mXr87Nnz0qSkpOTc6/QXHb10uXbd0Kuup8/P/kF54H9cR7YH+eB/XEe2B/ngX3d7+dAev2GYdyy330fpE6ePKnU1FT5+/vbtPv7+ysxMTHTdWJiYhQVFZWhvUSJErlSIx4MPmN97F0CYHecBwDnAZBfzoFz587Jxyfr13LfB6l0FovF5rlhGBna0r3xxhsaMmSI9XlaWppOnTolPz+/LNdB7kpOTlaJEiWUkJAgb29ve5cD2AXnAR50nAMA50FeYBiGzp07p6JFi96y330fpB566CE5ODhkGH1KSkrKMEqVzsXFRS4uLjZtvr6+uVUiTPD29uaPBh54nAd40HEOAJwH9narkah09/1kE87OzqpRo4bi4uJs2uPi4lS3bl07VQUAAAAgP7vvR6QkaciQIXr++edVs2ZN1alTRx999JHi4+P10ksv2bs0AAAAAPlQvghSHTt21L///qtRo0bp+PHjqly5spYtW6agoCB7l4ZscnFx0ciRIzNccgk8SDgP8KDjHAA4D+4nFuN28/oBAAAAAGzc9/dIAQAAAMC9RpACAAAAAJMIUgAAAABgEkEKAAAAAEwiSAEAAACASfli+nPcf/766y/NmDFDGzduVGJioiwWi/z9/VW3bl299NJLKlGihL1LBAAAALLEiBTuuQ0bNqhixYpatGiRQkND1bVrVz333HMKDQ3V4sWL9fDDD+t///ufvcsE7CohIUE9evSwdxlArkpJSdGGDRu0b9++DMsuXbqkOXPm2KEq4N7av3+/Zs2apd9++02S9Ntvv6lPnz7q0aOHVq9ebefqcCv8jhTuuVq1aql+/fqaNGlSpssHDx6sDRs2aMuWLfe4MiDv2LVrl6pXr67U1FR7lwLkit9//13h4eGKj4+XxWJRgwYN9MUXXygwMFCS9M8//6ho0aKcA8jXVqxYodatW8vT01MXL17UokWL1LVrV4WGhsowDK1bt04rV67UE088Ye9SkQmCFO45Nzc37dy5U+XLl890+W+//aZq1aopJSXlHlcG3DtLliy55fJDhw7plVde4Usk8q22bdvq2rVrmjVrls6cOaMhQ4bo119/1dq1a1WyZEmCFB4IdevW1RNPPKG3335b8+fPV9++fdWnTx+NGTNGkjRs2DBt2bJFq1atsnOlyAxBCvdc6dKlNXz4cHXv3j3T5bNmzdLo0aN16NChe1wZcO8UKFBAFotFt/oTbLFY+BKJfMvf318//PCDqlSpYm3r16+fli5dqjVr1sjDw4MghXzPx8dH27ZtU9myZZWWliYXFxdt3rxZ1atXlyT9+uuvaty4sRITE+1cKTLDZBO451599VW99NJL2rZtm5o0aSJ/f39ZLBYlJiYqLi5OH3/8sSZPnmzvMoFcFRgYqGnTpqlNmzaZLt+5c6dq1Khxb4sC7qGUlBQ5Otp+DZk2bZoKFCigsLAwzZs3z06VAfZRoEABubq6ytfX19rm5eWls2fP2q8o3BJBCvdc37595efnp0mTJunDDz+0/m+jg4ODatSooTlz5qhDhw52rhLIXTVq1ND27duzDFK3G60C7ncVKlTQ1q1bVbFiRZv2KVOmyDAMPfXUU3aqDLh3SpUqpT///FNly5aVJG3atEklS5a0Lk9ISLDeN4i8hyAFu+jYsaM6duyoq1ev6uTJk5Kkhx56SE5OTnauDLg3/vvf/+rChQtZLi9btqzWrFlzDysC7q22bdvqiy++0PPPP59h2dSpU5WWlqYPPvjADpUB906fPn1sLl+tXLmyzfLly5cz0UQexj1SAAAAAGASvyMFAAAAACYRpAAAAADAJIIUAAAAAJhEkAIA5CqLxaLFixfbu4wcsXbtWlksFp05c8bepQAA7IwgBQC4Y4mJiXr55ZdVunRpubi4qESJEmrVqpV+/PHHe1ZDREREltPI57S6devq+PHj8vHxueNtEMYAIH9g+nMAwB05cuSI6tWrJ19fX40fP16PPPKIrl69qpUrV6pfv3767bff7F1ijnN2dlZAQIC9ywAA5AGMSAEA7kjfvn1lsVj0yy+/qH379ipXrpwefvhhDRkyRD///LNN35MnT6pt27Zyd3dXSEiIlixZYrN83759at68uTw9PeXv76/nn3/e+htzkrRgwQJVqVJFbm5u8vPzU+PGjXXhwgVFRkZq9uzZ+vbbb2WxWGSxWLR27dpM623YsKH69++v/v37y9fXV35+fnrrrbdsfvh47ty5qlmzpry8vBQQEKDOnTsrKSnJuvzm0aTY2Fj5+vpq5cqVqlixojw9PfWf//xHx48fz7SGI0eOqFGjRpKkggULymKxKCIiQnPmzJGfn58uX75s0//pp59W165dJUmRkZGqWrWqPvzwQ5UoUULu7u565plnMoxszZo1SxUrVpSrq6sqVKig6dOnZ1oLAODuEKQAAKadOnVKK1asUL9+/eTh4ZFhua+vr83zqKgodejQQbt371bz5s3VpUsXnTp1SpJ0/PhxhYWFqWrVqtq6datWrFihf/75Rx06dLAu79Spk3r06KH9+/dr7dq1ateunQzD0KuvvqoOHTpYw8vx48dVt27dLOuePXu2HB0dtXnzZr3//vuaNGmSPv74Y+vyK1euaPTo0dq1a5cWL16sw4cPKyIi4pbH4uLFi3r33Xf12Wefaf369YqPj9err76aad8SJUrom2++kSQdOHBAx48f13vvvadnnnlGqampNgHz5MmTWrp0qbp3725t+/PPP/XVV1/pu+++04oVK7Rz507169fPunzmzJkaNmyYxowZo/379ys6OlrDhw/X7Nmzb/kaAAB3wAAAwKTNmzcbkoyFCxfetq8k46233rI+P3/+vGGxWIzly5cbhmEYw4cPN8LDw23WSUhIMCQZBw4cMLZt22ZIMo4cOZLp9rt162a0bt36tnWEhYUZFStWNNLS0qxtr732mlGxYsUs1/nll18MSca5c+cMwzCMNWvWGJKM06dPG4ZhGLNmzTIkGX/++ad1nWnTphn+/v5ZbvPmbaTr06eP0axZM+vzyZMnG6VLl7bWO3LkSMPBwcFISEiw9lm+fLlRoEAB4/jx44ZhGEaJEiWMefPm2Wx39OjRRp06dbKsBwBwZxiRAgCYZvz/y+EsFku2+j/yyCPWf3t4eMjLy8t6ydy2bdu0Zs0aeXp6Wh8VKlSQJB08eFChoaF68sknVaVKFT3zzDOaOXOmTp8+fUd1P/bYYzY116lTR3/88YdSU1MlSTt27FDr1q0VFBQkLy8vNWzYUJIUHx+f5Tbd3d1VpkwZ6/PAwECbywGz64UXXtCqVav0999/S7p+iV5ERIRNvSVLllTx4sVt6k9LS9OBAwd04sQJJSQkqGfPnjbH8u2339bBgwdN1wMAuDUmmwAAmBYSEiKLxaL9+/dna8Y8Jycnm+cWi0VpaWmSpLS0NLVq1Urjxo3LsF5gYKAcHBwUFxenjRs3atWqVZoyZYqGDRumzZs3Kzg4OEdejyRduHBB4eHhCg8P19y5c1W4cGHFx8eradOmunLliqnXZtxw31V2VatWTaGhoZozZ46aNm2qPXv26LvvvrvlOukh68bjOXPmTNWuXdumn4ODg+l6AAC3xogUAMC0QoUKqWnTppo2bZouXLiQYbmZqb2rV6+uvXv3qlSpUipbtqzNI/3+K4vFonr16ikqKko7duyQs7OzFi1aJOn6THrpI0q3c/MkGD///LNCQkLk4OCg3377TSdPntTYsWPVoEEDVahQ4Y5Glm7H2dlZkjKtuVevXpo1a5Y+/fRTNW7cWCVKlLBZHh8fr2PHjlmfb9q0SQUKFFC5cuXk7++vYsWK6dChQxmOY04GTgDAdQQpAMAdmT59ulJTU/Xoo4/qm2++0R9//KH9+/fr/fffV506dbK9nX79+unUqVPq1KmTfvnlFx06dEirVq1Sjx49lJqaqs2bNys6Olpbt25VfHy8Fi5cqBMnTqhixYqSpFKlSmn37t06cOCATp48qatXr2a5r4SEBA0ZMkQHDhzQF198oSlTpmjgwIGSrl825+zsrClTpujQoUNasmSJRo8efXcHKRNBQUGyWCxaunSpTpw4ofPnz1uXdenSRX///bdmzpypHj16ZFjX1dVV3bp1065du/TTTz9pwIAB6tChg3VK9sjISMXExOi9997T77//rj179mjWrFmaOHFijr8OAHjQEaQAAHckODhY27dvV6NGjfTKK6+ocuXKatKkiX788UfNmDEj29spWrSo/ve//yk1NVVNmzZV5cqVNXDgQPn4+KhAgQLy9vbW+vXr1bx5c5UrV05vvfWWJkyYoGbNmkm6fm9R+fLlVbNmTRUuXFj/+9//stxX165dlZKSokcffVT9+vXTyy+/rBdffFGSVLhwYcXGxurrr79WpUqVNHbsWL377rt3d5AyUaxYMUVFRen111+Xv7+/+vfvb13m7e2tp59+Wp6enpleMlm2bFm1a9dOzZs3V3h4uCpXrmwzvXmvXr308ccfKzY2VlWqVFFYWJhiY2MZkQKAXGAx7uRCbgAA7jMNGzZU1apVNXnyZHuXcktNmjRRxYoV9f7779u0R0ZGavHixdq5c6d9CgMA2GCyCQAA8oBTp05p1apVWr16taZOnWrvcgAAt0GQAgAgD6hevbpOnz6tcePGqXz58vYuBwBwG1zaBwAAAAAmMdkEAAAAAJhEkAIAAAAAkwhSAAAAAGASQQoAAAAATCJIAQAAAIBJBCkAAAAAMIkgBQAAAAAmEaQAAAAAwCSCFAAAAACY9P8ABXuviT30DKwAAAAASUVORK5CYII=",
      "text/plain": [
       "<Figure size 1000x600 with 1 Axes>"
      ]
     },
     "metadata": {},
     "output_type": "display_data"
    }
   ],
   "source": [
    "pd.crosstab(df.cp,df.target).plot(kind=\"bar\",figsize=(10,6),color=[\"salmon\",\"green\"])\n",
    "plt.title(\"Heart Disease Frequency per chest pain type.\")\n",
    "plt.xlabel(\"Chest pain type\")\n",
    "plt.ylabel(\"Amount\")\n",
    "plt.legend([\"No disease\",\"Disease\"])"
   ]
  },
  {
   "cell_type": "code",
   "execution_count": 25,
   "id": "7afeb6dd",
   "metadata": {},
   "outputs": [
    {
     "data": {
      "text/html": [
       "<div>\n",
       "<style scoped>\n",
       "    .dataframe tbody tr th:only-of-type {\n",
       "        vertical-align: middle;\n",
       "    }\n",
       "\n",
       "    .dataframe tbody tr th {\n",
       "        vertical-align: top;\n",
       "    }\n",
       "\n",
       "    .dataframe thead th {\n",
       "        text-align: right;\n",
       "    }\n",
       "</style>\n",
       "<table border=\"1\" class=\"dataframe\">\n",
       "  <thead>\n",
       "    <tr style=\"text-align: right;\">\n",
       "      <th></th>\n",
       "      <th>age</th>\n",
       "      <th>sex</th>\n",
       "      <th>cp</th>\n",
       "      <th>trestbps</th>\n",
       "      <th>chol</th>\n",
       "      <th>fbs</th>\n",
       "      <th>restecg</th>\n",
       "      <th>thalach</th>\n",
       "      <th>exang</th>\n",
       "      <th>oldpeak</th>\n",
       "      <th>slope</th>\n",
       "      <th>ca</th>\n",
       "      <th>thal</th>\n",
       "      <th>target</th>\n",
       "    </tr>\n",
       "  </thead>\n",
       "  <tbody>\n",
       "    <tr>\n",
       "      <th>0</th>\n",
       "      <td>63</td>\n",
       "      <td>1</td>\n",
       "      <td>3</td>\n",
       "      <td>145</td>\n",
       "      <td>233</td>\n",
       "      <td>1</td>\n",
       "      <td>0</td>\n",
       "      <td>150</td>\n",
       "      <td>0</td>\n",
       "      <td>2.3</td>\n",
       "      <td>0</td>\n",
       "      <td>0</td>\n",
       "      <td>1</td>\n",
       "      <td>1</td>\n",
       "    </tr>\n",
       "    <tr>\n",
       "      <th>1</th>\n",
       "      <td>37</td>\n",
       "      <td>1</td>\n",
       "      <td>2</td>\n",
       "      <td>130</td>\n",
       "      <td>250</td>\n",
       "      <td>0</td>\n",
       "      <td>1</td>\n",
       "      <td>187</td>\n",
       "      <td>0</td>\n",
       "      <td>3.5</td>\n",
       "      <td>0</td>\n",
       "      <td>0</td>\n",
       "      <td>2</td>\n",
       "      <td>1</td>\n",
       "    </tr>\n",
       "    <tr>\n",
       "      <th>2</th>\n",
       "      <td>41</td>\n",
       "      <td>0</td>\n",
       "      <td>1</td>\n",
       "      <td>130</td>\n",
       "      <td>204</td>\n",
       "      <td>0</td>\n",
       "      <td>0</td>\n",
       "      <td>172</td>\n",
       "      <td>0</td>\n",
       "      <td>1.4</td>\n",
       "      <td>2</td>\n",
       "      <td>0</td>\n",
       "      <td>2</td>\n",
       "      <td>1</td>\n",
       "    </tr>\n",
       "    <tr>\n",
       "      <th>3</th>\n",
       "      <td>56</td>\n",
       "      <td>1</td>\n",
       "      <td>1</td>\n",
       "      <td>120</td>\n",
       "      <td>236</td>\n",
       "      <td>0</td>\n",
       "      <td>1</td>\n",
       "      <td>178</td>\n",
       "      <td>0</td>\n",
       "      <td>0.8</td>\n",
       "      <td>2</td>\n",
       "      <td>0</td>\n",
       "      <td>2</td>\n",
       "      <td>1</td>\n",
       "    </tr>\n",
       "    <tr>\n",
       "      <th>4</th>\n",
       "      <td>57</td>\n",
       "      <td>0</td>\n",
       "      <td>0</td>\n",
       "      <td>120</td>\n",
       "      <td>354</td>\n",
       "      <td>0</td>\n",
       "      <td>1</td>\n",
       "      <td>163</td>\n",
       "      <td>1</td>\n",
       "      <td>0.6</td>\n",
       "      <td>2</td>\n",
       "      <td>0</td>\n",
       "      <td>2</td>\n",
       "      <td>1</td>\n",
       "    </tr>\n",
       "  </tbody>\n",
       "</table>\n",
       "</div>"
      ],
      "text/plain": [
       "   age  sex  cp  trestbps  chol  fbs  restecg  thalach  exang  oldpeak  slope  \\\n",
       "0   63    1   3       145   233    1        0      150      0      2.3      0   \n",
       "1   37    1   2       130   250    0        1      187      0      3.5      0   \n",
       "2   41    0   1       130   204    0        0      172      0      1.4      2   \n",
       "3   56    1   1       120   236    0        1      178      0      0.8      2   \n",
       "4   57    0   0       120   354    0        1      163      1      0.6      2   \n",
       "\n",
       "   ca  thal  target  \n",
       "0   0     1       1  \n",
       "1   0     2       1  \n",
       "2   0     2       1  \n",
       "3   0     2       1  \n",
       "4   0     2       1  "
      ]
     },
     "execution_count": 25,
     "metadata": {},
     "output_type": "execute_result"
    }
   ],
   "source": [
    "df.head()"
   ]
  },
  {
   "attachments": {},
   "cell_type": "markdown",
   "id": "cc875ed2",
   "metadata": {},
   "source": [
    "# Make corealtion matrix"
   ]
  },
  {
   "cell_type": "code",
   "execution_count": 26,
   "id": "3d8f5624",
   "metadata": {},
   "outputs": [
    {
     "data": {
      "text/html": [
       "<div>\n",
       "<style scoped>\n",
       "    .dataframe tbody tr th:only-of-type {\n",
       "        vertical-align: middle;\n",
       "    }\n",
       "\n",
       "    .dataframe tbody tr th {\n",
       "        vertical-align: top;\n",
       "    }\n",
       "\n",
       "    .dataframe thead th {\n",
       "        text-align: right;\n",
       "    }\n",
       "</style>\n",
       "<table border=\"1\" class=\"dataframe\">\n",
       "  <thead>\n",
       "    <tr style=\"text-align: right;\">\n",
       "      <th></th>\n",
       "      <th>age</th>\n",
       "      <th>sex</th>\n",
       "      <th>cp</th>\n",
       "      <th>trestbps</th>\n",
       "      <th>chol</th>\n",
       "      <th>fbs</th>\n",
       "      <th>restecg</th>\n",
       "      <th>thalach</th>\n",
       "      <th>exang</th>\n",
       "      <th>oldpeak</th>\n",
       "      <th>slope</th>\n",
       "      <th>ca</th>\n",
       "      <th>thal</th>\n",
       "      <th>target</th>\n",
       "    </tr>\n",
       "  </thead>\n",
       "  <tbody>\n",
       "    <tr>\n",
       "      <th>age</th>\n",
       "      <td>1.000000</td>\n",
       "      <td>-0.098447</td>\n",
       "      <td>-0.068653</td>\n",
       "      <td>0.279351</td>\n",
       "      <td>0.213678</td>\n",
       "      <td>0.121308</td>\n",
       "      <td>-0.116211</td>\n",
       "      <td>-0.398522</td>\n",
       "      <td>0.096801</td>\n",
       "      <td>0.210013</td>\n",
       "      <td>-0.168814</td>\n",
       "      <td>0.276326</td>\n",
       "      <td>0.068001</td>\n",
       "      <td>-0.225439</td>\n",
       "    </tr>\n",
       "    <tr>\n",
       "      <th>sex</th>\n",
       "      <td>-0.098447</td>\n",
       "      <td>1.000000</td>\n",
       "      <td>-0.049353</td>\n",
       "      <td>-0.056769</td>\n",
       "      <td>-0.197912</td>\n",
       "      <td>0.045032</td>\n",
       "      <td>-0.058196</td>\n",
       "      <td>-0.044020</td>\n",
       "      <td>0.141664</td>\n",
       "      <td>0.096093</td>\n",
       "      <td>-0.030711</td>\n",
       "      <td>0.118261</td>\n",
       "      <td>0.210041</td>\n",
       "      <td>-0.280937</td>\n",
       "    </tr>\n",
       "    <tr>\n",
       "      <th>cp</th>\n",
       "      <td>-0.068653</td>\n",
       "      <td>-0.049353</td>\n",
       "      <td>1.000000</td>\n",
       "      <td>0.047608</td>\n",
       "      <td>-0.076904</td>\n",
       "      <td>0.094444</td>\n",
       "      <td>0.044421</td>\n",
       "      <td>0.295762</td>\n",
       "      <td>-0.394280</td>\n",
       "      <td>-0.149230</td>\n",
       "      <td>0.119717</td>\n",
       "      <td>-0.181053</td>\n",
       "      <td>-0.161736</td>\n",
       "      <td>0.433798</td>\n",
       "    </tr>\n",
       "    <tr>\n",
       "      <th>trestbps</th>\n",
       "      <td>0.279351</td>\n",
       "      <td>-0.056769</td>\n",
       "      <td>0.047608</td>\n",
       "      <td>1.000000</td>\n",
       "      <td>0.123174</td>\n",
       "      <td>0.177531</td>\n",
       "      <td>-0.114103</td>\n",
       "      <td>-0.046698</td>\n",
       "      <td>0.067616</td>\n",
       "      <td>0.193216</td>\n",
       "      <td>-0.121475</td>\n",
       "      <td>0.101389</td>\n",
       "      <td>0.062210</td>\n",
       "      <td>-0.144931</td>\n",
       "    </tr>\n",
       "    <tr>\n",
       "      <th>chol</th>\n",
       "      <td>0.213678</td>\n",
       "      <td>-0.197912</td>\n",
       "      <td>-0.076904</td>\n",
       "      <td>0.123174</td>\n",
       "      <td>1.000000</td>\n",
       "      <td>0.013294</td>\n",
       "      <td>-0.151040</td>\n",
       "      <td>-0.009940</td>\n",
       "      <td>0.067023</td>\n",
       "      <td>0.053952</td>\n",
       "      <td>-0.004038</td>\n",
       "      <td>0.070511</td>\n",
       "      <td>0.098803</td>\n",
       "      <td>-0.085239</td>\n",
       "    </tr>\n",
       "    <tr>\n",
       "      <th>fbs</th>\n",
       "      <td>0.121308</td>\n",
       "      <td>0.045032</td>\n",
       "      <td>0.094444</td>\n",
       "      <td>0.177531</td>\n",
       "      <td>0.013294</td>\n",
       "      <td>1.000000</td>\n",
       "      <td>-0.084189</td>\n",
       "      <td>-0.008567</td>\n",
       "      <td>0.025665</td>\n",
       "      <td>0.005747</td>\n",
       "      <td>-0.059894</td>\n",
       "      <td>0.137979</td>\n",
       "      <td>-0.032019</td>\n",
       "      <td>-0.028046</td>\n",
       "    </tr>\n",
       "    <tr>\n",
       "      <th>restecg</th>\n",
       "      <td>-0.116211</td>\n",
       "      <td>-0.058196</td>\n",
       "      <td>0.044421</td>\n",
       "      <td>-0.114103</td>\n",
       "      <td>-0.151040</td>\n",
       "      <td>-0.084189</td>\n",
       "      <td>1.000000</td>\n",
       "      <td>0.044123</td>\n",
       "      <td>-0.070733</td>\n",
       "      <td>-0.058770</td>\n",
       "      <td>0.093045</td>\n",
       "      <td>-0.072042</td>\n",
       "      <td>-0.011981</td>\n",
       "      <td>0.137230</td>\n",
       "    </tr>\n",
       "    <tr>\n",
       "      <th>thalach</th>\n",
       "      <td>-0.398522</td>\n",
       "      <td>-0.044020</td>\n",
       "      <td>0.295762</td>\n",
       "      <td>-0.046698</td>\n",
       "      <td>-0.009940</td>\n",
       "      <td>-0.008567</td>\n",
       "      <td>0.044123</td>\n",
       "      <td>1.000000</td>\n",
       "      <td>-0.378812</td>\n",
       "      <td>-0.344187</td>\n",
       "      <td>0.386784</td>\n",
       "      <td>-0.213177</td>\n",
       "      <td>-0.096439</td>\n",
       "      <td>0.421741</td>\n",
       "    </tr>\n",
       "    <tr>\n",
       "      <th>exang</th>\n",
       "      <td>0.096801</td>\n",
       "      <td>0.141664</td>\n",
       "      <td>-0.394280</td>\n",
       "      <td>0.067616</td>\n",
       "      <td>0.067023</td>\n",
       "      <td>0.025665</td>\n",
       "      <td>-0.070733</td>\n",
       "      <td>-0.378812</td>\n",
       "      <td>1.000000</td>\n",
       "      <td>0.288223</td>\n",
       "      <td>-0.257748</td>\n",
       "      <td>0.115739</td>\n",
       "      <td>0.206754</td>\n",
       "      <td>-0.436757</td>\n",
       "    </tr>\n",
       "    <tr>\n",
       "      <th>oldpeak</th>\n",
       "      <td>0.210013</td>\n",
       "      <td>0.096093</td>\n",
       "      <td>-0.149230</td>\n",
       "      <td>0.193216</td>\n",
       "      <td>0.053952</td>\n",
       "      <td>0.005747</td>\n",
       "      <td>-0.058770</td>\n",
       "      <td>-0.344187</td>\n",
       "      <td>0.288223</td>\n",
       "      <td>1.000000</td>\n",
       "      <td>-0.577537</td>\n",
       "      <td>0.222682</td>\n",
       "      <td>0.210244</td>\n",
       "      <td>-0.430696</td>\n",
       "    </tr>\n",
       "    <tr>\n",
       "      <th>slope</th>\n",
       "      <td>-0.168814</td>\n",
       "      <td>-0.030711</td>\n",
       "      <td>0.119717</td>\n",
       "      <td>-0.121475</td>\n",
       "      <td>-0.004038</td>\n",
       "      <td>-0.059894</td>\n",
       "      <td>0.093045</td>\n",
       "      <td>0.386784</td>\n",
       "      <td>-0.257748</td>\n",
       "      <td>-0.577537</td>\n",
       "      <td>1.000000</td>\n",
       "      <td>-0.080155</td>\n",
       "      <td>-0.104764</td>\n",
       "      <td>0.345877</td>\n",
       "    </tr>\n",
       "    <tr>\n",
       "      <th>ca</th>\n",
       "      <td>0.276326</td>\n",
       "      <td>0.118261</td>\n",
       "      <td>-0.181053</td>\n",
       "      <td>0.101389</td>\n",
       "      <td>0.070511</td>\n",
       "      <td>0.137979</td>\n",
       "      <td>-0.072042</td>\n",
       "      <td>-0.213177</td>\n",
       "      <td>0.115739</td>\n",
       "      <td>0.222682</td>\n",
       "      <td>-0.080155</td>\n",
       "      <td>1.000000</td>\n",
       "      <td>0.151832</td>\n",
       "      <td>-0.391724</td>\n",
       "    </tr>\n",
       "    <tr>\n",
       "      <th>thal</th>\n",
       "      <td>0.068001</td>\n",
       "      <td>0.210041</td>\n",
       "      <td>-0.161736</td>\n",
       "      <td>0.062210</td>\n",
       "      <td>0.098803</td>\n",
       "      <td>-0.032019</td>\n",
       "      <td>-0.011981</td>\n",
       "      <td>-0.096439</td>\n",
       "      <td>0.206754</td>\n",
       "      <td>0.210244</td>\n",
       "      <td>-0.104764</td>\n",
       "      <td>0.151832</td>\n",
       "      <td>1.000000</td>\n",
       "      <td>-0.344029</td>\n",
       "    </tr>\n",
       "    <tr>\n",
       "      <th>target</th>\n",
       "      <td>-0.225439</td>\n",
       "      <td>-0.280937</td>\n",
       "      <td>0.433798</td>\n",
       "      <td>-0.144931</td>\n",
       "      <td>-0.085239</td>\n",
       "      <td>-0.028046</td>\n",
       "      <td>0.137230</td>\n",
       "      <td>0.421741</td>\n",
       "      <td>-0.436757</td>\n",
       "      <td>-0.430696</td>\n",
       "      <td>0.345877</td>\n",
       "      <td>-0.391724</td>\n",
       "      <td>-0.344029</td>\n",
       "      <td>1.000000</td>\n",
       "    </tr>\n",
       "  </tbody>\n",
       "</table>\n",
       "</div>"
      ],
      "text/plain": [
       "               age       sex        cp  trestbps      chol       fbs  \\\n",
       "age       1.000000 -0.098447 -0.068653  0.279351  0.213678  0.121308   \n",
       "sex      -0.098447  1.000000 -0.049353 -0.056769 -0.197912  0.045032   \n",
       "cp       -0.068653 -0.049353  1.000000  0.047608 -0.076904  0.094444   \n",
       "trestbps  0.279351 -0.056769  0.047608  1.000000  0.123174  0.177531   \n",
       "chol      0.213678 -0.197912 -0.076904  0.123174  1.000000  0.013294   \n",
       "fbs       0.121308  0.045032  0.094444  0.177531  0.013294  1.000000   \n",
       "restecg  -0.116211 -0.058196  0.044421 -0.114103 -0.151040 -0.084189   \n",
       "thalach  -0.398522 -0.044020  0.295762 -0.046698 -0.009940 -0.008567   \n",
       "exang     0.096801  0.141664 -0.394280  0.067616  0.067023  0.025665   \n",
       "oldpeak   0.210013  0.096093 -0.149230  0.193216  0.053952  0.005747   \n",
       "slope    -0.168814 -0.030711  0.119717 -0.121475 -0.004038 -0.059894   \n",
       "ca        0.276326  0.118261 -0.181053  0.101389  0.070511  0.137979   \n",
       "thal      0.068001  0.210041 -0.161736  0.062210  0.098803 -0.032019   \n",
       "target   -0.225439 -0.280937  0.433798 -0.144931 -0.085239 -0.028046   \n",
       "\n",
       "           restecg   thalach     exang   oldpeak     slope        ca  \\\n",
       "age      -0.116211 -0.398522  0.096801  0.210013 -0.168814  0.276326   \n",
       "sex      -0.058196 -0.044020  0.141664  0.096093 -0.030711  0.118261   \n",
       "cp        0.044421  0.295762 -0.394280 -0.149230  0.119717 -0.181053   \n",
       "trestbps -0.114103 -0.046698  0.067616  0.193216 -0.121475  0.101389   \n",
       "chol     -0.151040 -0.009940  0.067023  0.053952 -0.004038  0.070511   \n",
       "fbs      -0.084189 -0.008567  0.025665  0.005747 -0.059894  0.137979   \n",
       "restecg   1.000000  0.044123 -0.070733 -0.058770  0.093045 -0.072042   \n",
       "thalach   0.044123  1.000000 -0.378812 -0.344187  0.386784 -0.213177   \n",
       "exang    -0.070733 -0.378812  1.000000  0.288223 -0.257748  0.115739   \n",
       "oldpeak  -0.058770 -0.344187  0.288223  1.000000 -0.577537  0.222682   \n",
       "slope     0.093045  0.386784 -0.257748 -0.577537  1.000000 -0.080155   \n",
       "ca       -0.072042 -0.213177  0.115739  0.222682 -0.080155  1.000000   \n",
       "thal     -0.011981 -0.096439  0.206754  0.210244 -0.104764  0.151832   \n",
       "target    0.137230  0.421741 -0.436757 -0.430696  0.345877 -0.391724   \n",
       "\n",
       "              thal    target  \n",
       "age       0.068001 -0.225439  \n",
       "sex       0.210041 -0.280937  \n",
       "cp       -0.161736  0.433798  \n",
       "trestbps  0.062210 -0.144931  \n",
       "chol      0.098803 -0.085239  \n",
       "fbs      -0.032019 -0.028046  \n",
       "restecg  -0.011981  0.137230  \n",
       "thalach  -0.096439  0.421741  \n",
       "exang     0.206754 -0.436757  \n",
       "oldpeak   0.210244 -0.430696  \n",
       "slope    -0.104764  0.345877  \n",
       "ca        0.151832 -0.391724  \n",
       "thal      1.000000 -0.344029  \n",
       "target   -0.344029  1.000000  "
      ]
     },
     "execution_count": 26,
     "metadata": {},
     "output_type": "execute_result"
    }
   ],
   "source": [
    "df.corr()"
   ]
  },
  {
   "cell_type": "code",
   "execution_count": 27,
   "id": "81a993e4",
   "metadata": {},
   "outputs": [
    {
     "data": {
      "text/plain": [
       "(14.5, -0.5)"
      ]
     },
     "execution_count": 27,
     "metadata": {},
     "output_type": "execute_result"
    },
    {
     "data": {
      "image/png": "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",
      "text/plain": [
       "<Figure size 1500x1000 with 2 Axes>"
      ]
     },
     "metadata": {},
     "output_type": "display_data"
    }
   ],
   "source": [
    "corr_matrix=df.corr()\n",
    "fig,ax=plt.subplots(figsize=(15,10))\n",
    "ax=sns.heatmap(corr_matrix,annot=True,linewidth=0.5,fmt=\".2f\",cmap=\"YlGnBu\")\n",
    "bottom,top=ax.get_ylim()\n",
    "ax.set_ylim(bottom+0.5,top-0.5)"
   ]
  },
  {
   "attachments": {},
   "cell_type": "markdown",
   "id": "964d743f",
   "metadata": {},
   "source": [
    "# Modelling"
   ]
  },
  {
   "cell_type": "code",
   "execution_count": 28,
   "id": "38a4bb67",
   "metadata": {},
   "outputs": [
    {
     "data": {
      "text/html": [
       "<div>\n",
       "<style scoped>\n",
       "    .dataframe tbody tr th:only-of-type {\n",
       "        vertical-align: middle;\n",
       "    }\n",
       "\n",
       "    .dataframe tbody tr th {\n",
       "        vertical-align: top;\n",
       "    }\n",
       "\n",
       "    .dataframe thead th {\n",
       "        text-align: right;\n",
       "    }\n",
       "</style>\n",
       "<table border=\"1\" class=\"dataframe\">\n",
       "  <thead>\n",
       "    <tr style=\"text-align: right;\">\n",
       "      <th></th>\n",
       "      <th>age</th>\n",
       "      <th>sex</th>\n",
       "      <th>cp</th>\n",
       "      <th>trestbps</th>\n",
       "      <th>chol</th>\n",
       "      <th>fbs</th>\n",
       "      <th>restecg</th>\n",
       "      <th>thalach</th>\n",
       "      <th>exang</th>\n",
       "      <th>oldpeak</th>\n",
       "      <th>slope</th>\n",
       "      <th>ca</th>\n",
       "      <th>thal</th>\n",
       "      <th>target</th>\n",
       "    </tr>\n",
       "  </thead>\n",
       "  <tbody>\n",
       "    <tr>\n",
       "      <th>0</th>\n",
       "      <td>63</td>\n",
       "      <td>1</td>\n",
       "      <td>3</td>\n",
       "      <td>145</td>\n",
       "      <td>233</td>\n",
       "      <td>1</td>\n",
       "      <td>0</td>\n",
       "      <td>150</td>\n",
       "      <td>0</td>\n",
       "      <td>2.3</td>\n",
       "      <td>0</td>\n",
       "      <td>0</td>\n",
       "      <td>1</td>\n",
       "      <td>1</td>\n",
       "    </tr>\n",
       "    <tr>\n",
       "      <th>1</th>\n",
       "      <td>37</td>\n",
       "      <td>1</td>\n",
       "      <td>2</td>\n",
       "      <td>130</td>\n",
       "      <td>250</td>\n",
       "      <td>0</td>\n",
       "      <td>1</td>\n",
       "      <td>187</td>\n",
       "      <td>0</td>\n",
       "      <td>3.5</td>\n",
       "      <td>0</td>\n",
       "      <td>0</td>\n",
       "      <td>2</td>\n",
       "      <td>1</td>\n",
       "    </tr>\n",
       "    <tr>\n",
       "      <th>2</th>\n",
       "      <td>41</td>\n",
       "      <td>0</td>\n",
       "      <td>1</td>\n",
       "      <td>130</td>\n",
       "      <td>204</td>\n",
       "      <td>0</td>\n",
       "      <td>0</td>\n",
       "      <td>172</td>\n",
       "      <td>0</td>\n",
       "      <td>1.4</td>\n",
       "      <td>2</td>\n",
       "      <td>0</td>\n",
       "      <td>2</td>\n",
       "      <td>1</td>\n",
       "    </tr>\n",
       "    <tr>\n",
       "      <th>3</th>\n",
       "      <td>56</td>\n",
       "      <td>1</td>\n",
       "      <td>1</td>\n",
       "      <td>120</td>\n",
       "      <td>236</td>\n",
       "      <td>0</td>\n",
       "      <td>1</td>\n",
       "      <td>178</td>\n",
       "      <td>0</td>\n",
       "      <td>0.8</td>\n",
       "      <td>2</td>\n",
       "      <td>0</td>\n",
       "      <td>2</td>\n",
       "      <td>1</td>\n",
       "    </tr>\n",
       "    <tr>\n",
       "      <th>4</th>\n",
       "      <td>57</td>\n",
       "      <td>0</td>\n",
       "      <td>0</td>\n",
       "      <td>120</td>\n",
       "      <td>354</td>\n",
       "      <td>0</td>\n",
       "      <td>1</td>\n",
       "      <td>163</td>\n",
       "      <td>1</td>\n",
       "      <td>0.6</td>\n",
       "      <td>2</td>\n",
       "      <td>0</td>\n",
       "      <td>2</td>\n",
       "      <td>1</td>\n",
       "    </tr>\n",
       "  </tbody>\n",
       "</table>\n",
       "</div>"
      ],
      "text/plain": [
       "   age  sex  cp  trestbps  chol  fbs  restecg  thalach  exang  oldpeak  slope  \\\n",
       "0   63    1   3       145   233    1        0      150      0      2.3      0   \n",
       "1   37    1   2       130   250    0        1      187      0      3.5      0   \n",
       "2   41    0   1       130   204    0        0      172      0      1.4      2   \n",
       "3   56    1   1       120   236    0        1      178      0      0.8      2   \n",
       "4   57    0   0       120   354    0        1      163      1      0.6      2   \n",
       "\n",
       "   ca  thal  target  \n",
       "0   0     1       1  \n",
       "1   0     2       1  \n",
       "2   0     2       1  \n",
       "3   0     2       1  \n",
       "4   0     2       1  "
      ]
     },
     "execution_count": 28,
     "metadata": {},
     "output_type": "execute_result"
    }
   ],
   "source": [
    "df.head()"
   ]
  },
  {
   "cell_type": "code",
   "execution_count": 29,
   "id": "07cc3fae",
   "metadata": {},
   "outputs": [],
   "source": [
    "X=df.drop(\"target\",axis=1)\n",
    "Y=df[\"target\"]"
   ]
  },
  {
   "cell_type": "code",
   "execution_count": 30,
   "id": "4c555229",
   "metadata": {},
   "outputs": [],
   "source": [
    "np.random.seed(42)\n",
    "X_train,X_test,Y_train,Y_test=train_test_split(X,Y,test_size=0.2)"
   ]
  },
  {
   "cell_type": "code",
   "execution_count": 31,
   "id": "1f81421f",
   "metadata": {},
   "outputs": [
    {
     "data": {
      "text/html": [
       "<div>\n",
       "<style scoped>\n",
       "    .dataframe tbody tr th:only-of-type {\n",
       "        vertical-align: middle;\n",
       "    }\n",
       "\n",
       "    .dataframe tbody tr th {\n",
       "        vertical-align: top;\n",
       "    }\n",
       "\n",
       "    .dataframe thead th {\n",
       "        text-align: right;\n",
       "    }\n",
       "</style>\n",
       "<table border=\"1\" class=\"dataframe\">\n",
       "  <thead>\n",
       "    <tr style=\"text-align: right;\">\n",
       "      <th></th>\n",
       "      <th>age</th>\n",
       "      <th>sex</th>\n",
       "      <th>cp</th>\n",
       "      <th>trestbps</th>\n",
       "      <th>chol</th>\n",
       "      <th>fbs</th>\n",
       "      <th>restecg</th>\n",
       "      <th>thalach</th>\n",
       "      <th>exang</th>\n",
       "      <th>oldpeak</th>\n",
       "      <th>slope</th>\n",
       "      <th>ca</th>\n",
       "      <th>thal</th>\n",
       "    </tr>\n",
       "  </thead>\n",
       "  <tbody>\n",
       "    <tr>\n",
       "      <th>132</th>\n",
       "      <td>42</td>\n",
       "      <td>1</td>\n",
       "      <td>1</td>\n",
       "      <td>120</td>\n",
       "      <td>295</td>\n",
       "      <td>0</td>\n",
       "      <td>1</td>\n",
       "      <td>162</td>\n",
       "      <td>0</td>\n",
       "      <td>0.0</td>\n",
       "      <td>2</td>\n",
       "      <td>0</td>\n",
       "      <td>2</td>\n",
       "    </tr>\n",
       "    <tr>\n",
       "      <th>202</th>\n",
       "      <td>58</td>\n",
       "      <td>1</td>\n",
       "      <td>0</td>\n",
       "      <td>150</td>\n",
       "      <td>270</td>\n",
       "      <td>0</td>\n",
       "      <td>0</td>\n",
       "      <td>111</td>\n",
       "      <td>1</td>\n",
       "      <td>0.8</td>\n",
       "      <td>2</td>\n",
       "      <td>0</td>\n",
       "      <td>3</td>\n",
       "    </tr>\n",
       "    <tr>\n",
       "      <th>196</th>\n",
       "      <td>46</td>\n",
       "      <td>1</td>\n",
       "      <td>2</td>\n",
       "      <td>150</td>\n",
       "      <td>231</td>\n",
       "      <td>0</td>\n",
       "      <td>1</td>\n",
       "      <td>147</td>\n",
       "      <td>0</td>\n",
       "      <td>3.6</td>\n",
       "      <td>1</td>\n",
       "      <td>0</td>\n",
       "      <td>2</td>\n",
       "    </tr>\n",
       "    <tr>\n",
       "      <th>75</th>\n",
       "      <td>55</td>\n",
       "      <td>0</td>\n",
       "      <td>1</td>\n",
       "      <td>135</td>\n",
       "      <td>250</td>\n",
       "      <td>0</td>\n",
       "      <td>0</td>\n",
       "      <td>161</td>\n",
       "      <td>0</td>\n",
       "      <td>1.4</td>\n",
       "      <td>1</td>\n",
       "      <td>0</td>\n",
       "      <td>2</td>\n",
       "    </tr>\n",
       "    <tr>\n",
       "      <th>176</th>\n",
       "      <td>60</td>\n",
       "      <td>1</td>\n",
       "      <td>0</td>\n",
       "      <td>117</td>\n",
       "      <td>230</td>\n",
       "      <td>1</td>\n",
       "      <td>1</td>\n",
       "      <td>160</td>\n",
       "      <td>1</td>\n",
       "      <td>1.4</td>\n",
       "      <td>2</td>\n",
       "      <td>2</td>\n",
       "      <td>3</td>\n",
       "    </tr>\n",
       "    <tr>\n",
       "      <th>...</th>\n",
       "      <td>...</td>\n",
       "      <td>...</td>\n",
       "      <td>...</td>\n",
       "      <td>...</td>\n",
       "      <td>...</td>\n",
       "      <td>...</td>\n",
       "      <td>...</td>\n",
       "      <td>...</td>\n",
       "      <td>...</td>\n",
       "      <td>...</td>\n",
       "      <td>...</td>\n",
       "      <td>...</td>\n",
       "      <td>...</td>\n",
       "    </tr>\n",
       "    <tr>\n",
       "      <th>188</th>\n",
       "      <td>50</td>\n",
       "      <td>1</td>\n",
       "      <td>2</td>\n",
       "      <td>140</td>\n",
       "      <td>233</td>\n",
       "      <td>0</td>\n",
       "      <td>1</td>\n",
       "      <td>163</td>\n",
       "      <td>0</td>\n",
       "      <td>0.6</td>\n",
       "      <td>1</td>\n",
       "      <td>1</td>\n",
       "      <td>3</td>\n",
       "    </tr>\n",
       "    <tr>\n",
       "      <th>71</th>\n",
       "      <td>51</td>\n",
       "      <td>1</td>\n",
       "      <td>2</td>\n",
       "      <td>94</td>\n",
       "      <td>227</td>\n",
       "      <td>0</td>\n",
       "      <td>1</td>\n",
       "      <td>154</td>\n",
       "      <td>1</td>\n",
       "      <td>0.0</td>\n",
       "      <td>2</td>\n",
       "      <td>1</td>\n",
       "      <td>3</td>\n",
       "    </tr>\n",
       "    <tr>\n",
       "      <th>106</th>\n",
       "      <td>69</td>\n",
       "      <td>1</td>\n",
       "      <td>3</td>\n",
       "      <td>160</td>\n",
       "      <td>234</td>\n",
       "      <td>1</td>\n",
       "      <td>0</td>\n",
       "      <td>131</td>\n",
       "      <td>0</td>\n",
       "      <td>0.1</td>\n",
       "      <td>1</td>\n",
       "      <td>1</td>\n",
       "      <td>2</td>\n",
       "    </tr>\n",
       "    <tr>\n",
       "      <th>270</th>\n",
       "      <td>46</td>\n",
       "      <td>1</td>\n",
       "      <td>0</td>\n",
       "      <td>120</td>\n",
       "      <td>249</td>\n",
       "      <td>0</td>\n",
       "      <td>0</td>\n",
       "      <td>144</td>\n",
       "      <td>0</td>\n",
       "      <td>0.8</td>\n",
       "      <td>2</td>\n",
       "      <td>0</td>\n",
       "      <td>3</td>\n",
       "    </tr>\n",
       "    <tr>\n",
       "      <th>102</th>\n",
       "      <td>63</td>\n",
       "      <td>0</td>\n",
       "      <td>1</td>\n",
       "      <td>140</td>\n",
       "      <td>195</td>\n",
       "      <td>0</td>\n",
       "      <td>1</td>\n",
       "      <td>179</td>\n",
       "      <td>0</td>\n",
       "      <td>0.0</td>\n",
       "      <td>2</td>\n",
       "      <td>2</td>\n",
       "      <td>2</td>\n",
       "    </tr>\n",
       "  </tbody>\n",
       "</table>\n",
       "<p>242 rows × 13 columns</p>\n",
       "</div>"
      ],
      "text/plain": [
       "     age  sex  cp  trestbps  chol  fbs  restecg  thalach  exang  oldpeak  \\\n",
       "132   42    1   1       120   295    0        1      162      0      0.0   \n",
       "202   58    1   0       150   270    0        0      111      1      0.8   \n",
       "196   46    1   2       150   231    0        1      147      0      3.6   \n",
       "75    55    0   1       135   250    0        0      161      0      1.4   \n",
       "176   60    1   0       117   230    1        1      160      1      1.4   \n",
       "..   ...  ...  ..       ...   ...  ...      ...      ...    ...      ...   \n",
       "188   50    1   2       140   233    0        1      163      0      0.6   \n",
       "71    51    1   2        94   227    0        1      154      1      0.0   \n",
       "106   69    1   3       160   234    1        0      131      0      0.1   \n",
       "270   46    1   0       120   249    0        0      144      0      0.8   \n",
       "102   63    0   1       140   195    0        1      179      0      0.0   \n",
       "\n",
       "     slope  ca  thal  \n",
       "132      2   0     2  \n",
       "202      2   0     3  \n",
       "196      1   0     2  \n",
       "75       1   0     2  \n",
       "176      2   2     3  \n",
       "..     ...  ..   ...  \n",
       "188      1   1     3  \n",
       "71       2   1     3  \n",
       "106      1   1     2  \n",
       "270      2   0     3  \n",
       "102      2   2     2  \n",
       "\n",
       "[242 rows x 13 columns]"
      ]
     },
     "execution_count": 31,
     "metadata": {},
     "output_type": "execute_result"
    }
   ],
   "source": [
    "X_train"
   ]
  },
  {
   "cell_type": "code",
   "execution_count": 32,
   "id": "c70ae6eb",
   "metadata": {
    "scrolled": true
   },
   "outputs": [
    {
     "data": {
      "text/plain": [
       "132    1\n",
       "202    0\n",
       "196    0\n",
       "75     1\n",
       "176    0\n",
       "      ..\n",
       "188    0\n",
       "71     1\n",
       "106    1\n",
       "270    0\n",
       "102    1\n",
       "Name: target, Length: 242, dtype: int64"
      ]
     },
     "execution_count": 32,
     "metadata": {},
     "output_type": "execute_result"
    }
   ],
   "source": [
    "Y_train"
   ]
  },
  {
   "attachments": {},
   "cell_type": "markdown",
   "id": "c3dcef42",
   "metadata": {},
   "source": [
    "* Machine learning model.\n",
    "* Training and evaluation.\n",
    "### We will try three diffrent ML Models\n",
    "1. Logistic Regression\n",
    "2. K-Nearest Classifier\n",
    "3. Random Forest Classifier"
   ]
  },
  {
   "cell_type": "code",
   "execution_count": 33,
   "id": "a188ca6d",
   "metadata": {},
   "outputs": [],
   "source": [
    "models={\"Logistic Regression\": LogisticRegression(),\n",
    "       \"KNN\": KNeighborsClassifier(),\n",
    "       \"Random Forest\":RandomForestClassifier()\n",
    "       }\n",
    "def fit_and_score(models,X_train,X_test,Y_train,Y_test):\n",
    "    np.random.seed(42)\n",
    "    model_scores={}\n",
    "    for name,model in models.items():\n",
    "        model.fit(X_train,Y_train)\n",
    "        model_scores[name]=model.score(X_test,Y_test)\n",
    "    return model_scores"
   ]
  },
  {
   "cell_type": "code",
   "execution_count": 34,
   "id": "37e8fd6f",
   "metadata": {},
   "outputs": [
    {
     "name": "stderr",
     "output_type": "stream",
     "text": [
      "C:\\Users\\user\\Desktop\\Supervised Learning(Heart Disease Prediction)\\env\\Lib\\site-packages\\sklearn\\linear_model\\_logistic.py:458: ConvergenceWarning: lbfgs failed to converge (status=1):\n",
      "STOP: TOTAL NO. of ITERATIONS REACHED LIMIT.\n",
      "\n",
      "Increase the number of iterations (max_iter) or scale the data as shown in:\n",
      "    https://scikit-learn.org/stable/modules/preprocessing.html\n",
      "Please also refer to the documentation for alternative solver options:\n",
      "    https://scikit-learn.org/stable/modules/linear_model.html#logistic-regression\n",
      "  n_iter_i = _check_optimize_result(\n"
     ]
    },
    {
     "data": {
      "text/plain": [
       "{'Logistic Regression': 0.8852459016393442,\n",
       " 'KNN': 0.6885245901639344,\n",
       " 'Random Forest': 0.8360655737704918}"
      ]
     },
     "execution_count": 34,
     "metadata": {},
     "output_type": "execute_result"
    }
   ],
   "source": [
    "model_scores=fit_and_score(models=models,X_train=X_train,X_test=X_test,Y_train=Y_train,Y_test=Y_test)\n",
    "model_scores"
   ]
  },
  {
   "attachments": {},
   "cell_type": "markdown",
   "id": "3da0b0b0",
   "metadata": {},
   "source": [
    "### Model Comparion"
   ]
  },
  {
   "cell_type": "code",
   "execution_count": 35,
   "id": "98163944",
   "metadata": {},
   "outputs": [
    {
     "data": {
      "text/plain": [
       "<Axes: >"
      ]
     },
     "execution_count": 35,
     "metadata": {},
     "output_type": "execute_result"
    },
    {
     "data": {
      "image/png": "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",
      "text/plain": [
       "<Figure size 640x480 with 1 Axes>"
      ]
     },
     "metadata": {},
     "output_type": "display_data"
    }
   ],
   "source": [
    "model_compare=pd.DataFrame(model_scores,index=[\"accuracy\"])\n",
    "model_compare.T.plot.bar()"
   ]
  },
  {
   "attachments": {},
   "cell_type": "markdown",
   "id": "de14fda1",
   "metadata": {},
   "source": [
    "# Hyperparameter Tuning our KNN Model"
   ]
  },
  {
   "cell_type": "code",
   "execution_count": 38,
   "id": "9d6bf82c",
   "metadata": {},
   "outputs": [
    {
     "data": {
      "text/plain": [
       "([1.0,\n",
       "  0.8099173553719008,\n",
       "  0.7727272727272727,\n",
       "  0.743801652892562,\n",
       "  0.7603305785123967,\n",
       "  0.7520661157024794,\n",
       "  0.743801652892562,\n",
       "  0.7231404958677686,\n",
       "  0.71900826446281,\n",
       "  0.6942148760330579,\n",
       "  0.7272727272727273,\n",
       "  0.6983471074380165,\n",
       "  0.6900826446280992,\n",
       "  0.6942148760330579,\n",
       "  0.6859504132231405,\n",
       "  0.6735537190082644,\n",
       "  0.6859504132231405,\n",
       "  0.6652892561983471,\n",
       "  0.6818181818181818,\n",
       "  0.6694214876033058],\n",
       " [0.6229508196721312,\n",
       "  0.639344262295082,\n",
       "  0.6557377049180327,\n",
       "  0.6721311475409836,\n",
       "  0.6885245901639344,\n",
       "  0.7213114754098361,\n",
       "  0.7049180327868853,\n",
       "  0.6885245901639344,\n",
       "  0.6885245901639344,\n",
       "  0.7049180327868853,\n",
       "  0.7540983606557377,\n",
       "  0.7377049180327869,\n",
       "  0.7377049180327869,\n",
       "  0.7377049180327869,\n",
       "  0.6885245901639344,\n",
       "  0.7213114754098361,\n",
       "  0.6885245901639344,\n",
       "  0.6885245901639344,\n",
       "  0.7049180327868853,\n",
       "  0.6557377049180327])"
      ]
     },
     "execution_count": 38,
     "metadata": {},
     "output_type": "execute_result"
    }
   ],
   "source": [
    "train_scores=[]\n",
    "test_scores=[]\n",
    "\n",
    "neighbors=range(1,21)\n",
    "knn = KNeighborsClassifier()\n",
    "for i in neighbors:\n",
    "    knn.set_params(n_neighbors=i)\n",
    "    knn.fit(X_train,Y_train)\n",
    "    train_scores.append(knn.score(X_train,Y_train))\n",
    "    test_scores.append(knn.score(X_test,Y_test))\n",
    "train_scores,test_scores"
   ]
  },
  {
   "cell_type": "code",
   "execution_count": 43,
   "id": "cfa230d5",
   "metadata": {},
   "outputs": [
    {
     "name": "stdout",
     "output_type": "stream",
     "text": [
      "Max score at : 75.41 %\n"
     ]
    },
    {
     "data": {
      "image/png": "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",
      "text/plain": [
       "<Figure size 640x480 with 1 Axes>"
      ]
     },
     "metadata": {},
     "output_type": "display_data"
    }
   ],
   "source": [
    "plt.plot(neighbors,train_scores,label=\"Train Score\")\n",
    "plt.plot(neighbors,test_scores,label=\"Test Score\")\n",
    "plt.xlabel(\"Score\")\n",
    "plt.ylabel(\"Model Score\")\n",
    "plt.legend()\n",
    "print(f\"Max score at : {max(test_scores)*100:.2f} %\")"
   ]
  },
  {
   "attachments": {},
   "cell_type": "markdown",
   "id": "76db42a3",
   "metadata": {},
   "source": [
    "### Hyperparameter tuning with RandomizedSearchCV\n",
    "Tuning:\n",
    "* Logistic Regression\n",
    "* RandomForest Classifier"
   ]
  },
  {
   "cell_type": "code",
   "execution_count": 60,
   "id": "781b3da4",
   "metadata": {},
   "outputs": [],
   "source": [
    "log_reg_grid={\"C\":np.logspace(-4,4,20),\"solver\":[\"liblinear\"]}\n",
    "rf_grid={\"n_estimators\":np.arange(10,1000,50),\n",
    "         \"max_depth\":[None,3,5,10],\n",
    "         \"min_samples_split\":np.arange(2,20,2),\n",
    "         \"min_samples_leaf\":np.arange(1,20,2)}"
   ]
  },
  {
   "cell_type": "code",
   "execution_count": 54,
   "id": "6a6cb3ab",
   "metadata": {},
   "outputs": [
    {
     "name": "stdout",
     "output_type": "stream",
     "text": [
      "Fitting 5 folds for each of 20 candidates, totalling 100 fits\n"
     ]
    },
    {
     "data": {
      "text/html": [
       "<style>#sk-container-id-2 {color: black;background-color: white;}#sk-container-id-2 pre{padding: 0;}#sk-container-id-2 div.sk-toggleable {background-color: white;}#sk-container-id-2 label.sk-toggleable__label {cursor: pointer;display: block;width: 100%;margin-bottom: 0;padding: 0.3em;box-sizing: border-box;text-align: center;}#sk-container-id-2 label.sk-toggleable__label-arrow:before {content: \"▸\";float: left;margin-right: 0.25em;color: #696969;}#sk-container-id-2 label.sk-toggleable__label-arrow:hover:before {color: black;}#sk-container-id-2 div.sk-estimator:hover label.sk-toggleable__label-arrow:before {color: black;}#sk-container-id-2 div.sk-toggleable__content {max-height: 0;max-width: 0;overflow: hidden;text-align: left;background-color: #f0f8ff;}#sk-container-id-2 div.sk-toggleable__content pre {margin: 0.2em;color: black;border-radius: 0.25em;background-color: #f0f8ff;}#sk-container-id-2 input.sk-toggleable__control:checked~div.sk-toggleable__content {max-height: 200px;max-width: 100%;overflow: auto;}#sk-container-id-2 input.sk-toggleable__control:checked~label.sk-toggleable__label-arrow:before {content: \"▾\";}#sk-container-id-2 div.sk-estimator input.sk-toggleable__control:checked~label.sk-toggleable__label {background-color: #d4ebff;}#sk-container-id-2 div.sk-label input.sk-toggleable__control:checked~label.sk-toggleable__label {background-color: #d4ebff;}#sk-container-id-2 input.sk-hidden--visually {border: 0;clip: rect(1px 1px 1px 1px);clip: rect(1px, 1px, 1px, 1px);height: 1px;margin: -1px;overflow: hidden;padding: 0;position: absolute;width: 1px;}#sk-container-id-2 div.sk-estimator {font-family: monospace;background-color: #f0f8ff;border: 1px dotted black;border-radius: 0.25em;box-sizing: border-box;margin-bottom: 0.5em;}#sk-container-id-2 div.sk-estimator:hover {background-color: #d4ebff;}#sk-container-id-2 div.sk-parallel-item::after {content: \"\";width: 100%;border-bottom: 1px solid gray;flex-grow: 1;}#sk-container-id-2 div.sk-label:hover label.sk-toggleable__label {background-color: #d4ebff;}#sk-container-id-2 div.sk-serial::before {content: \"\";position: absolute;border-left: 1px solid gray;box-sizing: border-box;top: 0;bottom: 0;left: 50%;z-index: 0;}#sk-container-id-2 div.sk-serial {display: flex;flex-direction: column;align-items: center;background-color: white;padding-right: 0.2em;padding-left: 0.2em;position: relative;}#sk-container-id-2 div.sk-item {position: relative;z-index: 1;}#sk-container-id-2 div.sk-parallel {display: flex;align-items: stretch;justify-content: center;background-color: white;position: relative;}#sk-container-id-2 div.sk-item::before, #sk-container-id-2 div.sk-parallel-item::before {content: \"\";position: absolute;border-left: 1px solid gray;box-sizing: border-box;top: 0;bottom: 0;left: 50%;z-index: -1;}#sk-container-id-2 div.sk-parallel-item {display: flex;flex-direction: column;z-index: 1;position: relative;background-color: white;}#sk-container-id-2 div.sk-parallel-item:first-child::after {align-self: flex-end;width: 50%;}#sk-container-id-2 div.sk-parallel-item:last-child::after {align-self: flex-start;width: 50%;}#sk-container-id-2 div.sk-parallel-item:only-child::after {width: 0;}#sk-container-id-2 div.sk-dashed-wrapped {border: 1px dashed gray;margin: 0 0.4em 0.5em 0.4em;box-sizing: border-box;padding-bottom: 0.4em;background-color: white;}#sk-container-id-2 div.sk-label label {font-family: monospace;font-weight: bold;display: inline-block;line-height: 1.2em;}#sk-container-id-2 div.sk-label-container {text-align: center;}#sk-container-id-2 div.sk-container {/* jupyter's `normalize.less` sets `[hidden] { display: none; }` but bootstrap.min.css set `[hidden] { display: none !important; }` so we also need the `!important` here to be able to override the default hidden behavior on the sphinx rendered scikit-learn.org. See: https://github.com/scikit-learn/scikit-learn/issues/21755 */display: inline-block !important;position: relative;}#sk-container-id-2 div.sk-text-repr-fallback {display: none;}</style><div id=\"sk-container-id-2\" class=\"sk-top-container\"><div class=\"sk-text-repr-fallback\"><pre>RandomizedSearchCV(cv=5, estimator=LogisticRegression(), n_iter=20,\n",
       "                   param_distributions={&#x27;C&#x27;: array([1.00000000e-04, 2.63665090e-04, 6.95192796e-04, 1.83298071e-03,\n",
       "       4.83293024e-03, 1.27427499e-02, 3.35981829e-02, 8.85866790e-02,\n",
       "       2.33572147e-01, 6.15848211e-01, 1.62377674e+00, 4.28133240e+00,\n",
       "       1.12883789e+01, 2.97635144e+01, 7.84759970e+01, 2.06913808e+02,\n",
       "       5.45559478e+02, 1.43844989e+03, 3.79269019e+03, 1.00000000e+04]),\n",
       "                                        &#x27;solver&#x27;: [&#x27;liblinear&#x27;]},\n",
       "                   verbose=True)</pre><b>In a Jupyter environment, please rerun this cell to show the HTML representation or trust the notebook. <br />On GitHub, the HTML representation is unable to render, please try loading this page with nbviewer.org.</b></div><div class=\"sk-container\" hidden><div class=\"sk-item sk-dashed-wrapped\"><div class=\"sk-label-container\"><div class=\"sk-label sk-toggleable\"><input class=\"sk-toggleable__control sk-hidden--visually\" id=\"sk-estimator-id-4\" type=\"checkbox\" ><label for=\"sk-estimator-id-4\" class=\"sk-toggleable__label sk-toggleable__label-arrow\">RandomizedSearchCV</label><div class=\"sk-toggleable__content\"><pre>RandomizedSearchCV(cv=5, estimator=LogisticRegression(), n_iter=20,\n",
       "                   param_distributions={&#x27;C&#x27;: array([1.00000000e-04, 2.63665090e-04, 6.95192796e-04, 1.83298071e-03,\n",
       "       4.83293024e-03, 1.27427499e-02, 3.35981829e-02, 8.85866790e-02,\n",
       "       2.33572147e-01, 6.15848211e-01, 1.62377674e+00, 4.28133240e+00,\n",
       "       1.12883789e+01, 2.97635144e+01, 7.84759970e+01, 2.06913808e+02,\n",
       "       5.45559478e+02, 1.43844989e+03, 3.79269019e+03, 1.00000000e+04]),\n",
       "                                        &#x27;solver&#x27;: [&#x27;liblinear&#x27;]},\n",
       "                   verbose=True)</pre></div></div></div><div class=\"sk-parallel\"><div class=\"sk-parallel-item\"><div class=\"sk-item\"><div class=\"sk-label-container\"><div class=\"sk-label sk-toggleable\"><input class=\"sk-toggleable__control sk-hidden--visually\" id=\"sk-estimator-id-5\" type=\"checkbox\" ><label for=\"sk-estimator-id-5\" class=\"sk-toggleable__label sk-toggleable__label-arrow\">estimator: LogisticRegression</label><div class=\"sk-toggleable__content\"><pre>LogisticRegression()</pre></div></div></div><div class=\"sk-serial\"><div class=\"sk-item\"><div class=\"sk-estimator sk-toggleable\"><input class=\"sk-toggleable__control sk-hidden--visually\" id=\"sk-estimator-id-6\" type=\"checkbox\" ><label for=\"sk-estimator-id-6\" class=\"sk-toggleable__label sk-toggleable__label-arrow\">LogisticRegression</label><div class=\"sk-toggleable__content\"><pre>LogisticRegression()</pre></div></div></div></div></div></div></div></div></div></div>"
      ],
      "text/plain": [
       "RandomizedSearchCV(cv=5, estimator=LogisticRegression(), n_iter=20,\n",
       "                   param_distributions={'C': array([1.00000000e-04, 2.63665090e-04, 6.95192796e-04, 1.83298071e-03,\n",
       "       4.83293024e-03, 1.27427499e-02, 3.35981829e-02, 8.85866790e-02,\n",
       "       2.33572147e-01, 6.15848211e-01, 1.62377674e+00, 4.28133240e+00,\n",
       "       1.12883789e+01, 2.97635144e+01, 7.84759970e+01, 2.06913808e+02,\n",
       "       5.45559478e+02, 1.43844989e+03, 3.79269019e+03, 1.00000000e+04]),\n",
       "                                        'solver': ['liblinear']},\n",
       "                   verbose=True)"
      ]
     },
     "execution_count": 54,
     "metadata": {},
     "output_type": "execute_result"
    }
   ],
   "source": [
    "np.random.seed(42)\n",
    "# Random hyperparamaeter for Logistic Regression\n",
    "rs_log_reg=RandomizedSearchCV(LogisticRegression(),param_distributions=log_reg_grid,cv=5,n_iter=20,verbose=True)\n",
    "rs_log_reg.fit(X_train,Y_train)"
   ]
  },
  {
   "cell_type": "code",
   "execution_count": 55,
   "id": "d31866ca",
   "metadata": {},
   "outputs": [
    {
     "data": {
      "text/plain": [
       "{'solver': 'liblinear', 'C': 0.23357214690901212}"
      ]
     },
     "execution_count": 55,
     "metadata": {},
     "output_type": "execute_result"
    }
   ],
   "source": [
    "rs_log_reg.best_params_"
   ]
  },
  {
   "cell_type": "code",
   "execution_count": 56,
   "id": "326f9c58",
   "metadata": {},
   "outputs": [
    {
     "data": {
      "text/plain": [
       "0.8852459016393442"
      ]
     },
     "execution_count": 56,
     "metadata": {},
     "output_type": "execute_result"
    }
   ],
   "source": [
    "rs_log_reg.score(X_test,Y_test)"
   ]
  },
  {
   "cell_type": "code",
   "execution_count": 61,
   "id": "b19d3ea0",
   "metadata": {},
   "outputs": [
    {
     "name": "stdout",
     "output_type": "stream",
     "text": [
      "Fitting 5 folds for each of 20 candidates, totalling 100 fits\n"
     ]
    },
    {
     "data": {
      "text/html": [
       "<style>#sk-container-id-3 {color: black;background-color: white;}#sk-container-id-3 pre{padding: 0;}#sk-container-id-3 div.sk-toggleable {background-color: white;}#sk-container-id-3 label.sk-toggleable__label {cursor: pointer;display: block;width: 100%;margin-bottom: 0;padding: 0.3em;box-sizing: border-box;text-align: center;}#sk-container-id-3 label.sk-toggleable__label-arrow:before {content: \"▸\";float: left;margin-right: 0.25em;color: #696969;}#sk-container-id-3 label.sk-toggleable__label-arrow:hover:before {color: black;}#sk-container-id-3 div.sk-estimator:hover label.sk-toggleable__label-arrow:before {color: black;}#sk-container-id-3 div.sk-toggleable__content {max-height: 0;max-width: 0;overflow: hidden;text-align: left;background-color: #f0f8ff;}#sk-container-id-3 div.sk-toggleable__content pre {margin: 0.2em;color: black;border-radius: 0.25em;background-color: #f0f8ff;}#sk-container-id-3 input.sk-toggleable__control:checked~div.sk-toggleable__content {max-height: 200px;max-width: 100%;overflow: auto;}#sk-container-id-3 input.sk-toggleable__control:checked~label.sk-toggleable__label-arrow:before {content: \"▾\";}#sk-container-id-3 div.sk-estimator input.sk-toggleable__control:checked~label.sk-toggleable__label {background-color: #d4ebff;}#sk-container-id-3 div.sk-label input.sk-toggleable__control:checked~label.sk-toggleable__label {background-color: #d4ebff;}#sk-container-id-3 input.sk-hidden--visually {border: 0;clip: rect(1px 1px 1px 1px);clip: rect(1px, 1px, 1px, 1px);height: 1px;margin: -1px;overflow: hidden;padding: 0;position: absolute;width: 1px;}#sk-container-id-3 div.sk-estimator {font-family: monospace;background-color: #f0f8ff;border: 1px dotted black;border-radius: 0.25em;box-sizing: border-box;margin-bottom: 0.5em;}#sk-container-id-3 div.sk-estimator:hover {background-color: #d4ebff;}#sk-container-id-3 div.sk-parallel-item::after {content: \"\";width: 100%;border-bottom: 1px solid gray;flex-grow: 1;}#sk-container-id-3 div.sk-label:hover label.sk-toggleable__label {background-color: #d4ebff;}#sk-container-id-3 div.sk-serial::before {content: \"\";position: absolute;border-left: 1px solid gray;box-sizing: border-box;top: 0;bottom: 0;left: 50%;z-index: 0;}#sk-container-id-3 div.sk-serial {display: flex;flex-direction: column;align-items: center;background-color: white;padding-right: 0.2em;padding-left: 0.2em;position: relative;}#sk-container-id-3 div.sk-item {position: relative;z-index: 1;}#sk-container-id-3 div.sk-parallel {display: flex;align-items: stretch;justify-content: center;background-color: white;position: relative;}#sk-container-id-3 div.sk-item::before, #sk-container-id-3 div.sk-parallel-item::before {content: \"\";position: absolute;border-left: 1px solid gray;box-sizing: border-box;top: 0;bottom: 0;left: 50%;z-index: -1;}#sk-container-id-3 div.sk-parallel-item {display: flex;flex-direction: column;z-index: 1;position: relative;background-color: white;}#sk-container-id-3 div.sk-parallel-item:first-child::after {align-self: flex-end;width: 50%;}#sk-container-id-3 div.sk-parallel-item:last-child::after {align-self: flex-start;width: 50%;}#sk-container-id-3 div.sk-parallel-item:only-child::after {width: 0;}#sk-container-id-3 div.sk-dashed-wrapped {border: 1px dashed gray;margin: 0 0.4em 0.5em 0.4em;box-sizing: border-box;padding-bottom: 0.4em;background-color: white;}#sk-container-id-3 div.sk-label label {font-family: monospace;font-weight: bold;display: inline-block;line-height: 1.2em;}#sk-container-id-3 div.sk-label-container {text-align: center;}#sk-container-id-3 div.sk-container {/* jupyter's `normalize.less` sets `[hidden] { display: none; }` but bootstrap.min.css set `[hidden] { display: none !important; }` so we also need the `!important` here to be able to override the default hidden behavior on the sphinx rendered scikit-learn.org. See: https://github.com/scikit-learn/scikit-learn/issues/21755 */display: inline-block !important;position: relative;}#sk-container-id-3 div.sk-text-repr-fallback {display: none;}</style><div id=\"sk-container-id-3\" class=\"sk-top-container\"><div class=\"sk-text-repr-fallback\"><pre>RandomizedSearchCV(cv=5, estimator=RandomForestClassifier(), n_iter=20,\n",
       "                   param_distributions={&#x27;max_depth&#x27;: [None, 3, 5, 10],\n",
       "                                        &#x27;min_samples_leaf&#x27;: array([ 1,  3,  5,  7,  9, 11, 13, 15, 17, 19]),\n",
       "                                        &#x27;min_samples_split&#x27;: array([ 2,  4,  6,  8, 10, 12, 14, 16, 18]),\n",
       "                                        &#x27;n_estimators&#x27;: array([ 10,  60, 110, 160, 210, 260, 310, 360, 410, 460, 510, 560, 610,\n",
       "       660, 710, 760, 810, 860, 910, 960])},\n",
       "                   verbose=True)</pre><b>In a Jupyter environment, please rerun this cell to show the HTML representation or trust the notebook. <br />On GitHub, the HTML representation is unable to render, please try loading this page with nbviewer.org.</b></div><div class=\"sk-container\" hidden><div class=\"sk-item sk-dashed-wrapped\"><div class=\"sk-label-container\"><div class=\"sk-label sk-toggleable\"><input class=\"sk-toggleable__control sk-hidden--visually\" id=\"sk-estimator-id-7\" type=\"checkbox\" ><label for=\"sk-estimator-id-7\" class=\"sk-toggleable__label sk-toggleable__label-arrow\">RandomizedSearchCV</label><div class=\"sk-toggleable__content\"><pre>RandomizedSearchCV(cv=5, estimator=RandomForestClassifier(), n_iter=20,\n",
       "                   param_distributions={&#x27;max_depth&#x27;: [None, 3, 5, 10],\n",
       "                                        &#x27;min_samples_leaf&#x27;: array([ 1,  3,  5,  7,  9, 11, 13, 15, 17, 19]),\n",
       "                                        &#x27;min_samples_split&#x27;: array([ 2,  4,  6,  8, 10, 12, 14, 16, 18]),\n",
       "                                        &#x27;n_estimators&#x27;: array([ 10,  60, 110, 160, 210, 260, 310, 360, 410, 460, 510, 560, 610,\n",
       "       660, 710, 760, 810, 860, 910, 960])},\n",
       "                   verbose=True)</pre></div></div></div><div class=\"sk-parallel\"><div class=\"sk-parallel-item\"><div class=\"sk-item\"><div class=\"sk-label-container\"><div class=\"sk-label sk-toggleable\"><input class=\"sk-toggleable__control sk-hidden--visually\" id=\"sk-estimator-id-8\" type=\"checkbox\" ><label for=\"sk-estimator-id-8\" class=\"sk-toggleable__label sk-toggleable__label-arrow\">estimator: RandomForestClassifier</label><div class=\"sk-toggleable__content\"><pre>RandomForestClassifier()</pre></div></div></div><div class=\"sk-serial\"><div class=\"sk-item\"><div class=\"sk-estimator sk-toggleable\"><input class=\"sk-toggleable__control sk-hidden--visually\" id=\"sk-estimator-id-9\" type=\"checkbox\" ><label for=\"sk-estimator-id-9\" class=\"sk-toggleable__label sk-toggleable__label-arrow\">RandomForestClassifier</label><div class=\"sk-toggleable__content\"><pre>RandomForestClassifier()</pre></div></div></div></div></div></div></div></div></div></div>"
      ],
      "text/plain": [
       "RandomizedSearchCV(cv=5, estimator=RandomForestClassifier(), n_iter=20,\n",
       "                   param_distributions={'max_depth': [None, 3, 5, 10],\n",
       "                                        'min_samples_leaf': array([ 1,  3,  5,  7,  9, 11, 13, 15, 17, 19]),\n",
       "                                        'min_samples_split': array([ 2,  4,  6,  8, 10, 12, 14, 16, 18]),\n",
       "                                        'n_estimators': array([ 10,  60, 110, 160, 210, 260, 310, 360, 410, 460, 510, 560, 610,\n",
       "       660, 710, 760, 810, 860, 910, 960])},\n",
       "                   verbose=True)"
      ]
     },
     "execution_count": 61,
     "metadata": {},
     "output_type": "execute_result"
    }
   ],
   "source": [
    "# Random hyperparamaeter for RandomForest Classifier\n",
    "rs_rf=RandomizedSearchCV(RandomForestClassifier(),param_distributions=rf_grid,cv=5,n_iter=20,verbose=True)\n",
    "rs_rf.fit(X_train,Y_train)"
   ]
  },
  {
   "cell_type": "code",
   "execution_count": 62,
   "id": "23df33d9",
   "metadata": {},
   "outputs": [
    {
     "data": {
      "text/plain": [
       "{'n_estimators': 60,\n",
       " 'min_samples_split': 16,\n",
       " 'min_samples_leaf': 19,\n",
       " 'max_depth': 10}"
      ]
     },
     "execution_count": 62,
     "metadata": {},
     "output_type": "execute_result"
    }
   ],
   "source": [
    "rs_rf.best_params_"
   ]
  },
  {
   "cell_type": "code",
   "execution_count": 63,
   "id": "ce15ffc7",
   "metadata": {},
   "outputs": [
    {
     "data": {
      "text/plain": [
       "0.8524590163934426"
      ]
     },
     "execution_count": 63,
     "metadata": {},
     "output_type": "execute_result"
    }
   ],
   "source": [
    "rs_rf.score(X_test,Y_test)"
   ]
  },
  {
   "attachments": {},
   "cell_type": "markdown",
   "id": "c2429311",
   "metadata": {},
   "source": [
    "## Hyperparameters tuning with GridSearchCV(Brute force method)\n",
    "Since our LogisticRegression model gave the best score so far. So we will improve/tune the same model with diffrent hyperparameters using GridSearchCV method."
   ]
  },
  {
   "cell_type": "code",
   "execution_count": 96,
   "id": "95581273",
   "metadata": {},
   "outputs": [
    {
     "name": "stdout",
     "output_type": "stream",
     "text": [
      "Fitting 5 folds for each of 30 candidates, totalling 150 fits\n"
     ]
    },
    {
     "data": {
      "text/html": [
       "<style>#sk-container-id-5 {color: black;background-color: white;}#sk-container-id-5 pre{padding: 0;}#sk-container-id-5 div.sk-toggleable {background-color: white;}#sk-container-id-5 label.sk-toggleable__label {cursor: pointer;display: block;width: 100%;margin-bottom: 0;padding: 0.3em;box-sizing: border-box;text-align: center;}#sk-container-id-5 label.sk-toggleable__label-arrow:before {content: \"▸\";float: left;margin-right: 0.25em;color: #696969;}#sk-container-id-5 label.sk-toggleable__label-arrow:hover:before {color: black;}#sk-container-id-5 div.sk-estimator:hover label.sk-toggleable__label-arrow:before {color: black;}#sk-container-id-5 div.sk-toggleable__content {max-height: 0;max-width: 0;overflow: hidden;text-align: left;background-color: #f0f8ff;}#sk-container-id-5 div.sk-toggleable__content pre {margin: 0.2em;color: black;border-radius: 0.25em;background-color: #f0f8ff;}#sk-container-id-5 input.sk-toggleable__control:checked~div.sk-toggleable__content {max-height: 200px;max-width: 100%;overflow: auto;}#sk-container-id-5 input.sk-toggleable__control:checked~label.sk-toggleable__label-arrow:before {content: \"▾\";}#sk-container-id-5 div.sk-estimator input.sk-toggleable__control:checked~label.sk-toggleable__label {background-color: #d4ebff;}#sk-container-id-5 div.sk-label input.sk-toggleable__control:checked~label.sk-toggleable__label {background-color: #d4ebff;}#sk-container-id-5 input.sk-hidden--visually {border: 0;clip: rect(1px 1px 1px 1px);clip: rect(1px, 1px, 1px, 1px);height: 1px;margin: -1px;overflow: hidden;padding: 0;position: absolute;width: 1px;}#sk-container-id-5 div.sk-estimator {font-family: monospace;background-color: #f0f8ff;border: 1px dotted black;border-radius: 0.25em;box-sizing: border-box;margin-bottom: 0.5em;}#sk-container-id-5 div.sk-estimator:hover {background-color: #d4ebff;}#sk-container-id-5 div.sk-parallel-item::after {content: \"\";width: 100%;border-bottom: 1px solid gray;flex-grow: 1;}#sk-container-id-5 div.sk-label:hover label.sk-toggleable__label {background-color: #d4ebff;}#sk-container-id-5 div.sk-serial::before {content: \"\";position: absolute;border-left: 1px solid gray;box-sizing: border-box;top: 0;bottom: 0;left: 50%;z-index: 0;}#sk-container-id-5 div.sk-serial {display: flex;flex-direction: column;align-items: center;background-color: white;padding-right: 0.2em;padding-left: 0.2em;position: relative;}#sk-container-id-5 div.sk-item {position: relative;z-index: 1;}#sk-container-id-5 div.sk-parallel {display: flex;align-items: stretch;justify-content: center;background-color: white;position: relative;}#sk-container-id-5 div.sk-item::before, #sk-container-id-5 div.sk-parallel-item::before {content: \"\";position: absolute;border-left: 1px solid gray;box-sizing: border-box;top: 0;bottom: 0;left: 50%;z-index: -1;}#sk-container-id-5 div.sk-parallel-item {display: flex;flex-direction: column;z-index: 1;position: relative;background-color: white;}#sk-container-id-5 div.sk-parallel-item:first-child::after {align-self: flex-end;width: 50%;}#sk-container-id-5 div.sk-parallel-item:last-child::after {align-self: flex-start;width: 50%;}#sk-container-id-5 div.sk-parallel-item:only-child::after {width: 0;}#sk-container-id-5 div.sk-dashed-wrapped {border: 1px dashed gray;margin: 0 0.4em 0.5em 0.4em;box-sizing: border-box;padding-bottom: 0.4em;background-color: white;}#sk-container-id-5 div.sk-label label {font-family: monospace;font-weight: bold;display: inline-block;line-height: 1.2em;}#sk-container-id-5 div.sk-label-container {text-align: center;}#sk-container-id-5 div.sk-container {/* jupyter's `normalize.less` sets `[hidden] { display: none; }` but bootstrap.min.css set `[hidden] { display: none !important; }` so we also need the `!important` here to be able to override the default hidden behavior on the sphinx rendered scikit-learn.org. See: https://github.com/scikit-learn/scikit-learn/issues/21755 */display: inline-block !important;position: relative;}#sk-container-id-5 div.sk-text-repr-fallback {display: none;}</style><div id=\"sk-container-id-5\" class=\"sk-top-container\"><div class=\"sk-text-repr-fallback\"><pre>GridSearchCV(cv=5, estimator=LogisticRegression(),\n",
       "             param_grid={&#x27;C&#x27;: array([1.00000000e-04, 1.88739182e-04, 3.56224789e-04, 6.72335754e-04,\n",
       "       1.26896100e-03, 2.39502662e-03, 4.52035366e-03, 8.53167852e-03,\n",
       "       1.61026203e-02, 3.03919538e-02, 5.73615251e-02, 1.08263673e-01,\n",
       "       2.04335972e-01, 3.85662042e-01, 7.27895384e-01, 1.37382380e+00,\n",
       "       2.59294380e+00, 4.89390092e+00, 9.23670857e+00, 1.74332882e+01,\n",
       "       3.29034456e+01, 6.21016942e+01, 1.17210230e+02, 2.21221629e+02,\n",
       "       4.17531894e+02, 7.88046282e+02, 1.48735211e+03, 2.80721620e+03,\n",
       "       5.29831691e+03, 1.00000000e+04]),\n",
       "                         &#x27;solver&#x27;: [&#x27;liblinear&#x27;]},\n",
       "             verbose=True)</pre><b>In a Jupyter environment, please rerun this cell to show the HTML representation or trust the notebook. <br />On GitHub, the HTML representation is unable to render, please try loading this page with nbviewer.org.</b></div><div class=\"sk-container\" hidden><div class=\"sk-item sk-dashed-wrapped\"><div class=\"sk-label-container\"><div class=\"sk-label sk-toggleable\"><input class=\"sk-toggleable__control sk-hidden--visually\" id=\"sk-estimator-id-13\" type=\"checkbox\" ><label for=\"sk-estimator-id-13\" class=\"sk-toggleable__label sk-toggleable__label-arrow\">GridSearchCV</label><div class=\"sk-toggleable__content\"><pre>GridSearchCV(cv=5, estimator=LogisticRegression(),\n",
       "             param_grid={&#x27;C&#x27;: array([1.00000000e-04, 1.88739182e-04, 3.56224789e-04, 6.72335754e-04,\n",
       "       1.26896100e-03, 2.39502662e-03, 4.52035366e-03, 8.53167852e-03,\n",
       "       1.61026203e-02, 3.03919538e-02, 5.73615251e-02, 1.08263673e-01,\n",
       "       2.04335972e-01, 3.85662042e-01, 7.27895384e-01, 1.37382380e+00,\n",
       "       2.59294380e+00, 4.89390092e+00, 9.23670857e+00, 1.74332882e+01,\n",
       "       3.29034456e+01, 6.21016942e+01, 1.17210230e+02, 2.21221629e+02,\n",
       "       4.17531894e+02, 7.88046282e+02, 1.48735211e+03, 2.80721620e+03,\n",
       "       5.29831691e+03, 1.00000000e+04]),\n",
       "                         &#x27;solver&#x27;: [&#x27;liblinear&#x27;]},\n",
       "             verbose=True)</pre></div></div></div><div class=\"sk-parallel\"><div class=\"sk-parallel-item\"><div class=\"sk-item\"><div class=\"sk-label-container\"><div class=\"sk-label sk-toggleable\"><input class=\"sk-toggleable__control sk-hidden--visually\" id=\"sk-estimator-id-14\" type=\"checkbox\" ><label for=\"sk-estimator-id-14\" class=\"sk-toggleable__label sk-toggleable__label-arrow\">estimator: LogisticRegression</label><div class=\"sk-toggleable__content\"><pre>LogisticRegression()</pre></div></div></div><div class=\"sk-serial\"><div class=\"sk-item\"><div class=\"sk-estimator sk-toggleable\"><input class=\"sk-toggleable__control sk-hidden--visually\" id=\"sk-estimator-id-15\" type=\"checkbox\" ><label for=\"sk-estimator-id-15\" class=\"sk-toggleable__label sk-toggleable__label-arrow\">LogisticRegression</label><div class=\"sk-toggleable__content\"><pre>LogisticRegression()</pre></div></div></div></div></div></div></div></div></div></div>"
      ],
      "text/plain": [
       "GridSearchCV(cv=5, estimator=LogisticRegression(),\n",
       "             param_grid={'C': array([1.00000000e-04, 1.88739182e-04, 3.56224789e-04, 6.72335754e-04,\n",
       "       1.26896100e-03, 2.39502662e-03, 4.52035366e-03, 8.53167852e-03,\n",
       "       1.61026203e-02, 3.03919538e-02, 5.73615251e-02, 1.08263673e-01,\n",
       "       2.04335972e-01, 3.85662042e-01, 7.27895384e-01, 1.37382380e+00,\n",
       "       2.59294380e+00, 4.89390092e+00, 9.23670857e+00, 1.74332882e+01,\n",
       "       3.29034456e+01, 6.21016942e+01, 1.17210230e+02, 2.21221629e+02,\n",
       "       4.17531894e+02, 7.88046282e+02, 1.48735211e+03, 2.80721620e+03,\n",
       "       5.29831691e+03, 1.00000000e+04]),\n",
       "                         'solver': ['liblinear']},\n",
       "             verbose=True)"
      ]
     },
     "execution_count": 96,
     "metadata": {},
     "output_type": "execute_result"
    }
   ],
   "source": [
    "log_reg_grid={\"C\":np.logspace(-4,4,30),\"solver\":[\"liblinear\"]}\n",
    "\n",
    "gs_log_reg=GridSearchCV(LogisticRegression(),param_grid=log_reg_grid,cv=5,verbose=True)\n",
    "gs_log_reg.fit(X_train,Y_train)"
   ]
  },
  {
   "cell_type": "code",
   "execution_count": 69,
   "id": "e2d51a3d",
   "metadata": {},
   "outputs": [
    {
     "data": {
      "text/plain": [
       "{'C': 0.20433597178569418, 'solver': 'liblinear'}"
      ]
     },
     "execution_count": 69,
     "metadata": {},
     "output_type": "execute_result"
    }
   ],
   "source": [
    "gs_log_reg.best_params_"
   ]
  },
  {
   "cell_type": "code",
   "execution_count": 97,
   "id": "3e030cde",
   "metadata": {},
   "outputs": [
    {
     "data": {
      "text/plain": [
       "0.8852459016393442"
      ]
     },
     "execution_count": 97,
     "metadata": {},
     "output_type": "execute_result"
    }
   ],
   "source": [
    "gs_log_reg.score(X_test,Y_test)"
   ]
  },
  {
   "attachments": {},
   "cell_type": "markdown",
   "id": "4c16fa46",
   "metadata": {},
   "source": [
    "# Evaluating our Tuned ML classifier,beyond accuracy"
   ]
  },
  {
   "cell_type": "code",
   "execution_count": 100,
   "id": "2772eed5",
   "metadata": {},
   "outputs": [
    {
     "data": {
      "text/plain": [
       "array([[0.86725274, 0.13274726],\n",
       "       [0.24408505, 0.75591495],\n",
       "       [0.18547578, 0.81452422],\n",
       "       [0.94530777, 0.05469223],\n",
       "       [0.11546644, 0.88453356]])"
      ]
     },
     "execution_count": 100,
     "metadata": {},
     "output_type": "execute_result"
    }
   ],
   "source": [
    "Y_preds=gs_log_reg.predict_proba(X_test) \n",
    "new_y_preds=gs_log_reg.predict(X_test) \n",
    "Y_preds[:5]\n"
   ]
  },
  {
   "cell_type": "code",
   "execution_count": 72,
   "id": "79f0689e",
   "metadata": {},
   "outputs": [
    {
     "data": {
      "text/plain": [
       "179    0\n",
       "228    0\n",
       "111    1\n",
       "246    0\n",
       "60     1\n",
       "      ..\n",
       "249    0\n",
       "104    1\n",
       "300    0\n",
       "193    0\n",
       "184    0\n",
       "Name: target, Length: 61, dtype: int64"
      ]
     },
     "execution_count": 72,
     "metadata": {},
     "output_type": "execute_result"
    }
   ],
   "source": [
    "Y_test"
   ]
  },
  {
   "cell_type": "code",
   "execution_count": 90,
   "id": "3c1c12cd",
   "metadata": {
    "scrolled": false
   },
   "outputs": [
    {
     "data": {
      "image/png": "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",
      "text/plain": [
       "<Figure size 640x480 with 1 Axes>"
      ]
     },
     "metadata": {},
     "output_type": "display_data"
    }
   ],
   "source": [
    "from sklearn.metrics import roc_curve\n",
    "\n",
    "lr_probs=Y_preds[:,1]\n",
    "ns_probs = [0 for _ in range(len(Y_test))]\n",
    "\n",
    "ns_fpr, ns_tpr, _ = roc_curve(Y_test, ns_probs)\n",
    "lr_fpr, lr_tpr, _ = roc_curve(Y_test, lr_probs)\n",
    "plt.plot(ns_fpr, ns_tpr, linestyle='--', label='No Skill')\n",
    "plt.plot(lr_fpr, lr_tpr, marker='', label='Logistic')\n",
    "# axis labels\n",
    "plt.xlabel('False Positive Rate')\n",
    "plt.ylabel('True Positive Rate')\n",
    "# show the legend\n",
    "plt.legend()\n",
    "# show the plot\n",
    "plt.show()"
   ]
  },
  {
   "cell_type": "code",
   "execution_count": 102,
   "id": "6ade2771",
   "metadata": {
    "scrolled": true
   },
   "outputs": [
    {
     "data": {
      "text/plain": [
       "array([[25,  4],\n",
       "       [ 3, 29]], dtype=int64)"
      ]
     },
     "execution_count": 102,
     "metadata": {},
     "output_type": "execute_result"
    }
   ],
   "source": [
    "# Confusion matrix\n",
    "confusion_matrix(Y_test,new_y_preds)"
   ]
  },
  {
   "cell_type": "code",
   "execution_count": 106,
   "id": "6d36bf8c",
   "metadata": {},
   "outputs": [
    {
     "data": {
      "image/png": "iVBORw0KGgoAAAANSUhEUgAAAToAAAE4CAYAAADLij9XAAAAOXRFWHRTb2Z0d2FyZQBNYXRwbG90bGliIHZlcnNpb24zLjcuMSwgaHR0cHM6Ly9tYXRwbG90bGliLm9yZy/bCgiHAAAACXBIWXMAAA9hAAAPYQGoP6dpAAAurUlEQVR4nO3deVxU9f7H8dcAA8OACiKKLIqiuGa4b7nlVpappUmaW5L9XNstl25lauVWLrmnpqGmopbRJmqGdnNL66ogi6IomyKyCbLN7w9iigQcZgYGj5/n49Hj0T3ne875TDfffc/5fs/3qHQ6nQ4hhFAwK0sXIIQQFU2CTgiheBJ0QgjFk6ATQiieBJ0QQvEk6IQQiidBJ4RQPAk6IYTi2Vi6gKou6+sFli5BmJHbyDWWLkGYUWpGtEHtpEcnhFA8CTohhOJJ0AkhFE+CTgiheBJ0QgjFk6ATQiieBJ0QQvEk6IQQiidBJ4RQPAk6IYTiSdAJIRRPgk4IoXgSdEIIxZOgE0IongSdEELxJOiEEIonQSeEUDwJOiGE4knQCSEUT4JOCKF4EnRCCMWToBNCKJ4EnRBC8STohBCKJ0EnhFA8CTohhOJJ0AkhFE+CTgiheBJ0QgjFk6ATQiieBJ0QQvFsDGm0a9cus1xs6NChZjmPEEKUh0FBN3v2bFQqlckXk6ATQliCQUHn7u5e0XUIIUSFMSjoDh48WNF1CCFEhZHBCCGE4hnUo7uXgoICzp07x8WLF0lPT+f5558nNzeXhIQEvLy8zHEJIYQwmslBFxQUxPLly0lMTNRve/7554mLi2PAgAE8/vjjzJ07F41GY+qlhBDCKCYF3eLFi1m/fj06nQ4rKyusrKzIz88HICEhgfz8fIKDg0lISGDTpk3Y2JilAymEEOVi9DO63377jXXr1qHRaHjvvfc4fvw4rVq10u/v2LEjCxYswN7enlOnTvHVV1+ZpWAhhCgvo4Nuy5YtqFQq5s+fj7+/P46Ojne1eeqpp1iwYAE6nY59+/aZVKgQQhjL6KA7c+YMtWrV4vHHHy+zXZ8+fahduzZRUVHGXkoIIUxidNClpqZSp04dg9rWqVOH7OxsYy8lhBAmMTronJyciI2NvWc7nU7H1atXcXZ2NvZSQghhEqODrk2bNqSlpREcHFxmuz179pCSkkLr1q2NvZQQQpjE6KAbNWoUOp2OOXPmcODAgbv2FxQUsHPnTubMmYNKpcLf39+kQoUQwlhGT2xr3749AQEBrF+/nilTpuDg4EBubi5QuEpJTEwMmZmZ6HQ6nn32Wbp06WK2ooXhEm9lsvmX//FrxFXiUzIAcK9Zje7NvBjd/SFqOtoXa5+bX0Dn2V+Ql19Q6jkdNbYcmTOqQusWprO2tibk4C7atG3FxJemszUwyNIlWYxJM3jfeOMNPD09Wb58OcnJyfrtZ8+eBaBatWpMmDCBF1980bQqhVF+v5TAy5v2k56Vg7WVCi+X6uQX6Lh8PZVNibf49lQUKwMew7duTf0xFxNTyMsvQKO2oamHS4nndbBTV9ZPECZ4/c2JtGnb6t4NHwAmv6rg7+/PM888w+nTp4mMjCQ9PR17e3saNGhA+/btsbe3v/dJhNmlZd3h9c0HSM/KoWsTT94b1g3X6loArianMfurXzgTk8irX4Sw+/WnsVMX/qsQEX8TgLYN3fhsfH+L1S9M89BDzXhz+mRLl1FlmOWdLLVaTYcOHejQoYM5TifM4JuTkaRkZuNaXcuCkb1w0Njq93m6VGfJ6N4MXriLazfTCflfDE+0aQRARFxh0DVyk1Hy+5VarWb1ukVYW1uTnX0HjcbO0iVZnFmCLj4+ntDQUKKjo8nKyqJGjRr4+vrStWtXatasee8TCLM7GR0PQPdmXsVCrkhNR3serl+H0PBYzsZe/zvo4iXo7nezZr9Cy5ZN+WzFBp4c2I/69T0tXZLFmRR06enpzJs3j3379lFQUPjwWqfT6Zddt7W1ZcyYMbz88stYW1ubXq0wWEBvP/o85E191xqlttGhA6BAp9NvKwq6xhJ096V27f2Y+nIAkREXmfPeIp4c2M/SJVUJRgddTk4OY8aMISwsDJ1Oh6enJ02aNMHBwYH09HTCwsJISEhg3bp1xMTEsGzZMnPWLe6hpZcrLb1cS92fkpnNyegEAHzqFIZaUmomKZnZWFup0NrZsu7AGc5euU52bh7uNR3p3dKbR5rK+oJVlUZjx+o1C1GpVEya+BbZ2XcsXVKVYXTQbd68mfPnz+Pq6sqCBQvo3LnzXW3279/P7Nmz2b9/P3v37mXw4MGm1CrMaMHXv5Gdm4dGbUOfh7yBv3tzKmDYkt3cycsvdsye4xF0a+rFRyN6lng7LCzr/Q/eorFvQ5YvXc/xY79bupwqxeig+/bbb1GpVHz22WfFlmf6p759++Lg4MALL7zA9u3bTQq69PR0QkNDCQ8PJykpidu3b6PT6bC3t6d27do0adJEngkaaN2B03x/JhqAl/r46efSFQVdXoGOXi3rMa5nK3zqOJGRnUvI/y6x7PuThIbHMj3wkIzIVjGPdOvIhJdGceFCFB/MWWzpcqoco4MuJiYGHx+fUkOuSJcuXahfvz4XLlww6jqZmZl88skn7Nixg9zcXHT/eJ70TyqVCrVazbBhw3jttddwcHAw6npKt3r/76zefxqAns3rMbbn3///NXarybDOTanlqOWlvn+/smentmF4l+b41q3JC6uDOXrhKkfCY+U2topwdHRg5eoFFBQUMOn/3uLOnRxLl1TlGB10dnZ2WFkZ9gaZvb29UasLZ2VlMXLkSC5cuIBGo6FLly40btyY2rVr65dmz87OJikpicjISI4dO8bWrVs5c+YMmzdvlrD7h7z8Aj7a+192HQsHoIuvBx+P7FXse73dmnnRrVnp4dW6gRsdG7nzW2QcB89elqCrIj78aBb163vy6ZI1nDxxxtLlVElGB12nTp3Yv38/0dHR+Pj4lNouLi6OqKgounbtWu5rrF69mvDwcB599FHmz5+Pk5NTme1v3brFzJkzOXToEBs3bmTKlCnlvqYSZWTn8MaWA/wWGQdA/4cbMHd4D9Q25R8Jb+rhwm+RcVxLSTd3mcIIffr2YPTY4YSHRzJv7qeWLqfKMvql/ldffRWtVsvkyZO5dOlSiW2uX7/O1KlTsba25pVXXin3NX744Qdq167Np59+es+Qg8Kloz755BNcXV354Ycfyn09JUq8lcnYld/qQ25Mj4f4aESvUkMuv6CgzPdc/5pFhI2BvXlRsZ5+5gkAmjZtzPWbYaRmRBf7q2gO3ao1C0jNiObb7wMtWa7FGNSjmz59eonbvby8CAsLY+DAgXTq1IkWLVrg4OBAZmYmly5dIjQ0lOzsbHr16sXRo0dp1qxZuYpLSEigZ8+e2NoaPsJnZ2dH69atOXz4cLmupUTX024TsCaY2OR0rK1UvD2oM8M6l/7/weMffkXCrQxee6IDo7o/VGKb8LgbAPjUcaqIkkU5RUdd4r+/nix1f+s2D6HR2BEVeYnr15M5fy6iEqurOgwKum+++QaVSlXqQEBeXh5Hjhzh6NGj+m3/bHvw4EEOHTpEQEBAuYpzcXEhISGhXMcAxMbGotVqy32ckuTm5fPyxv3EJqejtrbi45G9eLSld5nHNKztRHxKBsG/R/Nc1xbYWBfvtf3vynVO/PXGRf+HG1ZU6aIcFi9axeJFq0rd/+e5w9Sv78niRatk9ZJ7GTx4cLGH1pWlTZs2BAcHs2fPHoYMGWLQMVu3buX8+fM89thjFVxd1bbx5z85f62w9zVjcJd7hhzAuJ6t+DXiKuFxyby/6whvDeqE41/z5U5ExzNj6yF0OniijQ8typiMLERVo9KV1k2rAmJiYhgyZAjZ2dl06dKFPn364OvrS506dbC3t0elUpGVlcX169eJjIzkp59+4siRI2g0Gnbu3EmjRo1MriHr6wVm+CWVKzcvn94fbCUtKwcbKxUt69Uus/0jTT0JeNQPgK1HzrH422PkF+jQqK2p71qDjOxcrt1M17ddPKq3frWT+43byDWWLqFSFfXolLoeXWpGtEHtqvS/rd7e3nzxxRe89tprHD16lF9//bXM9jqdDnd3dz766COzhNz9KjIhhbSswrlUeQU6zsQkltney6W6/u9HPNKCVvVr82XoWX6/lEB04i0c7NR0aFSXQe18GdDaxyK9eyFMYdYeXdGL/UXy8vLIzs4mISGBQ4cO8dJLLxl13vz8fL799lsOHTpERESE/s0IKysrHBwcqFOnDk2aNKFHjx707dsXOzvzLUtzP/boROketB6d0hnaozMp6H755ReWL19OREQEOTn3no0dFhZm7KUsRoJOWSTolKXCb13Pnj3LpEmTyM/PL3U0Vn8RGxv5CpgQwmJMWr0kLy+Pxo0bExAQgEaj4eWXX6Z///4MHz6chIQEdu/ezcmTJ2nXrh2bNm0yY9lCCGE4o4Pu5MmTWFtbs2zZMho0aABA3bp1iY2N1X/xa8iQIUybNo2QkBCCg4N54oknzFO1EEKUg9Hv8SQnJ+Pu7q4POYCmTZsWe16nUqmYMWMGALt37zaxVCGEMI5JLyz++/1Tb29v8vPzi7376u7ubtIyTUIIYSqjg87FxYXr168X2+bpWfgCcVRUVLHtDg4O3Lp1y9hLCSGESYwOupYtW5KYmEhoaKh+W8OGDdHpdJw4cUK/LTs7mytXrlCjRukfaRFCiIpkdNANGjQInU7HtGnTWLhwIXl5ebRu3ZoaNWqwa9cu9u7dS0REBLNnzyY9Pb3YszwhhKhMRgdd7969eeKJJ8jKyuKLL77A2toajUbDc889R15eHjNmzGDQoEEEBwejUqkYPXq0OesWQgiDmfSu6+LFi+natStHjx7Vv/84ZcoUEhMT2bt3LzqdDmtra8aNG0e/fvJ9SSGEZVTY6iVJSUnExcVRr169+/rLXPIKmLLIK2DKYvHVS2rXrk3t2mUvDySEEJWhwhf+T01NpX379nTs2LGiLyWEECWq8PXoCgoKSE9PlzXMhBAWI59yEkIongSdEELxJOiEEIonQSeEUDwJOiGE4knQCSEUz6DpJXFxcUZfIC0tzehjhRDCHAwKut69e1d0HUIIUWEMCroKeh1WCCEqhUFBt3nz5oquQwghKoxBQdehQ4eKrkMIISqMjLoKIRRPgk4IoXgSdEIIxZOgE0IongSdEELxJOiEEIonQSeEUDwJOiGE4hk0YbigoMAsF7OyklwVQlQ+g4KuRYsWJl9IpVJx/vx5k88jhBDlVWkv9cvCAEIISzHppf4VK1Zw/PhxOnXqhL+/P82aNaN69ercuXOHyMhIduzYwf79++nXrx8zZ840a+FCCGEoo1/qDw4O5sSJE4waNYpZs2bdtd/NzY1u3bqxdOlSVq9eTadOnRgxYoTpFQshRDkZPTqwadMmqlWrxptvvllmu8mTJ1OjRg22bdtm7KWEEMIkRgddZGQk9evXx9bWtsx2NjY2eHl5ceXKFWMvJYQQJjE66BwdHYmPj79nu9zcXK5cuYKzs7OxlxJCCJMYHXQtW7YkOTmZTZs2ldlu6dKlpKam0q5dO2MvJYQQJjFoMKIk48aN4/DhwyxYsIDIyEiGDBlC48aN0Wq1ZGRkEBYWxrZt2wgJCcHW1paAgABz1i2EEAZT6UyY4LZ27VqWLFmCSqUqcb9Op0OtVjN//nwGDhxodJGWlPX1AkuXIMzIbeQaS5cgzCg1I9qgdia9kzVhwgQCAwPp2rUrarUanU6n/8vOzo5+/fqxe/fu+zbkhBDKYPSta5G2bduyfv16srOzuXbtGmlpaTg5OeHu7o6dnZ05ahRCCJOYHHRFNBoNPj4+5jqdEEKYjVmCLjQ0lEOHDnHx4kXS09MJCgoiLS2NzZs3M2LECGrWrGmOywghhFFMCrrk5GReeeUVTp48CRQOPhQNTMTFxbFixQq2bNnC2rVrefjhh02vVgghjGB00OXk5DB+/HjCw8NxdHSkS5cu/PHHHyQlJQGFa885OTlx69Ytxo0bx759+/Dw8DBb4ZWl2rClli5BmFFWXKilSxAWYPSoa2BgIOHh4fj5+fHTTz+xbNmyYkHm6+tLSEgIrVu3Jisri40bN5qlYCGEKC+jgy44OBgrKysWLlxY6jM4R0dHFi1ahLW1NaGh8l9SIYRlGB10Fy9exMfHBy8vrzLbeXh44O3tbdB7sUIIURGMDrryfEdCrVZjbW1t7KWEEMIkRgedh4cHMTExZGRklNkuJSWFyMjI+3IgQgihDEYHXY8ePcjNzWXhwoVltps7dy75+fl069bN2EsJIYRJjJ5eMn78eIKCgtixYwfJyckMHDiQ9PR0AKKjo4mIiCAwMJBTp07h4ODA2LFjzVWzEEKUi0mrl5w6dYpJkyaRmppa4gomOp0OrVbLp59+Svfu3U0q1FJsbOWWW0lkHp2yqGs1NKidSauXtG3blm+++YbRo0dTt27dYquXuLi4MHToUPbu3XvfhpwQQhlM6tH92+3bt0lPT0er1VKtWjVzndaipEenLNKjU5YK79GtWLGC3bt3F9um1WqpU6fOXSG3atWqe34tTAghKopJQRcUFGRQ2/379xMSEmLspYQQwiQGjbpeu3aN//73v3dtv3HjBrt27Sr1OJ1OR1xcHBEREWi1WuOrFEIIExj0jC47O5v+/fvrVyYpL51OR//+/Vm69P5bCUSe0SmLPKNTFkOf0RnUo9NoNLzxxht88skn+m1xcXHY2tpSq1atUo+zsrJCq9XSvHlzpk+fblBBQghhbkaPujZt2pS2bdsSGBho7pqqFOnRKYv06JTFrD26kkyZMoW6desae7gQQlQak+fRpaen8/333/Pss88W275x40YyMzPx9/cv8/a2qpMenbJIj05ZKuXNiNDQUHr27Mm7775LYmJisX2//PILn332GQMGDODIkSOmXEYIIUxidNCdO3eOiRMnkpmZibe3Nzk5OcX29+/fnxYtWpCWlsbUqVO5fPmyycUKIYQxjA669evXk5eXx4gRI/juu+/uWmnY39+fnTt3MnLkSLKysli7dq3JxQohhDGMfkbXrVs3cnJyCA0NxdbWttR2d+7coUuXLlSrVo2ff/7Z2DotRp7RKYs8o1OWCn9Gl5KSgpeXV5khB2BnZ0f9+vW5ceOGsZcSQgiTGB10Li4udw1AlCYlJQVHR0djLyWEECYxOuiaN2/OjRs3+P7778tsd+jQIeLj42nRooWxlxJCCJMYHXTDhg1Dp9Mxc+ZMvvrqq7tGXXNycti9ezfTp09HpVIxbNgwk4sVQghjmDRhePr06XzzzTeoVCrUajXe3t5otVoyMzO5cuUKOTk56HQ6BgwYwJIlS8xZd6WRwQhlkcEIZTF0MMKkoCsoKGD9+vWsW7dO/2Gcf9JqtYwdO5bJkyfft991laBTFgk6ZamUoCuSm5vLyZMnuXz5Mrdu3cLe3h5vb2/atWuHg4ODqae3KAk6ZZGgU5ZKDTolk6BTFgk6ZamUd12FEOJ+YNAyTSNHjkSlUrFo0SLc3Nz028pDpVLx5Zdflr9CIYQwkUFBd+rUKVQqFVlZWcW2lUdJH7gWQojKYFDQTZ48GZVKhbOzs37blClTKqwoIYQwJxmMuAcZjFAWGYxQFhmMEEKIvxh061pQUGCWi1lZSa4KISqfQUFnjhfyVSoV58+fN/k8QghRXgYFnTke48mjQCGEpRgUdJs3by5x+4oVKzh+/DidOnXC39+fZs2aUb16de7cuUNkZCQ7duxg//799OvXj5kzZ5q1cCGEMJRBQdehQ4e7tgUHB3PixAlGjRrFrFmz7trv5uZGt27dWLp0KatXr6ZTp06MGDHC9IqFEKKcjJ5eMmzYMC5fvsyRI0fKXE49Ly+PRx55BFdXV/bt22d0oZYi00uURaaXKEuFTy+JjIykfv369/xmhI2NDV5eXly5csXYSwkhhEmMDjpHR0fi4+Pv2S43N5crV64Ue6tCCCEqk9FB17JlS5KTk9m0aVOZ7ZYuXUpqairt2rUz9lJCCGESgwYjSjJu3DgOHz7MggULiIyMZMiQITRu3BitVktGRgZhYWFs27aNkJAQbG1tCQgIMGfdQghhMJPedV27di1LliwpdWUSnU6HWq1m/vz5DBw40OgiLUmpgxGNGjVg+puT6dO7O25urty8eYtjx39n1apNhBxQ7gP7+30wIiHpOl9s282RY6eIT0gCwKNuHXp07cCY557BxdnprmMioi/x+Zc7OfH7n9xKS8Ottisd2z7M2Oeeob7X/f3vd6WtMHzq1ClWrVrF8ePHi30JTKPR0L17d6ZOnUrjxo1NuYRFKTHo+vXtwa6dn6PV2pOZeZvIqEu41qqJh0ddABYvXsVbM+ZauMqKcT8H3akzZ5n69vukpWdgbW1FPQ938gsKuBafQH5+AbVcnFmzZB5NGjXQH7Pvx4O8M/8T8vLysLVV06iBNzdv3SIh8Tq2tmrmzXqdx/v0sOCvMk2lL6WenZ3NtWvXSEtLw8nJCXd3d+zs7MxxaotSWtC5uDgTdi6UmjWd2f7VXiZNfpu0tMIPG/n7D2bThqXY2NgwbPiL7NnznYWrNb/7NejS0jN40j+Am7dSeaRTOz6Y8SqutWoCEHstnplzF3H6z/N4urvx9ZdrsLOz5fyFKEZMeJW8vDx6du3IBzNfxdmpBlAYgP/58BPy8vLZvGoRrR9qbsmfZ7RKX71Eo9Hg4+ND69atadCggSJCTonGvzCCmjWduXTpCi+Mf1UfcgDbt+9l/edbAXjpxVGWKlGU4Ovv9nPzViq1a7mweM4MfcgBeHnUZen8d6hezZGrcQn89PMRANZs2kZeXh6NG3rzybxZ+pADGNj/UUYPfxqdTse8xZ9V+u+pbGYJutDQUObMmcPYsWN55plnAEhLS2PFihXcvHnTHJcQZhJzOZZt2/ewes0Xd310HOB//wsDoF59z8ouTZTh+O9/AtCjawccHLR37a/p7ITfX72ys2ER5Ofn8+uJ3wF4/tnBqNXqu44ZNXwwAOGRF7kQdamCKq8ajB51BUhOTuaVV17h5MmTQOHgQ9HARFxcHCtWrGDLli2sXbuWhx9+2PRqhcl27PiGHTu+KXV/27atAIiKVPa/+PebCWP96dvrEbzLGDwoegpVkF9ASmoaWVnZALRo0qjE9rVqOlO9miNp6Rn8eS6s2LM9pTG6R5eTk8P48eM5ceIEDg4O9O3blzp16vx9YisrnJycSE1NZdy4cVy7ds0sBYuKUaNGdd6Z/SpjxwwnNzeXhYuUfztzP3moWROeeqw3rVo0LXF/yq1UTp4u7PX5NKxXbCaEjU3p/ZncvDwArsUnmbHaqsfooAsMDCQ8PBw/Pz9++uknli1bhofH3/+18fX1JSQkhNatW5OVlcXGjRvNUrAwryFDBnDm9AGuxZ7m3f+8wdWr8TwzdDyhR45ZujRRDh99upqs7DvYa+zo2/MRnGtUx/GvW9zwyOgSj7kWn6jv9aWlp5fYRimMDrrg4GCsrKxYuHAhNWvWLLGNo6MjixYtwtramtDQ+3O0S+k6tPejZYumaDQaAJyda/DEE31xdHSwcGXCUGs2bSN4/88A/N+4Ebg4O2FlZUX3LoWrDm3YuqvE57Frv9iu//uinp1SGR10Fy9exMfHBy8vrzLbeXh44O3tbdB7saLyrfhsI9WdGuFZrzXjxr9CVlY2L00Yxf6fdmBtbW3p8sQ9rNwQyPJ1hetF9nqkEy+MHKbf93/jRmCvsSMi6hIBL8/kz3Ph5ObmEp94nYUr1hG07wecnaoDYGNt0uP6Ks/ooCvPdyTUarX8oamirl2L5/btLBISktiyZSc9H32arKws2rfzY+SIZyxdnihFXl4+7y9YzsrPCz8K37VjWxbNmVHs2VzD+l58Ov8dHB20/P7nOUZMeJXWPZ+i79Oj+XLHXqYEjKJDGz8A/W2uUhkddB4eHsTExJCRkVFmu5SUFCIjI4s9vxNVV0RENHv2fg9Ajx6dLVyNKElGZiYT33iHnV8XTuh+rHd3Vnz8LnZ2dy+Z1rVjW77dvp7J45+ne5cOdO3YltHDh7Br02f837gRJKekAFDb1aVSf0NlM7q/2qNHDzZs2MDChQt5//33S203d+5c8vPz6datm1HXmTvXtFeRZs+ebdLxSuPs7EQDby8uX7lKcnJKiW2uXCkcIXer41qZpQkDJCRdZ+Lr/yHyYgwA40YM5bVJL5T6vjkUTiOZ+MLIu7YXFBQQ8df8OV8f74oot8owOujGjx9PUFAQO3bsIDk5mYEDB5L+18hNdHQ0ERERBAYGcurUKRwcHBg7dqxR1wkKCiI7O1v/v8vzxppKpZKg+5fffg3Gx8ebt97+gMVLVpfYpl69wt73tbiEyixN3MP1GzcZN+UtYq/FY21txcxXJzF8yBOltv/l1+NEXbpChzataNnM9679J0//j7T0DOw1djzcsllFlm5xRgedi4sLK1euZNKkSYSEhHDgwAH9vieffBIoDCWtVsuSJUuKzbErjz179jBp0iQuXryIl5cXgwYNMrZkAewP+QUfH2/Gjx/J0mXryfvXaFv9+p4MHvQ4AN8G77dEiaIEubm5TJ7+HrHX4lGrbVj4/tv06dG1zGP2Hz7Knm9/YkDfnix4761i+3Q6HWs3F466PjPwMTQKf2XT5Jf6ExMT+fzzzwkJCSEuLk6/vVatWvTs2ZMJEyZQr149k4pMTk7mueeeIzY2llWrVtGzZ0+TzlceSnupv0GDevxx+iBarT27gr5l8pS39bewfn4tCPxyFU18ffjll//yaJ+hFq7W/O7Xl/pXb9zKivVbAHjvrZcZ+tRj9zzm1JmzjJn8JiqVinmzX+epx3oDhc/4Pl62lj3f/kSN6tX4ZuvaEpd3uh9U+Oolly5dwtvbu9izgdu3b5Oeno5Wq6VatWrGnLZUYWFhDB8+nFq1avHDDz/c81sV5qK0oAN4YkAftgauwsFBS3Z2NhciLqLR2NHE1weA3347xaAhY0p9hnc/ux+DLjc3lx4DR5CWnoGNtTUPtWhSZvtundozYYw/AItWrGfTtiCg8JlrTacaXLocS1b2HWpUr8b6pfNp5lvyK2L3A0ODzuhb12nTppGZmUlQUJD+exBarRattmKGqZs1a8aoUaP4/PPP2bp1q9HP/AQEfxdCm3Z9ef21ifTt051mTRtx+3YWR44cI3DrbjZu2n7XLa2wnIjoGNLSC2c35OXnc/rP82W2r+fhrv/7N6YE0KpFE7YG7SM8IpobySm41a5F9y4dGP/8MOq41qrQ2qsKo3t0fn5+1K1bl++//97cNZUqLS2NzZs34+bmxtChlXNbpcQe3YPsfuzRidJVeI/OwcGhXJOGzaF69epMmTKlUq8phLj/GT1heMSIEVy+fJkNGzaYsx4hhDA7o3t0Dz30EG3atGHhwoUEBgbSunVrXF1d9S+Hl+Tll1829nJCCGE0o5/RNW3aFJVKpZ/AW9bM7KIFOcPCwoyr0oLkGZ2yyDM6ZanwZ3Tt27c39lAhhKhUZvsKmFJJj05ZpEenLJX+FTAhhKiqyn3rev78ec6cOUNmZiZ169alS5cupa4wLIQQVYHBQRcbG8tbb73F6dOni21Xq9WMGzeOadOmyeKaQogqyaCgy8jIYMyYMcTHx9+1TFJOTg5r164lJSWFOXPmVEiRQghhCoOe0QUGBhIXF4eDgwP/+c9/CA0N5cyZM+zdu5dBgwah0+nYuXMn0dElf21ICCEsyaAe3c8//4xKpWLVqlXFppU0bdqUjz/+GI1Gw44dOzhw4AA+Pj4VVqwQQhjDoB5dTEwM7u7upc6d8/f3R6fTceHCBbMWJ4QQ5mBQ0GVkZODiUvrHMxo2LJzLcuvWLbMUJYQQ5mRQ0OXm5qJWq0vdb/fXMsx37twxT1VCCGFGZp0wLC9ZCCGqInkzQgiheBJ0QgjFM/jNiPT0dE6cOGFSG1nxRAhhCQatXlK09pxJF1KpOH++7I96VEWyeomyyOolymL29ehkoEEIcb8yKOgOHDhQ0XUIIUSFMSjoPDzk9k0Icf+SUVchhOJJ0AkhFE+CTgiheBJ0QgjFk6ATQiieBJ0QQvEk6IQQiidBJ4RQPAk6IYTiSdAJIRRPgk4IoXgSdEIIxZOgE0IongSdEELxJOiEEIonQSeEUDwJOiGE4knQCSEUT4JOCKF4EnRCCMWToBNCKJ4EnRBC8STohBCKJ0EnhFA8CTohhOJJ0AkhFE+l0+l0li5CCCEqkvTohBCKJ0EnhFA8CTohhOJJ0AkhFE+CTgiheBJ0QgjFk6ATQiieBJ0QQvEk6IQQiidBJ4RQPAk6IYTiSdAJIRRPgk4IoXgSdA+oS5cu8cYbb9CrVy9atWpFv379+OSTT7h9+7alSxNmEBMTg5+fH3PmzLF0KVWCBN0D6M8//+Tpp59m37591KpVi549e3L79m1Wr16Nv78/GRkZli5RmODGjRtMmjSJrKwsS5dSZUjQPWDy8vJ47bXXuH37NvPmzWPnzp0sW7aMkJAQHn30US5cuMCSJUssXaYwUlhYGCNGjCA6OtrSpVQpEnQPmODgYGJjY+ncuTNDhw7Vb9doNMyfPx+tVsuOHTtITU21YJWivFJTU1m4cCHPPvssly9fxtPT09IlVSkSdA+YgwcPAtC3b9+79jk7O9OxY0dyc3MJDQ2t7NKECTZv3sz69eupWbMmq1atYvDgwZYuqUqRoHvAREREANCkSZMS9zdq1AiA8PDwSqtJmM7NzY233nqLH3/8kUcffdTS5VQ5NpYuQFSupKQkAOrUqVPi/tq1axdrJ+4Pw4YNs3QJVZr06B4wRdNHNBpNifuLtss0E6EkEnQPGGtrawBUKlWZ7eTjcEJJJOgeMA4ODgClzrHKzs4GwN7evtJqEqKiSdA9YIqewV2/fr3E/UXP5oraCaEEEnQPmKLR1qioqBL3F20vbVRWiPuRBN0DpkePHgD8+OOPd+1LSUnh2LFjqNVqunbtWtmlCVFhJOgeMH379sXd3Z0jR44QGBio356dnc2sWbO4ffs2Q4cOpVatWhasUgjzknl0DxiNRsNHH33EhAkTmDNnDkFBQXh6enL69GmSkpJo3rw5b7zxhqXLFMKspEf3AOrYsSM7d+6kf//+xMXF8fPPP1OtWjUmTZrEli1bcHR0tHSJQpiVSicTpoQQCic9OiGE4knQCSEUT4JOCKF4EnRCCMWToBNCKJ4EnRBC8STohBCKJ0EnhFA8CTohhOLJu66C3bt3M2PGjHIf16FDB7Zs2VIBFVWct99+mz179lRa7UXLXW3cuJEuXbpU6LWOHTvG6NGjATh37hw2NvLHu4j8kxC4uLjQpk2bu7bHx8cTHx+Pra0tLVu2vGu/r69vZZQnhMkk6AQ9evTQr1P3T8uXL2fFihW4urqybds2C1QmhHnIMzohhOJJ0AkhFE9uXYXJih64Hz16lI8++ogDBw5gZWVFixYt2LBhA7Nnz2bPnj0MHDiQRYsW3XV80WCIh4cHBw8evGv/iRMn2LJlC7///ju3bt2ievXq+Pn5MWrUKDp37lzhv69IWloa27dv5/Dhw0RFRZGRkYG9vT316tWjV69ejB49mho1apR6/DfffMMXX3xBVFQUGo0GPz8/Ro8eXeqy9Tk5OWzbto3vvvuOqKgocnNzqVu3Lj179mT8+PHyAaNykKATZjN16lROnz6Nr68vN2/exNXV1eSRv0WLFrFu3ToAatSoga+vL0lJSRw4cIADBw4QEBDAm2++aY7yyxQTE8PYsWOJj4/HxsaGevXq4eHhwbVr1zh37hznzp0jODiYoKAg/Scl/2nlypWcOHECBwcHGjVqpF/w9Oeff2bq1KlMmTKlWPukpCQmTJhAWFgYKpUKd3d3nJyciIqKYtOmTezdu5eVK1fStm3bCv/tSiBBJ8zm7NmzbNmyhfbt21NQUEBaWppJ59u+fTvr1q2jevXqvPPOOzz11FNA4ce1v//+e2bNmsX69evx9vZm2LBh5vgJpXrnnXeIj4/Hz8+P5cuX63tTOp2Or7/+mhkzZnDp0iX27t3LyJEj7zr+xIkTDB06lFmzZqHVasnPz2ft2rV8+umnLF++nLZt2+p7pzqdjmnTphEWFkbbtm2ZO3cuDRs2BCA9PZ0PP/yQoKAgJk+ezL59+3B1da3Q364E8oxOmM3jjz9O+/btAbCyssLJycnoc+Xk5LB8+XIA5s+frw85AJVKxYABA/Q9ueXLl5OXl2d84feQnJxMZGQkAB988EGxW0aVSsXgwYPp0KEDABcuXCjxHG3atGHu3LlotVoArK2tmThxov53rVmzRt/2wIEDnD59mtq1a7N+/Xp9yAFUq1aNefPm8fDDD5OSksKmTZvM+luVSoJOmI05b6NOnz7NjRs3cHBwoHfv3iW2eeqpp7CysiIxMZHz58+b7dr/5uLiwm+//cYff/xR4tzB/Px8/Xc2srOzSzzHyJEjUalUd21/9tlngcIe3+3btwEICQkBoE+fPvpg/CeVSqUPyEOHDhnxix48cusqzMact1BFPajc3NwSbwWLWFtbU1BQwMWLF2nVqpXZrl8SjUZDfHw8f/zxB1euXCE2Npbo6GjCwsL0IVVQUFDisc2bNy9xe9FATl5eHpcvX6ZZs2ZEREQAhSEWHh5e4nFFjwViYmLQ6XQlhqj4mwSdMBuNRmO2c6WnpwOFt7C///77Pdub+jzwXi5evMiCBQs4fPhwsTBzdHSkXbt2JCUllRpKQIkDFP/enpWVBUBGRgbw95spZcnPzyczM1O+3HYPEnSi0pT2wbmiP+D/ZG9vD0CLFi3YvXt3hdZ1L8nJyTz//PMkJyfj7u7Os88+S/PmzWnYsCGenp6oVCpef/31MoOuqMf3b0WBDuinphT99nfeeYfnn3/ejL/kwSVBJyqctbU1UHgbWpKkpKS7tjVo0AAovDXLy8srcZqKTqfj2LFjuLm54e7ujq2trRmr/ltQUBDJyck4OTkRFBREzZo172qTmJhY5jkuXryo/03/VPRs0c7Ojnr16gGFvz08PFx/+16S+Ph4EhMTcXd3l/l0BpDBCFHhnJ2dgcI/7P+Wn59f4iTh9u3bU61aNTIzM0vt0e3bt48xY8bw+OOPk5CQYN6i/+Hq1asAuLu7lxhyUVFRnDlzBij8PSUJCgoqcXvRCirdu3dHrVYD0KtXLwC+++47kpOTSzxu5syZDB8+nNdee83wH/IAk6ATFa5oNDYyMpLNmzfrb2FTU1OZOXOm/uH7P2m1WiZMmADAvHnzCAoKKvZsLCQkhHfffRconNZS1BsyVG5uLjdv3izzr6LbzaLpHeHh4fz444/6c+h0On755RcCAgL0vdWSbsOhcMrIkiVLyMnJAQqfPX788cccPHgQtVrN5MmT9W0HDBiAr68vaWlpjB8/vljPLiMjg/fee49ff/0VlUql/2ckyia3rqLC9ejRg3bt2nHy5EnmzZvHhg0bcHZ25uLFi+Tm5jJ16lT9nLl/evHFF4mNjWXHjh3MnDmThQsX4unpSWJiov52t2h+WnmdPn36nq+PjR49mlmzZjF06FC2bt3K5cuXmTZtGh4eHjg7OxMfH09ycjJqtZoOHTpw/PjxUm9h+/fvz5o1a/jqq6/w9PQkNjaW1NRU1Go1H374Ic2aNdO3VavVrFy5koCAAMLCwnjyySdp0KAB9vb2xMTE6AN4xowZdO/evdy//UEkQScqnJWVFZ9//jkbN24kODiYy5cvk5WVRefOnZk4cSJOTk4lBp1KpeKDDz6gf//+bN++nTNnzhAWFoadnR1+fn48+eSTDB8+vMKezRVxdHRk165drFu3jkOHDnH16lVu3LiBm5sbPXv2ZMyYMWi1Wvr06UN4eDhxcXG4u7sXO8fs2bPp2LEj27ZtIyIiAkdHRwYMGMBLL71E06ZN77qml5cXe/bsYdu2bfz4449ER0eTnZ2Ns7Mz3bp1Y9SoUfrJ2eLeVLrShsKEEEIh5BmdEELxJOiEEIonQSeEUDwJOiGE4knQCSEUT4JOCKF4EnRCCMWToBNCKJ4EnRBC8STohBCKJ0EnhFA8CTohhOJJ0AkhFO//ARCcuoDujNkmAAAAAElFTkSuQmCC",
      "text/plain": [
       "<Figure size 300x300 with 1 Axes>"
      ]
     },
     "metadata": {},
     "output_type": "display_data"
    }
   ],
   "source": [
    "sns.set(font_scale=1.5)\n",
    "def plot_conf_mat(Y_test,Y_preds):\n",
    "    fig,ax=plt.subplots(figsize=(3,3))\n",
    "    ax=sns.heatmap(confusion_matrix(Y_test,Y_preds),annot=True,cbar=False)\n",
    "    plt.xlabel(\"True Label\")\n",
    "    plt.ylabel(\"Predicted Label\")\n",
    "plot_conf_mat(Y_test,new_y_preds)"
   ]
  },
  {
   "cell_type": "code",
   "execution_count": 108,
   "id": "bd7d03e0",
   "metadata": {},
   "outputs": [
    {
     "name": "stdout",
     "output_type": "stream",
     "text": [
      "              precision    recall  f1-score   support\n",
      "\n",
      "           0       0.89      0.86      0.88        29\n",
      "           1       0.88      0.91      0.89        32\n",
      "\n",
      "    accuracy                           0.89        61\n",
      "   macro avg       0.89      0.88      0.88        61\n",
      "weighted avg       0.89      0.89      0.89        61\n",
      "\n"
     ]
    }
   ],
   "source": [
    "# Classification Report\n",
    "print(classification_report(Y_test,new_y_preds))"
   ]
  },
  {
   "attachments": {},
   "cell_type": "markdown",
   "id": "41c5b736",
   "metadata": {},
   "source": [
    "### Calculate evavluation metric using cross-validation\n",
    "we are calculating the above classification metic again but with cross-validation and for this we will use `cross_val_score()`."
   ]
  },
  {
   "cell_type": "code",
   "execution_count": 109,
   "id": "b30efc13",
   "metadata": {},
   "outputs": [
    {
     "data": {
      "text/plain": [
       "{'C': 0.20433597178569418, 'solver': 'liblinear'}"
      ]
     },
     "execution_count": 109,
     "metadata": {},
     "output_type": "execute_result"
    }
   ],
   "source": [
    "gs_log_reg.best_params_"
   ]
  },
  {
   "cell_type": "code",
   "execution_count": 110,
   "id": "e6784449",
   "metadata": {},
   "outputs": [],
   "source": [
    "clf=LogisticRegression(C=0.20433597178569418,solver=\"liblinear\")"
   ]
  },
  {
   "cell_type": "code",
   "execution_count": 132,
   "id": "9b857218",
   "metadata": {},
   "outputs": [],
   "source": [
    "cv_acc=cross_val_score(clf,X,Y,cv=5,scoring=\"accuracy\")\n",
    "cv_acc=np.mean(cv_acc)"
   ]
  },
  {
   "cell_type": "code",
   "execution_count": 133,
   "id": "2a73056e",
   "metadata": {},
   "outputs": [],
   "source": [
    "cv_precision=cross_val_score(clf,X,Y,cv=5,scoring=\"precision\")\n",
    "cv_precision=np.mean(cv_precision)"
   ]
  },
  {
   "cell_type": "code",
   "execution_count": 134,
   "id": "cf427e74",
   "metadata": {},
   "outputs": [],
   "source": [
    "cv_recall=cross_val_score(clf,X,Y,cv=5,scoring=\"recall\")\n",
    "cv_recall=np.mean(cv_recall)"
   ]
  },
  {
   "cell_type": "code",
   "execution_count": 135,
   "id": "35c51d10",
   "metadata": {},
   "outputs": [],
   "source": [
    "cv_f1=cross_val_score(clf,X,Y,cv=5,scoring=\"f1\")\n",
    "cv_f1=np.mean(cv_f1)"
   ]
  },
  {
   "cell_type": "code",
   "execution_count": 141,
   "id": "c31a671e",
   "metadata": {},
   "outputs": [
    {
     "data": {
      "text/plain": [
       "<Axes: title={'center': 'Cross validation classification metrics.'}>"
      ]
     },
     "execution_count": 141,
     "metadata": {},
     "output_type": "execute_result"
    },
    {
     "data": {
      "image/png": "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",
      "text/plain": [
       "<Figure size 640x480 with 1 Axes>"
      ]
     },
     "metadata": {},
     "output_type": "display_data"
    }
   ],
   "source": [
    "# Visualise our cross-validated scores\n",
    "cv_metric=pd.DataFrame({\n",
    "    \"Accuracy\":cv_acc,\n",
    "    \"Precision\":cv_precision,\n",
    "    \"Recall\":cv_recall,\n",
    "    \"F1\":cv_f1\n",
    "},\n",
    "    index=[0])\n",
    "cv_metric.T.plot.bar(title=\"Cross validation classification metrics.\",legend=False)"
   ]
  },
  {
   "attachments": {},
   "cell_type": "markdown",
   "id": "5dc844a6",
   "metadata": {},
   "source": [
    "### Feature Importance\n",
    "Which imformation provides what amount of  importance in prediction for the values in the modal."
   ]
  },
  {
   "cell_type": "code",
   "execution_count": 142,
   "id": "fa439a9b",
   "metadata": {},
   "outputs": [
    {
     "data": {
      "text/html": [
       "<div>\n",
       "<style scoped>\n",
       "    .dataframe tbody tr th:only-of-type {\n",
       "        vertical-align: middle;\n",
       "    }\n",
       "\n",
       "    .dataframe tbody tr th {\n",
       "        vertical-align: top;\n",
       "    }\n",
       "\n",
       "    .dataframe thead th {\n",
       "        text-align: right;\n",
       "    }\n",
       "</style>\n",
       "<table border=\"1\" class=\"dataframe\">\n",
       "  <thead>\n",
       "    <tr style=\"text-align: right;\">\n",
       "      <th></th>\n",
       "      <th>age</th>\n",
       "      <th>sex</th>\n",
       "      <th>cp</th>\n",
       "      <th>trestbps</th>\n",
       "      <th>chol</th>\n",
       "      <th>fbs</th>\n",
       "      <th>restecg</th>\n",
       "      <th>thalach</th>\n",
       "      <th>exang</th>\n",
       "      <th>oldpeak</th>\n",
       "      <th>slope</th>\n",
       "      <th>ca</th>\n",
       "      <th>thal</th>\n",
       "      <th>target</th>\n",
       "    </tr>\n",
       "  </thead>\n",
       "  <tbody>\n",
       "    <tr>\n",
       "      <th>0</th>\n",
       "      <td>63</td>\n",
       "      <td>1</td>\n",
       "      <td>3</td>\n",
       "      <td>145</td>\n",
       "      <td>233</td>\n",
       "      <td>1</td>\n",
       "      <td>0</td>\n",
       "      <td>150</td>\n",
       "      <td>0</td>\n",
       "      <td>2.3</td>\n",
       "      <td>0</td>\n",
       "      <td>0</td>\n",
       "      <td>1</td>\n",
       "      <td>1</td>\n",
       "    </tr>\n",
       "    <tr>\n",
       "      <th>1</th>\n",
       "      <td>37</td>\n",
       "      <td>1</td>\n",
       "      <td>2</td>\n",
       "      <td>130</td>\n",
       "      <td>250</td>\n",
       "      <td>0</td>\n",
       "      <td>1</td>\n",
       "      <td>187</td>\n",
       "      <td>0</td>\n",
       "      <td>3.5</td>\n",
       "      <td>0</td>\n",
       "      <td>0</td>\n",
       "      <td>2</td>\n",
       "      <td>1</td>\n",
       "    </tr>\n",
       "    <tr>\n",
       "      <th>2</th>\n",
       "      <td>41</td>\n",
       "      <td>0</td>\n",
       "      <td>1</td>\n",
       "      <td>130</td>\n",
       "      <td>204</td>\n",
       "      <td>0</td>\n",
       "      <td>0</td>\n",
       "      <td>172</td>\n",
       "      <td>0</td>\n",
       "      <td>1.4</td>\n",
       "      <td>2</td>\n",
       "      <td>0</td>\n",
       "      <td>2</td>\n",
       "      <td>1</td>\n",
       "    </tr>\n",
       "    <tr>\n",
       "      <th>3</th>\n",
       "      <td>56</td>\n",
       "      <td>1</td>\n",
       "      <td>1</td>\n",
       "      <td>120</td>\n",
       "      <td>236</td>\n",
       "      <td>0</td>\n",
       "      <td>1</td>\n",
       "      <td>178</td>\n",
       "      <td>0</td>\n",
       "      <td>0.8</td>\n",
       "      <td>2</td>\n",
       "      <td>0</td>\n",
       "      <td>2</td>\n",
       "      <td>1</td>\n",
       "    </tr>\n",
       "    <tr>\n",
       "      <th>4</th>\n",
       "      <td>57</td>\n",
       "      <td>0</td>\n",
       "      <td>0</td>\n",
       "      <td>120</td>\n",
       "      <td>354</td>\n",
       "      <td>0</td>\n",
       "      <td>1</td>\n",
       "      <td>163</td>\n",
       "      <td>1</td>\n",
       "      <td>0.6</td>\n",
       "      <td>2</td>\n",
       "      <td>0</td>\n",
       "      <td>2</td>\n",
       "      <td>1</td>\n",
       "    </tr>\n",
       "  </tbody>\n",
       "</table>\n",
       "</div>"
      ],
      "text/plain": [
       "   age  sex  cp  trestbps  chol  fbs  restecg  thalach  exang  oldpeak  slope  \\\n",
       "0   63    1   3       145   233    1        0      150      0      2.3      0   \n",
       "1   37    1   2       130   250    0        1      187      0      3.5      0   \n",
       "2   41    0   1       130   204    0        0      172      0      1.4      2   \n",
       "3   56    1   1       120   236    0        1      178      0      0.8      2   \n",
       "4   57    0   0       120   354    0        1      163      1      0.6      2   \n",
       "\n",
       "   ca  thal  target  \n",
       "0   0     1       1  \n",
       "1   0     2       1  \n",
       "2   0     2       1  \n",
       "3   0     2       1  \n",
       "4   0     2       1  "
      ]
     },
     "execution_count": 142,
     "metadata": {},
     "output_type": "execute_result"
    }
   ],
   "source": [
    "df.head()"
   ]
  },
  {
   "cell_type": "code",
   "execution_count": 143,
   "id": "fb284a00",
   "metadata": {},
   "outputs": [
    {
     "data": {
      "text/html": [
       "<style>#sk-container-id-6 {color: black;background-color: white;}#sk-container-id-6 pre{padding: 0;}#sk-container-id-6 div.sk-toggleable {background-color: white;}#sk-container-id-6 label.sk-toggleable__label {cursor: pointer;display: block;width: 100%;margin-bottom: 0;padding: 0.3em;box-sizing: border-box;text-align: center;}#sk-container-id-6 label.sk-toggleable__label-arrow:before {content: \"▸\";float: left;margin-right: 0.25em;color: #696969;}#sk-container-id-6 label.sk-toggleable__label-arrow:hover:before {color: black;}#sk-container-id-6 div.sk-estimator:hover label.sk-toggleable__label-arrow:before {color: black;}#sk-container-id-6 div.sk-toggleable__content {max-height: 0;max-width: 0;overflow: hidden;text-align: left;background-color: #f0f8ff;}#sk-container-id-6 div.sk-toggleable__content pre {margin: 0.2em;color: black;border-radius: 0.25em;background-color: #f0f8ff;}#sk-container-id-6 input.sk-toggleable__control:checked~div.sk-toggleable__content {max-height: 200px;max-width: 100%;overflow: auto;}#sk-container-id-6 input.sk-toggleable__control:checked~label.sk-toggleable__label-arrow:before {content: \"▾\";}#sk-container-id-6 div.sk-estimator input.sk-toggleable__control:checked~label.sk-toggleable__label {background-color: #d4ebff;}#sk-container-id-6 div.sk-label input.sk-toggleable__control:checked~label.sk-toggleable__label {background-color: #d4ebff;}#sk-container-id-6 input.sk-hidden--visually {border: 0;clip: rect(1px 1px 1px 1px);clip: rect(1px, 1px, 1px, 1px);height: 1px;margin: -1px;overflow: hidden;padding: 0;position: absolute;width: 1px;}#sk-container-id-6 div.sk-estimator {font-family: monospace;background-color: #f0f8ff;border: 1px dotted black;border-radius: 0.25em;box-sizing: border-box;margin-bottom: 0.5em;}#sk-container-id-6 div.sk-estimator:hover {background-color: #d4ebff;}#sk-container-id-6 div.sk-parallel-item::after {content: \"\";width: 100%;border-bottom: 1px solid gray;flex-grow: 1;}#sk-container-id-6 div.sk-label:hover label.sk-toggleable__label {background-color: #d4ebff;}#sk-container-id-6 div.sk-serial::before {content: \"\";position: absolute;border-left: 1px solid gray;box-sizing: border-box;top: 0;bottom: 0;left: 50%;z-index: 0;}#sk-container-id-6 div.sk-serial {display: flex;flex-direction: column;align-items: center;background-color: white;padding-right: 0.2em;padding-left: 0.2em;position: relative;}#sk-container-id-6 div.sk-item {position: relative;z-index: 1;}#sk-container-id-6 div.sk-parallel {display: flex;align-items: stretch;justify-content: center;background-color: white;position: relative;}#sk-container-id-6 div.sk-item::before, #sk-container-id-6 div.sk-parallel-item::before {content: \"\";position: absolute;border-left: 1px solid gray;box-sizing: border-box;top: 0;bottom: 0;left: 50%;z-index: -1;}#sk-container-id-6 div.sk-parallel-item {display: flex;flex-direction: column;z-index: 1;position: relative;background-color: white;}#sk-container-id-6 div.sk-parallel-item:first-child::after {align-self: flex-end;width: 50%;}#sk-container-id-6 div.sk-parallel-item:last-child::after {align-self: flex-start;width: 50%;}#sk-container-id-6 div.sk-parallel-item:only-child::after {width: 0;}#sk-container-id-6 div.sk-dashed-wrapped {border: 1px dashed gray;margin: 0 0.4em 0.5em 0.4em;box-sizing: border-box;padding-bottom: 0.4em;background-color: white;}#sk-container-id-6 div.sk-label label {font-family: monospace;font-weight: bold;display: inline-block;line-height: 1.2em;}#sk-container-id-6 div.sk-label-container {text-align: center;}#sk-container-id-6 div.sk-container {/* jupyter's `normalize.less` sets `[hidden] { display: none; }` but bootstrap.min.css set `[hidden] { display: none !important; }` so we also need the `!important` here to be able to override the default hidden behavior on the sphinx rendered scikit-learn.org. See: https://github.com/scikit-learn/scikit-learn/issues/21755 */display: inline-block !important;position: relative;}#sk-container-id-6 div.sk-text-repr-fallback {display: none;}</style><div id=\"sk-container-id-6\" class=\"sk-top-container\"><div class=\"sk-text-repr-fallback\"><pre>LogisticRegression(C=0.20433597178569418, solver=&#x27;liblinear&#x27;)</pre><b>In a Jupyter environment, please rerun this cell to show the HTML representation or trust the notebook. <br />On GitHub, the HTML representation is unable to render, please try loading this page with nbviewer.org.</b></div><div class=\"sk-container\" hidden><div class=\"sk-item\"><div class=\"sk-estimator sk-toggleable\"><input class=\"sk-toggleable__control sk-hidden--visually\" id=\"sk-estimator-id-16\" type=\"checkbox\" checked><label for=\"sk-estimator-id-16\" class=\"sk-toggleable__label sk-toggleable__label-arrow\">LogisticRegression</label><div class=\"sk-toggleable__content\"><pre>LogisticRegression(C=0.20433597178569418, solver=&#x27;liblinear&#x27;)</pre></div></div></div></div></div>"
      ],
      "text/plain": [
       "LogisticRegression(C=0.20433597178569418, solver='liblinear')"
      ]
     },
     "execution_count": 143,
     "metadata": {},
     "output_type": "execute_result"
    }
   ],
   "source": [
    "clf=LogisticRegression(C=0.20433597178569418,solver='liblinear')\n",
    "clf.fit(X_train,Y_train)"
   ]
  },
  {
   "cell_type": "code",
   "execution_count": 144,
   "id": "4362e5f7",
   "metadata": {},
   "outputs": [
    {
     "data": {
      "text/plain": [
       "array([[ 0.00316728, -0.86044651,  0.66067041, -0.01156993, -0.00166374,\n",
       "         0.04386107,  0.31275847,  0.02459361, -0.6041308 , -0.56862804,\n",
       "         0.45051628, -0.63609897, -0.67663373]])"
      ]
     },
     "execution_count": 144,
     "metadata": {},
     "output_type": "execute_result"
    }
   ],
   "source": [
    "# Check coef_ -> Gives the participation of every column of the dataset in final result\n",
    "clf.coef_"
   ]
  },
  {
   "cell_type": "code",
   "execution_count": 145,
   "id": "3daae908",
   "metadata": {},
   "outputs": [
    {
     "data": {
      "text/plain": [
       "{'age': 0.0031672801993431563,\n",
       " 'sex': -0.8604465072345515,\n",
       " 'cp': 0.6606704082033799,\n",
       " 'trestbps': -0.01156993168080875,\n",
       " 'chol': -0.001663744504776871,\n",
       " 'fbs': 0.043861071652469864,\n",
       " 'restecg': 0.31275846822418324,\n",
       " 'thalach': 0.024593613737779126,\n",
       " 'exang': -0.6041308000615746,\n",
       " 'oldpeak': -0.5686280368396555,\n",
       " 'slope': 0.4505162797258308,\n",
       " 'ca': -0.6360989676086223,\n",
       " 'thal': -0.6766337263029825}"
      ]
     },
     "execution_count": 145,
     "metadata": {},
     "output_type": "execute_result"
    }
   ],
   "source": [
    "feature_dict=dict(zip(df.columns,list(clf.coef_[0])))\n",
    "feature_dict"
   ]
  },
  {
   "cell_type": "code",
   "execution_count": 152,
   "id": "c0ea28c6",
   "metadata": {},
   "outputs": [
    {
     "data": {
      "text/plain": [
       "<Axes: title={'center': 'Feature Importance'}>"
      ]
     },
     "execution_count": 152,
     "metadata": {},
     "output_type": "execute_result"
    },
    {
     "data": {
      "image/png": "iVBORw0KGgoAAAANSUhEUgAAAksAAAH+CAYAAACMUkpZAAAAOXRFWHRTb2Z0d2FyZQBNYXRwbG90bGliIHZlcnNpb24zLjcuMSwgaHR0cHM6Ly9tYXRwbG90bGliLm9yZy/bCgiHAAAACXBIWXMAAA9hAAAPYQGoP6dpAAB/sElEQVR4nO3dd1gU1/s28HsXELAgdlFQYwEUEBSRGLHX2DVGjb1rLLFGxa6JJWqska81tmiMxigaExsW7EisiIBgA5UiCoh0dt4/eHd+rsCwCDu76v25Li9l5uzMs8Xh3pkz5ygEQRBARERERDlS6rsAIiIiIkPGsEREREQkgWGJiIiISALDEhEREZEEhiUiIiIiCQxLRERERBIYloiIiIgkMCwRERERSWBYIiIiIpJgrO8CiD5FdnZ2+Wp/7do1WFhY6KiavCUnJyM2NhbW1tZ6q6Gg1q1bh19++QWVK1fG6dOn9V2OXmRkZCA8PByfffaZvksh+qAwLBHpUbVq1VC6dOk82xkZGclQTc6OHDmC5cuXY/z48fj666/1VgcVzIULF/Djjz+iXbt2mDRpkr7LIfqgMCwR6dGoUaPQo0cPfZchadWqVYiKitJ3GVRAGzduxMOHD/VdBtEHiX2WiIiIiCQwLBERERFJYFgi+gClpaVhx44d6N27N1xdXVG3bl20a9cOS5YsQXR0dK6Pu3fvHubMmYMvv/wS9evXh6OjI7744guMGDECx44d02i7bt062NnZ4enTpwCA2bNnw87ODuvWrQMA/PXXX7Czs0PTpk1z3FdERATs7OxgZ2eHiIiIbNtdsWIFTp06hXbt2sHR0REtW7bE0aNHC/wc8+vq1auws7PDN998g7S0NGzYsAFffvklnJyc0LhxY0ybNk28DBkREYEZM2bAw8MDjo6OaN26NVatWoW0tDSNbapfmzFjxuD169f44Ycf0LRpU9StWxdt27bF0qVLERMTk2tNDx8+xLx589CmTRs4OjrC1dUVvXr1wvbt25GSkpKt/YwZM2BnZ4fff/8df/zxB5o3bw4nJye0bdtWrMXPzw8AsGHDBtjZ2WHGjBka28jPZ+Pt5zhp0iQkJSVh9erVaNeuHZycnODu7o7Ro0fD398/1+f45MkTLFmyBO3bt4ezszPq16+PPn36YN++fVCpVNnaZ2Zm4uDBgxg4cCAaNmwofmbmzJmDR48e5bofosLAPktEH5jo6GiMHDkS9+7dg0KhQKVKlWBpaYnQ0FBs374dhw4dgpeXF1xdXTUet2fPHvzwww9QqVQoWbIkqlatipSUFERERMDX1xe+vr4YPXq02PnXysoK9evXR0BAANLS0lC1alWUKVMGVlZWhfI8rl27hl9//RUlS5ZEjRo1EBYWhtq1axfoORZEamoqBg4ciBs3bsDa2hpVqlTBw4cP4e3tjevXr2PJkiUYPXo0UlNTUa1aNRgbGyM8PBwbNmxAeHg4Vq5cmW2biYmJ6Nu3L0JCQlCpUiXUqFED9+/fx7Zt23D06FFs2bIl252Rhw8fxqxZs5CWlgYzMzPY2trizZs3uHXrFm7duoUDBw5g8+bNqFixYrb9HT58GNevX0fFihVRrVo1REREoEiRIqhfvz5CQkKQmJgIKysrWFlZoVq1auLj8vvZeFtCQgJ69+6NkJAQlC9fHjVr1kRoaCjOnDkDX19feHl5oXnz5hqPOXnyJKZNm4akpCSYmpqiZs2aSEhIwI0bN3Djxg34+flh+fLlUCgUAIA3b95g3LhxuHTpEgCgQoUKsLa2xqNHj7Bv3z4cPnwYy5cvR9u2bfP7thNpRyAi2dna2gq2trbCgQMH8vU4lUol9O7dW7C1tRW++eYbISwsTFyXkJAgeHp6Cra2toK7u7sQHR0trnv48KHg4OAg2NraCl5eXkJaWpq47tWrV8KECRMEW1tbwcHBQYiLi9PYZ4sWLQRbW1th3759GssPHDgg2NraCk2aNMmx1vDwcPF5hoeHi8vXrl0rLh87dqyQmpoqCIIgxMbGFug55kW93xYtWmgsv3LlilhPvXr1hLNnz4rrLl26JNjZ2Qm2traCvb29MHjwYCEqKkqs8+3n8vZzVL82tra2gqOjo3DkyBFxXWRkpPj8OnbsKKSnp4vrbt68KdSpU0ewtbUVZs+eLbx+/VpcFxgYKLRt21awtbUVunfvrvG46dOni/tbuHChkJGRofGaCoIg9O/fX7C1tRVWrlyp8fzf97Px9nNs3LixcP78eXFdVFSU0LlzZ8HW1lbo0qWLxv4eP34suLi4CLa2tsL06dOFhIQEcd25c+eEunXrCra2tsIff/whLp80aZL4et26dUtcnpKSIqxcuVKwtbUVnJychODgYIFIF3gZjkiPPD09xUtVOf0ZMGCARnsfHx/cuHED5cuXx5YtW1C9enVxXYkSJbBo0SI4Ozvj1atX2L59u7ju4sWLMDIygoODA7799luYmJiI6ywtLTF9+nQAQHp6uqx3TE2fPh1FihQBAHEIhfd9joVh9OjRaNasmfhzo0aN4OLiAgAwNzfH2rVrUb58eQCAQqHAqFGjxNfy3r17uT7HTp06iT9XqFABXl5eKFGiBO7fv4/jx4+L69auXYuMjAx4eHjghx9+QPHixcV1tWvXxpYtW2BmZoa7d+9qXLJUMzU1xZQpU8ShJrQZlqIwPhtz586Fh4eH+HP58uUxbtw4AEBQUBDevHkjrtu6dSuSkpLg4uKCxYsXo0SJEuK6pk2b4ttvvwUAHDhwQHz80aNHYW5ujq1bt6Ju3boaz3fSpEn48ssvkZqaCi8vrzyfL9H7YFgi0qNq1aqhfv36uf6xtbXVaH/q1CkAQOvWrVG0aNFs21MoFOjSpQsA4MyZM+Lyfv364datW9izZ0+OdZiZmYn/Tk5OLvDz0ka5cuVgY2OTbfn7PsfC8O7lIgCoXLkyAKB+/foav9gBoEiRIihVqhSArEtu7ypatGiOY1OVLl0abdq0AZAVDgEgKSkJV69eBQAMHDgwx/psbGzQunVrjce9rU6dOjm+ZlIK+tkwMjLKsd9ajRo1xH+//dqo37Ovv/4aSmX2X0H9+/fH33//jV27dgHIumQHAA0bNkSFChVyrLFr164AAF9fX2RmZubYhqgg2GeJSI/yO85SSEgIgKxfOEFBQTm2SUhIAAA8evQIgiCI/T6ArG/it2/fRkhICMLDw/HkyROEhITgwYMHYhtBEN7nqeSb+gzNuwr6HAsip/5Y6jMtuZ2lUa/P6XWzs7ODqalpjo9T91VSd04ODw9Heno6AMDR0THXGh0dHfH333/neJanXLlyuT4uL+/72ShZsqRGoHp7e2oZGRkAsvqFqTvL29vb51hH8eLFUatWLfHn+/fvAwACAgLwzTff5PiY1NRUAFl9m6KiolCpUiXJ50qUXwxLRB8Q9Tf058+f4/nz55JtMzMz8ebNG/FSjre3N7y8vLLdOWRtbY2ePXti3759Oqk5N7mFiII8x4IyNzfPdV1OZ0HyYmlpmeu6YsWKAfi/4Pf22Zd3z2C9Tf1c3760pZbba5qXgnw23r5slxt1yIqLixOXaXsG7PXr1wCA2NhYxMbG5tk+ISGBYYkKHcMS0QdE/ct8zpw56N+/v9aPO3jwoHireJMmTdCmTRvUqlULNWrUQMmSJZGenv7eYSm3M1HveznvfZ+jIUpKSsp1nToElClTBsD/hSf1OvXyd8XHx2drXxC6/Gy86+0wmlPYk3rM0KFDxf5TRHJjnyWiD4h6AlT1pYmcPH/+HDdv3tQYi2jjxo0AgG7dumHLli3o3bs36tevj5IlSwIAIiMj812LuhPxu2MMqb3vWEjv+xwNUVhYWK5hUt0hvGbNmgCAKlWqiGdpAgICct2mel3VqlULpUZdfDZyY2FhIYbA3N7f6Oho9OrVC5MmTcLr16+1+jy8evUK//33H549eybbZWT6tDAsEX1AWrRoAQD4559/cr0kMXPmTPTu3RuTJ08Wl6kHhXRwcMjxMX/++af4b3X/EjV1f6B3fwmpOzbHx8fnWIu6Y25+ve9zNEQvXrzIsRN6dHS02JG9ffv2ALIuS7m7uwMAdu7cmeP2wsPDcfr0aQDIdTDQ3OTWr6sgn433oa5bfbfbu44dOyaOKVWiRAnx83D58mWEhYXl+Jiff/4Zffv2xYABA3Ic0JKooBiWiD4gHTp0gK2tLRISEjBs2DCNb9uJiYmYP38+Ll26BIVCgZEjR4rr1Lff//HHHxqT4iYmJmLdunXYtGmTuOzdEaLVfUvUI3mrOTs7w8TEBIIgYPHixeLj0tPTsWPHjve+dPO+z9FQzZo1S2Mk64iICHz77bdISkpCw4YNNW65HzduHIyNjXHhwgXMmTNHox9TUFAQRowYgdTUVNjb26Nbt275qiO397Egn433MXz4cJiamsLf3x8LFy7UuFzr6+uLVatWAQCGDRsGAGjQoAGaNGmCjIwMjBgxAtevXxfbp6WlwcvLC/v37wcAjBgxQjzjSVSY2GeJ6ANiYmICLy8vDB8+HPfu3UOnTp3w2WefwdzcHI8ePRL7yHh6emqceZg0aRLGjBmD0NBQtGrVSry08fjxY6SmpsLGxgYKhQJPnjzJdtmlTp06CAkJwZYtW+Dr64s2bdpgzJgxKFmyJIYNG4YNGzbg77//xvnz52FtbY2nT58iLi4O33zzDU6fPq3xC1iXz9EQlShRAqampujXrx8+++wzmJmZISQkBJmZmbC3t9cYpRoA6tWrh0WLFmH27NniyNQ1atRAUlKSePebra0tfvnlF3F8Km3VqVMHZ86cwZEjRxAcHIwGDRpg3rx5BfpsvI+aNWvip59+wrRp07B7924cPHgQ1atXR2xsrNihv0ePHujbt6/4mOXLl2PUqFG4desWvvnmG1hbW6NkyZIIDw8XO8gPGjQIffr0KXB9RDnhmSWiD4yNjQ0OHjyIadOmwdnZGTExMQgJCUGxYsXQrl07/Pbbbxg0aJDGY1q0aIE///wTrVu3Rrly5fDgwQM8f/4ctra2mDJlCry9vdG5c2cA2ccumj59Otq1awdzc3M8ePBA41LIpEmTsGLFCri6uoqDFn722WdYvnw55s+fL+tzNERFixbF/v378fXXXyMhIQGPHj1CzZo18f333+P333/PccqSbt26wdvbG7169ULZsmVx//59vHr1CvXr18fcuXPx559/5jg+VV5GjBiBr7/+GpaWlnj06BGCg4MBFOyz8b6+/PJLeHt74+uvv0apUqUQHByM169fw93dHatXr8aSJUs0QmSpUqWwe/duLFy4EA0bNsTr168RHBwMY2NjNGvWDF5eXpg5c2ah1EaUE4XA3nBERIXqr7/+gqenJypUqABfX199l0NEBcQzS0REREQSGJaIiIiIJDAsEREREUlgWCIiIiKSwA7eRERERBJ4ZomIiIhIAsMSERERkQSO4F0IBEGASlU4VzOVSkWhbaswGWpdgOHWxrryh3Xlj6HWBRhubawrfz72upRKRa5zJr6LYakQqFQCXr58U+DtGBsrUapUMSQkJCEjw3AmgzTUugDDrY115Q/ryh9DrQsw3NpYV/58CnWVLl0MRkbahSVehiMiIiKSwLBEREREJIFhiYiIiEgCwxIRERGRBIYlIiIiIgkMS0REREQSGJaIiIiIJDAsEREREUlgWCIiIiKSwLBEREREJIFhiYiIiEgCwxIRERGRBIYlIiIiIgkMS0REREQSjPVdAFFulEoFlEqFZBsjI6XG37lRqQSoVEKh1UZERJ8OhiUySEqlApaWRfMMQWoWFuaS6zMzVYiLS2JgIiKifGNYIoOkVCpgZKTEit3/ISLqdYG2ZV2hBKb2c4VSqWBYIiKifGNYIoMWEfUaYU/j9V0GERF9wtjBm4iIiEgCwxIRERGRBIYlIiIiIgkMS0REREQSGJaIiIiIJDAsEREREUlgWCIiIiKSwLBEREREJIFhiYiIiEgCwxIRERGRBIYlIiIiIgkMS0REREQSGJaIiIiIJDAsEREREUlgWCIiIiKSwLBEREREJIFhiYiIiEgCwxIRERGRBIYlIiIiIgkMS0REREQSGJaIiIiIJDAsEREREUlgWCIiIiKSwLBEREREJIFhiYiIiEiCsVw7evjwIdavX4///vsPsbGxqFixIr788kuMGjUKRYsW1Xo7KSkpqF+/PjIzM3Nt8+eff8LJyUlj2Z07d+Dl5YWAgAAkJCTAxsYG3bp1w6BBg2BiYvLez4uIiIg+brKEpdu3b2PQoEFISkpC3bp14eTkhOvXr2PDhg04c+YM9uzZg+LFi2u1raCgIGRmZqJSpUpwdXXNsY2lpaXGz2fOnMG4ceOgUqnQoEEDWFhY4Nq1a1i+fDkuXbqEjRs3MjARERFRjnQeljIyMjB58mQkJSVh0aJF6NmzJ4CsM0STJk3C6dOnsXLlSsydO1er7d29excA0LlzZ0yePDnP9vHx8Zg6dSoAYPPmzfDw8AAAxMXFYeTIkbh48SJ27tyJYcOGvc/TIyIioo+czvssHT16FOHh4WjUqJEYlADAzMwMixcvRtGiRbFv3z7Ex8drtT11WHr3Mltudu/ejcTERHTr1k0MSkDW2aclS5YAALZt2yZ5WY+IiIg+XToPS6dPnwYAtGnTJtu6UqVKwd3dHenp6Th//rxW28tvWFLvv23bttnW1ahRA7a2toiJicHt27e12h4RERF9WnQelkJCQgAAdnZ2Oa6vWbMmgKy+SHlJS0tDWFgYLC0tcfnyZfTp0wcNGjSAq6srhgwZgosXL2Z7zP379wEAtra2Bd4/ERERfXp03mcpOjoaAFChQoUc15cvX16jnZSgoCCkp6cjLi4Onp6ecHFxgbu7O0JDQ3Hp0iVcunQJU6ZMwciRIwFk9VdKSUkptP1LMTYueO40MlJq/G0o9FGXLvalj/r5XmqHdeWPodYFGG5trCt/WJcmnYelpKQkAFl9lHKiXq5uJyUwMBBAVsDx8vLSuBR38OBBzJo1CytXrkS9evXg5uYmbrNIkSJQKnN+YfOz/9wolQqUKlXsvR//LgsL80LbVmEy1Lq0pY/6DfU1Y135w7ryz1BrY135w7qy6DwsGRkZQaVSQaFQSLYTBCHPbfXq1QtNmzaFkZFRtjNF3bt3x927d7Fr1y7s3LkTbm5uYkDKa9/a7j83KpWAhIT3D1tqRkZKWFiYIyEhGZmZqgJvr7Dooy71PguTPurne6kd1pU/hloXYLi1sa78+RTqsrAw1/oMlc7DUrFixRAXF4fk5OQc16svk5mb5/2LUalUolKlSrmub9WqFXbt2oU7d+6I+waA1NRUqFSqHM8u5Wf/UjIyCu/DlJmpKtTtFRZDrUtb+qjfUF8z1pU/rCv/DLU21pU/rCuLzi/6qfsExcTE5Lhe3VdI3a4gKlasCABiMCtevLg42KUc+yciIqKPj87DkvouuNDQ0BzXq5fndrfc27y8vPDdd9/h8uXLOa6PjIwE8H+hCfi/u+AKY/9ERET06dF5WGrWrBkA4Pjx49nWvXr1ClevXoWJiQkaN26c57YePnyI48eP4+DBgzmuVy9v3ry5VvsPCwtDSEgISpcuDWdn5zz3T0RERJ8enYelNm3aoFKlSrhw4QJ2794tLk9JScGsWbOQlJSEnj17omzZsuK69PR0hIWFISwsDOnp6eLyvn37QqFQ4PDhwzh8+LDGfnbu3Alvb29YWlpi4MCB4vIePXqgePHiOHDgAHx8fMTlcXFxmDlzJgBg6NChnBuOiIiIcqTzDt5mZmZYunQpRo4ciYULF+LAgQOwtrbGjRs3EB0djTp16ohzt6lFRUWhQ4cOAAAfHx9YW1sDAOrVq4fJkyfj559/xvfff4+tW7eiatWquH//Ph48eICiRYti/fr1KFOmjLit8uXLY/78+Zg2bRrGjh2LevXqoUyZMrh27Rri4uLQpEkTDB48WNcvAxEREX2gdB6WAMDd3R379+/HL7/8Aj8/P4SGhsLa2ho9e/bEsGHDxE7Y2hg5ciScnJywbds23Lp1C2FhYShXrhx69eqF0aNHo3Llytke07lzZ1hZWWHjxo24efMmgoKCYGNjg2+//RZ9+/blWSUiIiLKlSxhCcjqaL127Vqt2lpbWyM4ODjX9Y0aNUKjRo3ytf8GDRqgQYMG+XoMERERkWxhiYiI6FOiVCqgVEoPiqzt9B0qlQCV6v0HT6aCYVgiIiIqZEqlApaWRbUeITqvGQsyM1WIi0tiYNIThiUiIqJCplQqYGSkxIrd/yEi6nWBtmVdoQSm9nOFUqlgWNIThiUiIiIdiYh6jbCn8fougwpI5+MsEREREX3IGJaIiIiIJDAsEREREUlgWCIiIiKSwLBEREREJIFhiYiIiEgCwxIRERGRBIYlIiIiIgkMS0REREQSGJaIiIiIJDAsEREREUlgWCIiIiKSwLBEREREJIFhiYiIiEgCwxIRERGRBIYlIiIiIgkMS0REREQSGJaIiIiIJDAsEREREUlgWCIiIiKSwLBEREREJIFhiYiIiEgCwxIRERGRBIYlIiIiIgkMS0REREQSGJaIiIiIJBjruwAiIn1RKhVQKhW5rjcyUmr8LUWlEqBSCYVWGxEZDoYlIvokKZUKWFoW1SoIWViY59kmM1OFuLgkBiaijxDDEhF9kpRKBYyMlFix+z9ERL0u0LasK5TA1H6uUCoVDEtEHyGGJSL6pEVEvUbY03h9l0FEBowdvImIiIgkMCwRERERSWBYIiIiIpLAsEREREQkQbYO3g8fPsT69evx33//ITY2FhUrVsSXX36JUaNGoWjRovna1tmzZ/Hbb78hICAAr1+/hqWlJerXr4/hw4fD2dk5W/sLFy5g2LBhuW6vaNGiuHHjRr6fExEREX38ZAlLt2/fxqBBg5CUlIS6devCyckJ169fx4YNG3DmzBns2bMHxYsX12pbK1euxMaNG6FQKODg4ICKFSviwYMHOHHiBHx8fLBo0SJ0795d4zGBgYEAACcnJ1SrVi3bNk1NTQv8HImIiOjjpPOwlJGRgcmTJyMpKQmLFi1Cz549AQApKSmYNGkSTp8+jZUrV2Lu3Ll5bsvf3x8bN26Eubk5Nm7cCHd3d3Hd3r17MW/ePMydOxfu7u6oVKmSuC4gIAAAMHHiRHh4eBTyMyQiIqKPmc77LB09ehTh4eFo1KiRGJQAwMzMDIsXL0bRokWxb98+xMfnPc7Jn3/+CQAYPny4RlACgD59+qBZs2ZIS0vD8ePHNdapzyw5OjoW9OkQERHRJ0bnYen06dMAgDZt2mRbV6pUKbi7uyM9PR3nz5/Pc1tmZmawtbXF559/nuP66tWrAwCioqLEZQkJCQgPD0eVKlVgaWn5Hs+AiIiIPmU6vwwXEhICALCzs8txfc2aNXHmzBkEBQWhU6dOktuaP3++5Ppbt24BACpWrCguu3v3LgCgSpUqWL9+PY4dO4YnT56gePHiaNSoEcaMGSOGLCIiIqJ36TwsRUdHAwAqVKiQ4/ry5ctrtHtfp0+fxvXr12FiYqJxFksdli5cuIBr167Bzc0NVlZWuHv3Lo4cOQIfHx94eXmhUaNGBdq/sXHBT9LlZ4ZzOemjLl3sSx/1873UDj9j77cfQ3sfAcOtTe66PuTP19v7+tTfRzWdh6WkpCQAWZfQcqJerm73PoKDg+Hp6Qkgqz9T5cqVxXXq/kpubm5YvXo1ypYtCwBIS0vD0qVLsXv3bkycOBEnT56EhYXFe+1fqVSgVKli713/u7SZ4VwfDLUubemjfkN9zViXbshdvyG/XoZam6HWpQ0ew/6P3HXpPCwZGRlBpVJBoVBIthOE95up+/bt2xg5ciTi4uLQokULfPfddxrrly5dinHjxqF8+fIawxMUKVIEs2bNwvXr13Hv3j14e3tjwIAB71WDSiUgIeH9w56akZESFhbmSEhIRmamqsDbKyz6qEu9z8Kkj/r5XmqHn7H8MdT3ETDc2uSu60P+fAGfxvtoYWGu9RkqnYelYsWKIS4uDsnJyTmuT0lJAQCYm+f/Q3Xs2DHMmDEDycnJaN26NVatWgWlUvOJFylSJNc+SUZGRmjevDnu3buHO3fu5Hv/b8vIKLwPU2amqlC3V1gMtS5t6aN+Q33NWJduyF2/Ib9ehlqbodalDR7D/o/cden8op+6T1JMTEyO69V9ldTttLV+/XpMnDgRycnJ6Nu3L9auXYsiRYrkuz4rKysAyDXMERER0adN52FJfRdcaGhojuvVy3O7W+5dKpUKM2bMwNq1a6FUKjFr1izMmzcPRkZG2dqmpqZi1qxZ+Pbbb/Hq1asct/f8+XMAmnfQEREREanpPCw1a9YMALINFAkAr169wtWrV2FiYoLGjRtrtb3Zs2fj4MGDKFq0KP73v/9h4MCBubY1NTXFxYsXcfr0afj4+GRbn5aWhqNHjwIAmjdvrtX+iYiI6NOi87DUpk0bVKpUCRcuXMDu3bvF5SkpKZg1axaSkpLQs2dP8S41AEhPT0dYWBjCwsKQnp4uLj906BAOHDgAY2NjeHl5iUFMSt++fQEAy5cvR1BQkMb+PT098eTJE7i5uWkd1oiIiOjTovMO3mZmZli6dClGjhyJhQsX4sCBA7C2tsaNGzcQHR2NOnXqYOrUqRqPiYqKQocOHQAAPj4+sLa2RmZmJlavXg0AKFOmDA4cOIADBw7kuE8PDw9069YNADBkyBBcv34dZ86cwVdffYX69evD0tIS//33H2JjY1G9enWsWrVKZ8+fiIiIPmw6D0sA4O7ujv379+OXX36Bn58fQkNDYW1tjZ49e2LYsGEat/TnJjg4WOxfFBUVhSNHjuTa1sLCQgxLJiYm8PLywv79+3HgwAEEBARApVLBxsYGffv2xdChQ1G0aNFCeZ5ERET08ZElLAGAra0t1q5dq1Vba2trBAcHayyrU6dOtmXaUiqV6N27N3r37v1ejyciIqJPl2GNY05ERERkYBiWiIiIiCQwLBERERFJYFgiIiIiksCwRERERCSBYYmIiIhIAsMSERERkQSGJSIiIiIJDEtEREREEhiWiIiIiCQwLBERERFJYFgiIiIiksCwRERERCSBYYmIiIhIAsMSERERkQSGJSIiIiIJDEtEREREEhiWiIiIiCQwLBERERFJYFgiIiIiksCwRERERCSBYYmIiIhIAsMSERERkQSGJSIiIiIJDEtEREREEhiWiIiIiCQwLBERERFJYFgiIiIiksCwRERERCSBYYmIiIhIAsMSERERkQSGJSIiIiIJDEtEREREEhiWiIiIiCQwLBERERFJMNZ3AUT08VMqFVAqFbmuNzJSavwtRaUSoFIJhVYbEVFeGJaISKeUSgUsLYtqFYQsLMzzbJOZqUJcXBIDExHJhmGJiHRKqVTAyEiJFbv/Q0TU6wJty7pCCUzt5wqlUsGwRESykS0sPXz4EOvXr8d///2H2NhYVKxYEV9++SVGjRqFokWL5mtbUVFR8PLywqVLlxAZGYmyZcuiZcuWGDt2LEqXLp3jY+7cuQMvLy8EBAQgISEBNjY26NatGwYNGgQTE5PCeIpEJCEi6jXCnsbruwwionyTpYP37du30aNHDxw5cgRly5ZF8+bNkZSUhA0bNqBPnz5ITEzUelvh4eH46quvsHfvXpiZmaFFixYwMjLCb7/9hu7duyMyMjLbY86cOYM+ffrg7NmzqFatGjw8PBAdHY3ly5dj1KhRSE9PL8ynS0RUIEqlAsbGylz/vN3HS6qdsbFSsq8YEWlH52eWMjIyMHnyZCQlJWHRokXo2bMnACAlJQWTJk3C6dOnsXLlSsydO1er7c2YMQMxMTEYO3YsvvvuOwBAZmYmFi5ciL1792LevHnYuHGj2D4+Ph5Tp04FAGzevBkeHh4AgLi4OIwcORIXL17Ezp07MWzYsMJ82kRE74V9vIgMj87D0tGjRxEeHo5GjRqJQQkAzMzMsHjxYrRs2RL79u3DhAkTULJkSclt+fv7w9/fH9WqVcO4cePE5UZGRpg9ezZ8fX1x9uxZhIaGombNmgCA3bt3IzExET179hSDEgBYWlpiyZIl6NChA7Zt24bBgwfDyMiokJ89EVH+sI8XkeHReVg6ffo0AKBNmzbZ1pUqVQru7u44c+YMzp8/j06dOmm1rVatWkGp1PzWZWJigpYtW+K3336Dj4+PGJbUj2nbtm227dWoUQO2trYICQnB7du3Ua9evfw/QSIiHWAfLyLDofM+SyEhIQAAOzu7HNerQ01QUJDW27K1tdV6W/fv38/3Y4iIiIjUdH5mKTo6GgBQoUKFHNeXL19eo11hbis+Ph4pKSmFtn8pxsZ5506FQnpgPvU6ExOjPPsrqFQCBKFwTqsbYl3q/VhXKFHgbam3oU0fEG3k9XoB2r9mcr6P+qrLUN9L1pV/hvoZM8S6PpX3Efj4fx8BMoSlpKQkAFl9lHKiXq5up822zM1z7tT47rbUfxcpUiTbZbv32X9ulEoFSpUq9t6Pf1fx4jm/VrqiUgla3TGjTV3abksbKpWAqf1cC21b2nSG1XZb2j7HvF6zwn69DLEu9fYM9b1kXfnbliF+xgy5ro/9fczv9gprW3LXpfOwZGRkBJVKBYVCumBt0p+6A7a221IHpLzaa7v/3KhUAhIS8g5b2iTm4sXNkJiYkmdnzML89mNhYV6onUkTEpKRmakqcG3afvvR5jX72F8vhUKBEiXMABTOgUEQBMTFJcv6bVHuzz7ryh9D/ewbal3Ax38MAz7s99LCwlzrs3U6D0vFihVDXFwckpOTc1yvvkyW29mid7cFQOttqdunpqZCpVLleHYpP/uXkpFR8P9Y6kt56emZhbK9/CjMzqSZmSrZ6tfna1ZYCuv1iotLyvPArD4Y5XVgk3v+NUN9H1lXdoZ6rDDUuvKir/eysG8g+NjfS52HpfLlyyMuLg4xMTGwsbHJtl7dV0jddyivbd29excxMTE5rn93W8WLF0fx4sWRmJiImJiYHPst5Wf/RCqVgMxMVaGdWs/MVBVaKMlPwJHzlwER0YdO52HJzs4OISEhCA0NRf369bOtDw0NFdtps60zZ86Ij9FmW7a2trh+/TpCQ0NzDEv52T+RSiV80GdwiIgo/3Q+dECzZs0AAMePH8+27tWrV7h69SpMTEzQuHFjrbd18uRJqFSav4DS09Ph4+MDAGjRooVW+w8LC0NISAhKly4NZ2dnLZ8RfepUKgEZGSrJP+qApD6Dk9sfBiUiIsOn87DUpk0bVKpUCRcuXMDu3bvF5SkpKZg1axaSkpLQs2dPlC1bVlyXnp6OsLAwhIWFaczbVr9+fTg5OSEsLAwrV64UO7tlZmZi0aJFeP78OZo2bYratWuLj+nRoweKFy+OAwcOiGEKyJruZObMmQCAoUOHcjJdIiIiypHOL8OZmZlh6dKlGDlyJBYuXIgDBw7A2toaN27cQHR0NOrUqSPO3aYWFRWFDh06AAB8fHxgbW0trluyZAn69++PzZs3w8fHB7Vq1cK9e/fw5MkTVK5cGT/++KPGtsqXL4/58+dj2rRpGDt2LOrVq4cyZcrg2rVriIuLQ5MmTTB48GBdvwxERET0gdL5mSUAcHd3x/79+9GuXTs8e/YMZ8+eRYkSJTBmzBjs2rULxYsX13pbtWrVwl9//YUePXrg9evXOHPmDABgwIAB2LdvX479kjp37oxdu3ahSZMmCA0NxcWLF1GhQgV4enrCy8uLZ5WIiIgoVzo/s6Rma2uLtWvXatXW2toawcHBua6vXLkylixZkq/9N2jQAA0aNMjXY4iIiIhkObNERERE9KFiWCIiIiKSwLBEREREJIFhiYiIiEgCwxIRERGRBIYlIiIiIgkMS0REREQSGJaIiIiIJDAsEREREUlgWCIiIiKSwLBEREREJIFhiYiIiEgCwxIRERGRBIYlIiIiIgkMS0REREQSGJaIiIiIJDAsEREREUlgWCIiIiKSwLBEREREJIFhiYiIiEgCwxIRERGRBIYlIiIiIgkMS0REREQSGJaIiIiIJDAsEREREUlgWCIiIiKSwLBEREREJIFhiYiIiEgCwxIRERGRBIYlIiIiIgkMS0REREQSGJaIiIiIJDAsEREREUlgWCIiIiKSwLBEREREJIFhiYiIiEgCwxIRERGRBIYlIiIiIgnGcuwkJSUFO3fuxJEjRxAeHg5zc3O4ublhzJgxsLe3z9e2nj59is2bN+PChQuIjIyEiYkJatasiW7duqFPnz4wMjLK9hgPDw/ExMTkus01a9agffv2+X5eRERE9PHTeVhKTU3FiBEj4Ofnh3LlyqFp06Z4/vw5jh8/jtOnT2Pjxo1o3LixVtu6ffs2hgwZgsTERFSsWBEeHh5ITEzEzZs3cfv2bZw9exZeXl4wMTERHxMTE4OYmBhYWlqiSZMmOW63UqVKhfJciYiI6OOj87C0YcMG+Pn5wcPDA+vXr4eZmRkAwNvbG9OnT8e0adNw4sQJFCtWTHI7KpUK33//PRITEzFw4EBMmzZNDEUPHjzA8OHD4evri+3bt2PEiBHi4+7evQsg6+zSihUrdPQsiYiI6GOl0z5LSUlJ2LlzJ5RKJRYuXCgGJQDo2rUrOnTogBcvXuDQoUN5buvatWt49OgRqlatiunTp2ucPapevTq+//57AMDhw4c1HqcOS05OToXwjIiIiOhTo9OwdO3aNSQmJsLBwQGVK1fOtr5du3YAgNOnT+e5rcTERNStWxfNmzeHsXH2E2LVq1cHAERHR2ssV4clR0fHfNdPREREpNPLcMHBwQAAW1vbHNfXrFkTABAUFJTntlq1aoVWrVrluv727dsAgIoVK2osDwwMhFKpxLNnzzB48GAEBQUhNTUVdnZ2GDBgADp27KjVcyEiIqJPk07PLKnP8lSoUCHH9erlL168gEqleu/9JCUlwcvLCwDQoUMHcfnLly/x/Plzsb9TXFwc3NzcYGNjgxs3bmDy5MmYP3/+e++XiIiIPn75OrM0atQonD17Vqu2Pj4+SEpKAgCYm5vn2MbU1FT8d1JSEooXL56fcgAAaWlpmDRpEp49e4Zq1aph4MCB4jr1JbhixYph7dq18PDwENedO3cOkyZNwu+//w4XFxd069Yt3/t+m7FxwXOnkZFS42856GJf+qhfzn1qg3XlD+vKHx4rCncbcmwzr33JtU9d7edjfy/zFZbKlCmTY9+jHDdsbJzjmEdvUygU4r8FQchPKQCyAtaECRPg6+sLS0tLeHl5aQQzDw8P+Pr6Ij09HdbW1hqPbdasGcaPH4+lS5di586dBQpLSqUCpUpJ382XHxYWOYfLD4U+6jfU14x15Q/ryh9DrUtbhlo/j2H5Z6j1F1Zd+QpLixcvztfG1cMBpKSk5Lj+7eVv3ymnjcjISIwZMwZ3795FuXLlsGXLFtSoUUOjjUKhyPUSIJDVD2rp0qUIDAxERkZGjh3HtaFSCUhISHqvx77NyEgJCwtzJCQkIzPz/S9Lvs8+C5M+6pdzn9pgXfnDuvKHx4r/Y6h1aUvu91IXrxfwYb6XFhbmWp950mkHb3VQyW307KioKABA6dKlNYYCyMvt27cxZswYxMTEoEaNGti4cSNsbGzyXZ+6M7ggCEhJSXmvy4BqGRmF9yHPzFQV6vbkpo/6DfU1Y135w7ryx1Dr0pah1s9jWP4Zav2FVZdOL5La2dkBAO7fv5/j+tDQUI122jhz5gwGDBiAmJgYNG7cGHv37s01KP3++++YOHEijh49muP6yMhIAICFhUWBghIRERF9vHQallxdXVG8eHHcuXNHDCZvO3bsGACgefPmWm3v8uXLGD9+PFJSUvD1119j06ZNsLCwyLV9VFQU/v33X+zZsyfH9QcPHgQANG3aVKv9ExER0adHp2HJ1NQUvXr1QkZGBmbMmIHExERx3eHDh3Hs2DGUKlUKvXr10njcs2fPEBYWhpcvX4rLXr58iSlTpiA9PR1fffUVfvzxxzz7GPXs2ROmpqbw9/fHpk2bNDqRHzt2DJs3b0aRIkUwZsyYQnrGRERE9LHR+dxw48ePh5+fHy5fvow2bdrAzc0NkZGRuHXrFooUKYJVq1ahaNGiGo+ZPn06/Pz8MG7cOIwfPx4AsGPHDsTGxgLIGs176tSpOe7P1NQUixYtAgBYW1vjhx9+wMyZM/Hzzz/jwIEDsLOzQ0REBO7evQsTExMsW7YsW8dwIiIiIjWdh6WiRYti165d2Lx5M/755x+cOXMGpUqVQtu2bTF27FjY29trtZ0zZ86I/z5+/Ljk/tRhCciag65GjRrYvHkzrl27htOnT8PS0hKdOnXCqFGjch1dnIiIiAiQISwBWQFmwoQJmDBhglbtd+3alW3ZuxPk5oejoyPWrFnz3o8nIiKiT5dhDUtLREREZGAYloiIiIgkMCwRERERSWBYIiIiIpLAsEREREQkgWGJiIiISALDEhEREZEEhiUiIiIiCQxLRERERBIYloiIiIgkMCwRERERSWBYIiIiIpLAsEREREQkgWGJiIiISALDEhEREZEEhiUiIiIiCQxLRERERBIYloiIiIgkMCwRERERSWBYIiIiIpLAsEREREQkgWGJiIiISALDEhEREZEEhiUiIiIiCQxLRERERBIYloiIiIgkMCwRERERSWBYIiIiIpLAsEREREQkgWGJiIiISALDEhEREZEEhiUiIiIiCQxLRERERBIYloiIiIgkMCwRERERSWBYIiIiIpLAsEREREQkgWGJiIiISALDEhEREZEEYzl2kpKSgp07d+LIkSMIDw+Hubk53NzcMGbMGNjb2+drW1OmTMHff/+d6/p+/fph7ty5Gsvi4+OxZcsWnDx5Es+ePYOFhQU8PDwwduxY2NjYvNdzIiIiok+DzsNSamoqRowYAT8/P5QrVw5NmzbF8+fPcfz4cZw+fRobN25E48aNtd7e3bt3AQAdO3aEUpn9xFjdunU1fo6Li0O/fv0QGhqKKlWqoHnz5nj48CEOHjyIkydPYvfu3fkObERERPTp0HlY2rBhA/z8/ODh4YH169fDzMwMAODt7Y3p06dj2rRpOHHiBIoVK5bntt68eYPHjx+jXLlyWLlypVb7X7x4MUJDQ9GjRw/8+OOPMDIyEutatWoVvv/+e3h7e+cYvIiIiIh0mhCSkpKwc+dOKJVKLFy4UAxKANC1a1d06NABL168wKFDh7Ta3r1796BSqeDk5KRV+4iICPz999+wsLDArFmzxKAEAKNHj4aLiwtCQkJw/vz5fD0vIiIi+nToNCxdu3YNiYmJcHBwQOXKlbOtb9euHQDg9OnTWm0vICAAALQOS+fOnUNmZia++OILFC9ePNf9+/j4aLU9IiIi+vTo9DJccHAwAMDW1jbH9TVr1gQABAUFabW9wMBAAICRkREmT56MGzduIDY2FjY2NujcuTOGDBkCU1NTsX1ISEih7p+IiIg+PToNS9HR0QCAChUq5LhevfzFixdQqVR59htSd+5euXIlKlWqBAcHB7x48QJ3797FqlWr4OPjg23btolnkfLaf/ny5TXaFYSxccFP0hkZKTX+loMu9qWP+uXcpzZYV/6wrvzhsaJwtyHHNvPal1z71NV+Pvb3Ml9hadSoUTh79qxWbX18fJCUlAQAMDc3z7HN22eBkpKScrxUppacnIyHDx8CyBo+YPjw4WK4evDgAcaPH4/bt29j8eLFWLx4sbhNqf2r+1Cp270vpVKBUqXy7qCuLQuLnOv9UOijfkN9zVhX/rCu/DHUurRlqPXzGJZ/hlp/YdWVr7BUpkyZHPse5bhhY2ONDtU5USgU4r8FQZBsa25ujkuXLuHFixfi5TO16tWr46effsJXX32FQ4cOYfr06ShZsqS4/7f3k5O89p0XlUpAQkLBAheQlYAtLMyRkJCMzExVgbeXn30WJn3UL+c+tcG68od15Q+PFf/HUOvSltzvpS5eL+DDfC8tLMy1PvOUr7CkPmOjLfVwACkpKTmuf3v523fK5cbS0hKWlpY5rnN0dETFihURGRmJwMBANGrUSNx/cnKy5P5zO/OUHxkZhfchz8xUFer25KaP+g31NWNd+cO68sdQ69KWodbPY1j+GWr9hVWXTi+SqvsKxcTE5Lg+KioKAFC6dGmYmJgUeH9WVlYA/i8c5bV/dV8ldd8lIiIionfptIO3nZ0dAOD+/fs5rg8NDdVoJ+XKlSv4888/UblyZUyaNCnHNs+fPwfwf6GpMPdPREREnyadnllydXVF8eLFcefOHURGRmZbf+zYMQBA8+bN89yWIAg4cuQIdu7cicTExGzrL1++jMjISFSsWFEMP02bNoVSqcSFCxdy7MR9/PhxAECLFi3y87SIiIjoE6LTsGRqaopevXohIyMDM2bM0Ag5hw8fxrFjx1CqVCn06tVL43HPnj1DWFgYXr58KS5zd3dHzZo1kZSUhBkzZmiEn/v378PT0xMAMH78ePEuuQoVKqBNmzaIi4vDvHnzkJaWJj5m48aNuHnzJmrWrIlWrVrp5PkTERHRh0/nc8ONHz8efn5+uHz5Mtq0aQM3NzdERkbi1q1bKFKkCFatWoWiRYtqPGb69Onw8/PDuHHjMH78eACAUqnEypUrMXjwYJw8eRKtW7eGs7MzkpKS4O/vj4yMDAwcOBA9e/bU2Nbs2bMRGBiIw4cPw9/fH05OTnj48CFCQkJgYWGBlStX5nm3HBEREX26dD4KVtGiRbFr1y6MGTMGFhYWOHPmDCIjI9G2bVvs378fjRo10npbdnZ28Pb2Rv/+/WFubo7z58/j3r17cHd3h5eXF2bNmpXtMeXLl8e+ffswYMAAKBQKnD59Gm/evEH37t3x119/sb8SERERSdL5mSUgKzBNmDABEyZM0Kr9rl27cl1Xvnx5zJkzB3PmzNF6/6VLl8bs2bMxe/ZsrR9DREREBMhwZomIiIjoQ8awRERERCSBYYmIiIhIAsMSERERkQRZOngTERHpknWFEgaxDfo4MSwREdEHS6USkJmpwtR+roWyvcxMFVQqoVC2RR8PhiUiIvpgqVQC4uKSoFRKDy5sZKSEhYU5EhKSkZmZ+yz0KpXAsETZMCwREdEHLT8BJzNThYyM3MMSUU7YwZuIiIhIAsMSERERkQSGJSIiIiIJDEtEREREEtjBm4iItMbxjOhTxLBERER54nhG9CljWCIiojxxPCP6lDEsERGRVjieEX2q2MGbiIiISALDEhEREZEEhiUiIiIiCeyzRERE9IkprOEbPpVhIBiWiIiIPhGFPQQE8GkMA8GwRERE9Iko7CEg1NtkWCIiIqKPBoeAyD928CYiIiKSwLBEREREJIFhiYiIiEgCwxIRERGRBIYlIiIiIgm8G46IiIgMRmEMdFnYg2UyLBEREZHeFfaAmYU5WCbDEhEREemdNgNm6muwTIYlIiIiMgjaBhy5B8tkB28iIiIiCQxLRERERBIYloiIiIgkMCwRERERSWBYIiIiIpLAsEREREQkQZahA1JSUrBz504cOXIE4eHhMDc3h5ubG8aMGQN7e3uttvHXX3/B09NTq7Y7d+6Eu7u7+LOHhwdiYmJybb9mzRq0b99eq20TERHRp0XnYSk1NRUjRoyAn58fypUrh6ZNm+L58+c4fvw4Tp8+jY0bN6Jx48Z5bqdKlSro3LlzruvDwsIQGBgICwsL2NjYiMtjYmIQExMDS0tLNGnSJMfHVqpUKf9PjIiIiD4JOg9LGzZsgJ+fHzw8PLB+/XqYmZkBALy9vTF9+nRMmzYNJ06cQLFixSS306BBAzRo0CDHdS9evED37t2hUCiwcuVKjfBz9+5dAFlnl1asWFFIz4qIiIg+FTrts5SUlISdO3dCqVRi4cKFYlACgK5du6JDhw548eIFDh069N77EAQBU6ZMQXR0NIYMGZLt7JE6LDk5Ob33PoiIiOjTpdOwdO3aNSQmJsLBwQGVK1fOtr5du3YAgNOnT7/3Pg4dOoQrV66gatWqmDhxYrb16rDk6Oj43vsgIiKiT5dOL8MFBwcDAGxtbXNcX7NmTQBAUFDQe23/9evX4qU1T09PmJqaZmsTGBgIpVKJZ8+eYfDgwQgKCkJqairs7OwwYMAAdOzY8b32TURERJ8GnYal6OhoAECFChVyXK9e/uLFC6hUKiiV+TvRtWPHDrx48QLOzs5o0aJFtvUvX77E8+fPAQDff/89ateuDTc3Nzx+/Bg3btzAjRs3cO3aNcyfPz9f+82JsXHBT9IZGSk1/paDLvalj/rl3Kc2WFf+sK78MdS6AMOtjXXlD+vSlK+wNGrUKJw9e1artj4+PkhKSgIAmJub59jm7TNBSUlJKF68uNa1pKSkYPfu3QCA0aNH59hGfQmuWLFiWLt2LTw8PMR1586dw6RJk/D777/DxcUF3bp103rf71IqFShVSrqDen5YWOT8en0o9FG/ob5mrCt/WFf+GGpdgOHWxrryh3VlyVdYKlOmTI59j3LcsLExjIyMJNsoFArx34Ig5KcUHDp0CC9fvoStrS1atmyZYxsPDw/4+voiPT0d1tbWGuuaNWuG8ePHY+nSpdi5c2eBwpJKJSAhIem9H69mZKSEhYU5EhKSkZmpKvD28rPPwqSP+uXcpzZYV/6wrvwx1LoAw62NdeXPp1CXhYW51meo8hWWFi9enK9C1MMBpKSk5Lj+7eVv3ymnjSNHjgCAZMhRKBS5XgIEgFatWmHp0qUIDAxERkYGjI3f/6pkRkbhfZgyM1WFuj256aN+Q33NWFf+sK78MdS6AMOtjXXlD+vKotOLfuqgktvo2VFRUQCA0qVLw8TEROvtxsTE4Pr161AoFAXqoF2xYkUAWWe1cgt0RERE9GnTaViys7MDANy/fz/H9aGhoRrttOXr6wuVSgUXFxcx8OTk999/x8SJE3H06NEc10dGRgIALCws8tVfioiIiD4dOg1Lrq6uKF68OO7cuSMGk7cdO3YMANC8efN8bffWrVsAADc3N8l2UVFR+Pfff7Fnz54c1x88eBAA0LRp03ztn4iIiD4dOg1Lpqam6NWrFzIyMjBjxgwkJiaK6w4fPoxjx46hVKlS6NWrl8bjnj17hrCwMLx8+TLH7d65cwcA4OLiIrn/nj17wtTUFP7+/ti0aZNGJ/Jjx45h8+bNKFKkCMaMGfOez5CIiIg+djqfG278+PHw8/PD5cuX0aZNG7i5uSEyMhK3bt1CkSJFsGrVKhQtWlTjMdOnT4efnx/GjRuH8ePHZ9tmeHg4gKzJdaVYW1vjhx9+wMyZM/Hzzz/jwIEDsLOzQ0REBO7evQsTExMsW7YMNWrUKLwnTERERB8VnY/qVLRoUezatQtjxoyBhYUFzpw5g8jISLRt2xb79+9Ho0aN8rW99PR0vH79GgBgZWWVZ/uuXbvijz/+QPv27fH69WucPn0a0dHR6NSpE/766y98+eWX7/W8iIiI6NOg8zNLQFZgmjBhAiZMmKBV+127duW6zsTERJxGRVuOjo5Ys2ZNvh5DREREBMhwZomIiIjoQ8awRERERCSBYYmIiIhIAsMSERERkQSGJSIiIiIJDEtEREREEhiWiIiIiCQwLBERERFJYFgiIiIiksCwRERERCSBYYmIiIhIAsMSERERkQSGJSIiIiIJDEtEREREEoz1XQAZBusKJQxiG0RERIaGYekTp1IJyMxUYWo/10LZXmamCiqVUCjbIiIiMgQMS584lUpAXFwSlEpFrm2MjJSwsDBHQkIyMjNVeW6PYYmIiD4mDEukdcDJzFQhI0M6LBEREX1s2MGbiIiISALDEhEREZEEhiUiIiIiCQxLRERERBIYloiIiIgkMCwRERERSWBYIiIiIpLAsEREREQkgWGJiIiISALDEhEREZEEhiUiIiIiCQxLRERERBIUgiBwivgCEgTtJqLVhpGREpmZhjdZraHWBRhubawrf1hX/hhqXYDh1sa68udjr0upVEChUGjVlmGJiIiISAIvwxERERFJYFgiIiIiksCwRERERCSBYYmIiIhIAsMSERERkQSGJSIiIiIJDEtEREREEhiWiIiIiCQwLBERERFJYFgiIiIiksCwRERERCSBYYmIiIhIAsMSERERkQSGJSIiIiIJDEtEREREEhiWDMTjx49x+fJlBAYGAgASEhL0XFHenj17prd9h4SE4Pz587h8+TIeP36stzqI6MOVmJio7xI+OJ/q8VYhCIKg7yI+Zbt378aWLVsQGRkJAOjSpQt++uknDB48GMbGxliyZAnKlSsnWz1DhgzBihUrUKZMGcl2Bw8exOLFi3Ht2jWZKgPS0tKwZcsW7NmzB7GxsRrrqlSpgmHDhqFXr16y1fO2zMxMZGZmokiRIgCyDsJ79+7F8+fPUbduXXTq1AlGRkY6reHHH38s0ONnz55dSJXk7cWLFyhSpAgsLCwAAM+fP8emTZvE12vgwIEoXry4bPV8CIKCghAUFISEhARkZmbm2m7IkCEyVmV4jh8/jnbt2uXZztfXF/PmzcOZM2dkqEpTWloaDh8+jCtXruD58+dwc3PDxIkTsXv3bjg4OMDFxUX2mh49eoT9+/cjIiICaWlpeDsaCIKA1NRUvHjxAg8ePBC/1Bembdu2Fejxuv7cMyzp0YwZM+Dt7Q1BEFC6dGm8fPkSXbp0wbJly/Dll1/i4cOHqFq1Kv7880+UKFFClprs7e1RpkwZLF68GM2aNcu2Pj4+HnPmzMHJkycBAPfu3ZOlrvT0dIwYMQJXr16FIAgoX748KlWqBEEQEBERgdjYWCgUCnTt2hVLly6VpSa1X3/9FV5eXvjxxx/Rvn17pKWl4auvvkJoaCgEQYBCoUCjRo2wefNmnQYme3t7KBQKvM9/aYVCIdt7+cMPP2Dv3r1YtmwZOnbsiMTERHTs2BHR0dHi62Vra4s//vgDZmZmstSkNnDgwDzbKBQKGBsbo0SJEqhatSratGkDR0dHndWUlpaGsWPH4sKFC5Lt1K+dXO9j7dq1tWr39mvVrl07DBo0CAqFQmd1OTo6Ys2aNWjVqlWO6xMTE7F48WIcPHgQgHzHMLU7d+7gu+++Q2RkpPiede7cGcuWLUOPHj1w7949TJ06FcOGDZOtprCwMHz99ddITk4Wjx/vHkvUP5csWRJXr14t9BrUx6/8kutzb6zTrVOuvL29cejQIdjZ2WHRokVwdHSEvb29uH779u2YNm0a/Pz8sHv3bowePVqWujp06IB//vkHo0ePxsCBAzF16lSYmJgAAM6fP4+ZM2ciJiYGJUqUwLRp02SpCQB27tyJK1euoFatWli0aBHq1q2rsd7f3x+zZs2Ct7c3GjdujM6dO8tS16lTp7Bs2TIAwOvXrwEAhw4dwv3791GuXDn07t0bp06dwuXLl7F3717069dPZ7WMGzdOZ9suLH/99Rd2794NMzMz8cC4f/9+REVFoVatWhg6dCj++ecfXLhwAdu3b5ftc6/m5+cHIPsvire9u27z5s2YOHEiRo4cqZOa/ve//+H8+fNQKpWoX78+rKysYGys/0O3tbU13rx5g5cvXwIAlEolSpcuDQB49eqVePYrPT0dL1++xMuXL3Hz5k1cuXIFGzZs0GltEydOxC+//JLtC9+5c+cwd+5cREdHw8jISNZAAmSdQR0+fDji4+PRrFkzNGvWDAsXLhTXf/HFFwgJCcGKFSvg7OyMBg0ayFLXpk2bkJSUBEdHR3Tp0gX//fcfTp48iblz5yI1NRXnz5/HxYsXYWtri0OHDumkhm7duuk0RBeYQHrRt29fwcXFRYiKihKX2dnZCd9//7348+vXr4UGDRoI3bp1k7W2Q4cOCa6uroK9vb3QvXt3ITAwUFiwYIFgb28v2NnZCaNHj9aoWw6dOnUSXF1dhZiYmFzbPHv2THBxcRH69OkjW13Dhw8XateuLVy4cEFcNnjwYMHe3l44efKkIAhZ76Obm5vQq1cv2eoyVP379xccHByEe/fuict69+4t2NvbC5cuXRIEQRBSU1OFxo0bC127dpW9vvDwcLGeGTNmCL6+vsKDBw+EsLAw4cKFC8KcOXOEOnXqCO3atRP+/fdfYfPmzULjxo0Fe3t74erVqzqpqW3btoKDg4Nw/fp1nWz/fb18+VJo27at4O7uLvz1119CUlKSuC45OVn4+++/BQ8PD6Fdu3bCkydPhFu3bgn9+vUT7O3thb/++ktndZ05c0ZwcnISnJychPPnzwuCIAgJCQnC9OnTxWNYz549haCgIJ3VkJu5c+cKdnZ2wm+//SYue/e4f+LECcHOzk4YM2aMbHW1aNFCaNCggZCQkCAIgiBcuHBB4/+kIAjC8uXLBXt7e+HAgQOy1WVIGJb0pH79+sLw4cM1lr37n0YQBGHkyJGCm5ubnKUJgpD1S6Nfv36CnZ2dYG9vL9jb2wtffPGF8Pfff8teiyAIgrOzs1YHj1GjRgn169eXoaIsn3/+udCvXz/x56SkJMHBwUGoW7eukJqaKi4fOXKk4OrqKltdOcnIyBBevHghHhD1oWHDhsKQIUPEn+Pj44XatWsL9erVEzIyMsTlo0ePFlxcXGSvb/PmzXn+Qvj3338FOzs7YdeuXYIgCEJoaKhQp04dYcKECTqpycnJSRg8eLBOtl0Q8+fPFxwcHISAgIBc29y/f19wcHAQFi9eLAhC1heHevXqCQMGDNBpbefPnxecnZ0FZ2dnYcOGDYKHh4dgZ2cnuLi4CNu2bRNUKpVO95+bFi1aCB06dNBYltNxv1u3bkKLFi1kq8vJyUkYOnSo+HNsbKxgZ2cnbNq0SVyWlpYmuLu76/y9M1T6P5f7icrMzNSq/0pmZibS09NlqEiTtbU1unfvjps3byIjIwMKhQL29vZwc3OTvRYAKFGihFZ3rgiCAFNTUxkqypKYmIiyZcuKP/v5+SEjIwP169cXO3sDgImJCVJTU2Wr622XL1/G5s2b4e/vL36WTExM8Pnnn2PAgAFo0qSJbLWkpKRo9L+7fPkyVCoVXF1ds/1/kOrErCt//vknateujR49euTapn379nBycsLvv/+O/v37o0aNGnB2dsbNmzd1UpOFhQXMzc11su2COHXqFFxdXeHg4JBrm5o1a8Ld3R3Hjh2Dp6cnihcvjnr16iEoKEintXl4eOB///sfxowZg9WrV0MQBDRp0gQLFixApUqVdLpvKTExMWjZsmWe7WxsbBAWFiZDRVmMjIw0bqgoXbo0ihUrhgcPHojLTExM4OzsjPv378tWF5DVnyqnTucqlUrsdO7j44M9e/botA6GJT2pUqUK7ty5g5SUlFw7sSYlJSEgIAA2Njay1hYeHo45c+bg6tWrUCgU6Nu3L65evYqLFy+ic+fO8PT0RLdu3WStqV27dvj9999x8+bNXO8UCQ8Px5UrV9C1a1fZ6qpYsSKePn0q/uzr6wuFQoHGjRuLy1QqFe7duyfrXY1q27Ztw/Lly6FSqQAApqamEAQBaWlp8PX1xfnz5zF58mSMGDFClnqsrKzw8OFD8eezZ89me73S0tJw584dWFlZyVLT2549e6bVLzNra2v4+PiIP5cvXx4BAQE6qalJkybw8fHBmzdvUKxYMZ3s4328fv0aJUuWzLNdsWLF8OrVK/FnCwsLsX+fLqlvqhg5ciTS0tIwbNgwvQYlIOu5v328yE1ERIRsN/UAWZ/f8PBwjWU2NjbZQq2xsXG2O5F1JTU1FWPGjMGlS5ck2wn/v4O3rnGcJT1p164dYmNjsWDBghzPHKWnp2PhwoWIj49HmzZtZKvr119/RZcuXXDlyhVYWVlhx44dmDt3Lg4ePIj+/fsjISEBnp6eGDlyJKKiomSra/LkyXBycsKIESOwZ88ejXGo0tLScOrUKQwePBhlypTBkCFDEBcXp/FHV2rXro2AgADs378f58+fh7e3NwCgdevWALLex+XLl+PZs2do2LChzurIyfXr17Fs2TKYmppi+vTpOH/+PG7duoXbt2/j3LlzmDp1KszMzLB69WqdnRV5l/qb6erVq7F3714cPXoUCoVC/IxHRUVhxowZiI2NhYeHhyw1va1s2bJanfW4d++eOOwBkHWG8e2fC9N3330HY2NjjB8/HhERETrZx/uoVKkS/P39kZSUlGub5ORk+Pv7o0KFCuKy6OhojbOxBbVt27Zc/9y5cwceHh7IyMjAt99+iw0bNmRrIycXFxcEBgbC398/1zZ+fn4IDAyUdfgANzc33Lt3D//++6+4rFatWggODhbPcKWkpODmzZuF+t5J+fXXX3Hx4kUolUrY29uLX54aNGiAWrVqQalUQhAEVK9eHevWrdN5PRw6QE/evHmDnj174tGjR7C2toarqysOHTqE2rVro169erh48SKePHmCypUr4+DBg7IOHQBkjfc0d+7cbGPdXLp0CTNmzEB0dDRKlCgh2zhLzZs3R0ZGBl68eCF+i7C0tISRkRHi4uIkL9koFAqdjAsCALdv30a/fv2QkZEBIOtbTosWLfC///0PANC0aVPx7sG9e/eievXqOqkjJ+PHj8epU6ewZcsWjTM3b7tw4QKGDx+OTp06YcWKFTqv6eHDh+jZs6f4C1YQBHz11VdYtGgRAODzzz9HXFwcKlWqhL1796J8+fI6r+ltc+bMwZ9//onRo0djwoQJObZZv3491q1bh86dO2P58uVITExEs2bNYGdnVyiXAnK6kzM2NlY8O1O2bFmULFkyx2/TCoUChw8fLnAN2lC/Dk2aNMGyZctQqlQpjfUJCQmYNm0azp07h2HDhmHq1KkICwtDly5d0KRJk0K7I06bW86Ft26Hf3uZnEMtAFl37Q4YMAAWFhaYOnUqGjVqhNatW6NLly6YMWMGzp49i2XLliE+Ph7btm3D559/LktdoaGh6N69OzIyMvDVV1/hxx9/xOXLlzFkyBBUqlQJX375JS5evIjg4GBxmANdUw+jsGPHDjRs2BCHDx/G9OnT8ffff6NGjRp49uwZxo0bh5CQEOzfv1/roSzeF8OSHkVHR2Pq1Kni7crvcnJywsqVK2W9DOfu7o4ffvgBbdu2zbVNQkIC5s2bh2PHjsl2oHl7WIX3ocs+EteuXcP69esRExMDd3d3TJkyRbxc0qtXL5iammL+/PmoUaOGzmrISePGjWFtbY0//vhDsl2vXr0QHR2Ns2fPylLXw4cPsWXLFvH1Gjx4sNhfafjw4ShbtiymTJmil8uWERER+Oqrr5CQkAAnJye0bt0alStXhiAIePbsGXx8fHD79m0ULVoUf/31F8qXL4+vv/4aYWFhmDt3Lr755psC11CQz7qcv/yTkpLQv39/BAYGwszMDA0aNBAvcz19+hTXr19HcnIyatasib179yIjIwNNmjRBRkYGvLy80KJFi0KpY8aMGQW6DLNkyZJCqUNbv/76K5YvX66x7O3hKARBwNixYzF+/HhZ6/Lx8cHcuXPRpEkTcay6CRMm4Pjx42IbCwsLHDhwQJbfSa6urqhevTr2798PIOu48eWXX+KHH37A119/DSCr60X79u3RoUOHbK9pYWNYMgB37tzB5cuX8fz5c6hUKpQrVw7u7u566UwdHR2t9bf5I0eOyDaekZQ3b95AEASDHPE5OTlZb51zHR0d0aZNG6xatUqy3aRJk3Dq1CncuXNHpsoMW0BAAKZPn46wsLBsv4QFQUCVKlWwYsUK1K1bF2FhYejYsSNcXV2xbds2jU797yu3L0/akvNyb0JCApYtW4ZDhw6JZ1fVjIyM0KlTJ3h6esLS0hL37t1Dr169MHToUEyaNEm2Gg2Rn58ftmzZgmvXriE5ORlAVgfqevXqYdiwYTkOCCyHjIwMxMbGipdNBUHA4cOHcePGDZQuXRpff/21bH0JHR0d0apVK6xZswZAVt/PunXrok+fPhqzDfTt2xfx8fE4evSoTuthB28D4OTkBCcnJ32XAQDZglJqaiqio6NhYmKCihUrQqVSQanM6uomd1CKi4vDypUrkZCQgNWrV4vLL168iMmTJ6NDhw6YOXMmLC0tZa3rbYmJiYiOjoaxsTEqVKig17uYSpcurdUdNQ8ePNDLa6ZSqRAcHIyoqCiYmJjAyspK1suUuXF0dIS3tzfOnTuHS5cu4enTp8jIyICVlRW++OILtG7dWhyotVSpUti+fTsaNmwo/r8oKLn7thWEhYUFfvzxR3z//fe4cuUKnj17hvT0dFhZWcHd3V3jeFKjRg34+/vLereqoWrYsCEaNmwIlUqFuLg4qFQqWFpa6nWw0ZyOrwqFAubm5vjzzz/RoUMHWUfUt7S01LgDWqlUwsrKKtsxrVy5cggODtZ5PQxLlKOzZ89i8+bNuHXrFjIzM8U568aNG4dy5cph2rRpst6ZExcXhz59+uDRo0fZTgGnpKQAAA4fPoy7d+9i3759st815O3tjd9++w13794VT6cbGRmhYcOGGDp0qF46Kzds2BBHjx7F4cOH0aVLlxzbHDlyBMHBwejYsaNsdaWlpWHDhg3Ys2cP4uPjNdaVL18ew4cPx4ABA2SrJyfGxsZo1aqVxpQZ6jOY6qAEZAVSufqVHD16FE+fPtUYKfz8+fNYs2YN+vTpg549e8pSR05KliyZ53xshXHWLT8M5ZZzKUqlEsWLF4dSqdR7UMrr+HrkyBFZj6+1a9eGv78/Xr58KY4MX61aNdy4cQNpaWni5yk8PFzj/6SuMCzpiaHOqwQAa9aswYYNGyAIgnjHgfpgExYWhjNnziA4OBg7d+6U7QC4detWPHr0CG3btsWsWbM01nXp0gUtWrTAnDlzcPz4cWzatEnW0/xTp07F0aNHIQgCjIyMxP/YL1++xKVLl3D58mXJDsO6Mnz4cHF8m9u3b6NDhw6wtraGQqFAeHg4/vnnH+zduxfGxsYYPny4LDWlpaVhyJAhuH79erY5/p4+fYqoqCgsXrwYt27dkqXDeU60OYPp6emZrUOzrmRkZGDKlCk4ceIEqlevrhGWnjx5goCAAMyZMwcXLlzQqFcumZmZiIiIQHJysuSNFlLjMRUmQ7vlPCf+/v747bffcPnyZSQkJEChUKBs2bJo1qwZBg4ciFq1aslajyEeX7t27Yrz58+jd+/emDRpEjp06IBmzZrh/PnzmDNnDkaOHImTJ08iMDAQ9evX13k97LOkJ23atNFqXqW3KRQKNGvWTKfzKp07dw6jRo1CxYoV4enpCQ8PD7i6uooT/AYEBMDT0xOhoaGYPXu2Tuc6e1unTp3w5s0bnDhxItdvEWlpaWjdujXMzc01OiXq0v79+zFnzhyUL18eM2bMQKtWrcTLDMnJyTh+/DiWLVuGV69eYcOGDbL3RTh48CBmz54tjrP0NkEQYGxsjAULFuCrr76SpZ5NmzZh5cqVsLW1xaJFi7Jdfvbz88OcOXPw5MkTLFy4UOzIKZd3v2GrJ4wGss5czpw5E5mZmahevbps37D/+OMPzJs3D1WrVsXkyZM1zuCkpaXh0qVLWLp0KR4/fowFCxagV69eOq9JbePGjdiyZUueA8bq8o7Ud/3vf//DmjVrYGRkBFtbW8THx+P58+do0KAB4uPjERYWJr6HkydPFof5kMuqVauwadOmXOceNDExwZw5c2R9Hw3x+CoIAiZPnox///0Xbdu2xdq1a5GcnIy2bdvixYsXGm3XrVun+/dRp+ODU64MdV6loUOHCo6OjkJoaKi47N3h+KOiooS6desKX3/9tc7qeJeLi4swfvz4PNuNHTtWcHR0lKGiLD169BDq1q0rPHjwINc2QUFBgoODg8Y0H3K6f/++MHPmTKFNmzaCs7OzULduXaF169bCzJkzheDgYFlr6dixo9CgQQMhNjY21zYRERGCi4uL0KNHDxkry7JixQrBzs5OGD9+vBAZGZltfUJCgjBhwgTB3t5eWLlypSw1ffXVV3nOixgVFSXUq1dP1tds//79gp2dnWBnZyc4OTkJTZs2FVq0aJHrH7l0795dY64+b29vwd7eXjymPX36VOjevbvg4OAgBAYGylaXIAjC8ePHBTs7O6FevXrCpk2bhEePHgmpqalCamqqEBoaKvzyyy+Ci4uL4ODgINy4cUO2ugz1+CoIgnD69Gnh33//FX9+8OCBMGjQIKFu3bpCs2bNxGmHdI1hSU8MdV4lNzc3YdCgQRrLcpq7aOjQoYK7u7vO6nhX48aNNeZgy82gQYOEhg0bylBRFhcXF2HEiBF5ths6dKisdRkqJycnYezYsXm2GzVqlODs7Kz7gt7RsWNHoXnz5kJaWlqubVJTU4UmTZoIbdu2laUmNzc3YfTo0Xm2Gz58uKyv2VdffSXY29sL27dvl3y95Fa/fn2hZ8+e4s8PHjwQ7OzshH379onLnjx5ItSpU0eYOnWqrLX17ds3z0mRL1++LNjb28s6ka6hHl8NCUfw1pP8zqsEQJxXSZdzBqWkpKBo0aJ5tjMxMRFveZWDk5MTbty4ITmlREhICPz9/eHo6ChbXdreHWJmZpbrafdPiaWlJd68eZNnO5VKpdXnsLA9ffoUTk5Okh1GixQpgrp16+LZs2ey1ZXTZdR3GRsby9oHJzQ0FE5OThg0aJAsHWy1lZqaqjGtSdWqVWFsbKxxx5SNjQ2cnZ1luzSoFhISggYNGqBevXq5tvn888/RoEEDXL9+Xba6DPX4akjYwVtPDHVepUqVKiEwMFByot+MjAwEBgbKOndXv379cObMGQwfPhyTJ09Gy5YtxWH3X758ibNnz2LlypXIzMxE//79ZauradOmOHbsGB49eoRq1arl2Obly5e4evUqmjZtKltdavHx8fD29sa9e/fw+vXrbGPhqCkUCnHUcV368ssvsXv3bgQEBOR60H3y5Insc/ypFStWTOxHKCUxMVG2MFe9enVcu3ZN466gd8XHx8Pf31/WoReKFCki+wjr2jC0W87fpU0/t1KlSiEtLU2GarIY6vE1PT0dvr6+4vFL6gaCt8de0gWGJT15e16l3A66csyr9K4WLVpg+/btWLNmDSZPnpxjm7Vr1yImJgaDBg3SWR3v8vDwwIgRI7B582bMmzcP8+bNE2+1fXuqkWHDhhXayMDamDZtGm7evInBgwdjwYIF2TpwBwUFYebMmTAzM8PUqVNlqwvImmdNPTp3Xme1dHVG4t15+QYMGIALFy5g6NCh+Pbbb9G1a1cxAKgn9128eDGqVasm++sFZH3D9vX1lQxz6m/Y7u7ustTUrVs3zJ8/H6NHj8ZPP/2Ezz77TGN9eHg4PD09kZiYKOsE105OTnl+sdIHQ7vl/G1ubm64cuUKXrx4ketxPCkpCf7+/nB1dZWtLkM8vr5+/RoDBgwQA63UMUyhUOg8LPFuOD0xlHmV3vXy5Ut06dIFsbGxqFevHho1aoT169fD1dUVLVu2xNmzZ+Hv7w9LS0scPnxY9ikpfH19sWvXLvj5+SE1NRVA1iVBFxcXDB48WGNcHDn069cPCQkJuH//PhQKBUqUKIEqVarAyMgIkZGRiI6OBpB1ieTdA7NCocB///2ns9o8PT1x8OBBVKxYET169ICVlZXkWC7du3cv9Bq0mbfLzMwMpqamSEhIEA+IxYoVQ5EiRfK8/buwqefKs7S0lPyGHRsbW6hTdkhRqVQYPHgw/Pz8oFAoUK1aNfEyU2RkJB4+fAiVSgU3Nzds27ZNtvF6/vvvPwwYMABDhw7VS7DNzd9//42pU6fCxsZGvOX8t99+w48//oiuXbuKt5yvXr0a9evXl3WcpSdPnqB3794oX748fv75Z9SsWVNj/cuXLzF9+nT8999/+P3332FnZydbbYBhHV8XLVqEXbt2wdzcHG3bts3z+DVu3Did1sOwpCeGMq9STkJCQjB+/Hg8fvxYnLNI/QtPEARYWVlh7dq1eh91XD3Egj5HvjXkOeuaNGmCtLQ0/Pvvv7levtE1Q359cvPzzz9j8+bN4mc+t2/Y33//vWw1paWlYe3atdi3bx8SEhI01pmZmaF3796YPHmyrKNjHzlyBCdPnsTJkydRqVIl1KtXL9cJfgHdXyZREwztlvO3TJs2DU+fPsV///0HhUIBW1tbVKtWTfxyFRAQgPT0dFhYWGS7xCnnJMmA/o+vLVu2xKtXr+Dt7Y0qVarIvv93MSzpkSHPq5SZmYkTJ07gypUr2eas69Chg+yj8Rqqp0+fFujxlStXLqRKsnNycoKHh4csfZFy06xZM9StWxfr1q0DkDXuU5UqVWS9xPA+DOkb9tsyMjIQEBCAqKgoZGZmoly5cnBycpJ1Ggo19VlDbX6FyDnBr9qZM2eQmpqK9u3bA8iaiHXBggW4ceMGSpUqheHDh8va/wb4cCZJNgROTk5o1KgRNm3apO9SADAsGYT4+Pg851VSD9mvr3mVMjIycPLkSTx//hx169ZFgwYN9FIHaa9du3awsrLC9u3b9VaDk5MTWrZsKU6GWbt2bXHqnA+Fvr9hG6p169blq6+bri+TfAg+pEmS9a1ly5aoWbOmwYQl/s/Xs8TERMTExMDGxgbW1tbi8qioKDx58gQvXrzAqVOnZJ364dixY1i3bh0mTZqE1q1bQxAEDB8+HFevXhXbdOvWDUuWLJGtpg/By5cvcf36dY2JYevVq4fixYvrpZ6OHTti06ZNePjwYbZOwXIpVqwYrl+/jqCgIFSoUAGCICA1NTVbx+/c6HNSZDULCwtkZGToPSglJiYiMjJScq4zOY8V48ePl2U/BSU1GbjcPqWwU1CtWrXC/v37JTvDy4lnlvREpVJh/vz5+OuvvyRvh1ST6/Srv7+/OInpzJkzMWDAABw9ehRTpkxBsWLF0LZtW1y6dAnR0dH46aefcp2g9VMSFxeHJUuW4OjRo9neS1NTU/Tp0weTJ0/W+aXLdwNIcnIyhg8fjjdv3mDChAmoV68eLCwscv1FoYtgMmHCBBw/fvy97raTc4qMdwUFBeHXX3/FlStXEBMTI54Nmz17NqpUqYJhw4bJdgeYoR4rDF1uk4GPGTNGL5OBvystLQ23b99GdHQ0ihQpgrJly8LBwcGgxqzSp7i4OPTq1Qvm5uaYNWsW6tWrp9fXhmeW9GTPnj3Yt28fgKxvriqVCm/evIGVlRUSEhLEcUJsbGxkva6+c+dOCIKAH374QZzF/O+//4ZCocCcOXPQrVs3REVFoX379vjzzz8/+bD0+vVr9O3bFw8fPoSRkRFcXFzEiWEjIiIQEBCAHTt24N69e9i6datOz040atQo13UzZ86UfKyugsmsWbPw6tUr3Lx5E2lpaVr3cQGkbxXWpf3792PBggUa/QjVtdy8eRMHDhzArVu3sG7dOlnOUBjqsQLIujx/8eJFREREID09PdczXmfPnsXp06dlq8sQJwNXU6lU+OWXX7Bjxw4kJSVprCtRogS++eYbfPfddwY1HIMccpoMNyMjA+np6eIwNWZmZjl+8dL1ncUAw5LeqAOI+uzM/v37MXfuXOzcuRPW1tb477//MG3aNLx48ULWcYOuX78OJycncQLTtLQ0XLlyBUZGRmjTpg0AoEKFCqhfv77kaK+fis2bN+PBgwdo1KgRfvrpp2x3sISHh2Pq1Knw8/PDzp07MXToUJ3VUpBwoatgUr58eezcuVP82d7eXpyU2RDdvHkT8+bNQ7FixTB69Gg0a9YMnTp1EtdPnDgRP/zwA06fPo0jR47IMnCmoR4r4uLiMGDAAISGhkq2e/tuWjmcO3cO//vf/7JNBq72888/w9PTE7du3cL+/ftlmwxcbeLEiTh58iQEQUC1atVgY2MDQRAQHh6Ox48fY9OmTQgLC8Mvv/wia1369m5wzImcs0a8i2FJT8LCwlCrVi3xzIyLiwsEQYC/vz+sra3h6uqKX375Bd27d8fWrVuxYMECWeqKj4/X6LytHsLA2dlZ45R1sWLFtJq24mN37NgxlClTBuvXr89xcFEbGxts2LAB7dq1w19//aXTsJSf2+zfvHkDQRBk70/l5uaGGjVqyLrP/Ni8eTMAYOPGjTl+023dujU+++wzMbTIEZYM9VixefNm3L9/H8WLF8fnn3+OiIgIhISEoHPnzkhISMD169cRHx+PWrVqYfny5bLUBGSdHTcxMcHWrVtz/Kw5Ojpi69ataNOmDby9vWUNS4cOHcKJEydQrVo1rFixItvAp7dv38a0adPg4+ODf/75Bx06dJCtNn3z8fF578fGx8cXYiU5Y1jSk+TkZI3pMapVqwalUqkx/H7t2rXh6OiIGzduyFZXuXLlNMYi8fX1hUKhyHaJJzQ0VG9j9xiSyMhING/eXHLqi1KlSqFhw4bw9fWVsbIscXFxWLlyJRISErB69Wpx+cWLFzF58mR06NABM2fOlK0j9a5du2TZz/u6fv06XFxccgxKajVq1ICrqysePHggS02Geqw4d+4cjI2N8ccff6BGjRo4duwYJk2ahEGDBqFOnTp48+YNvvvuO1y6dCnb2FC6dOfOHbi6ukqG8vLly6NBgwa4e/eubHUBwIEDB2BqaootW7Zo3NCjVrduXWzevBkdO3bEn3/++UmFpXeHUWnVqhXatm2L6dOnSz7u+++/x+XLl3HhwgVdlgdOpKsnJUqUEMdvASDeqfHuKe3KlSsjMjJStrpq1aqFGzdu4PLly3jw4IE4CNrb48rs2LEDDx48kJwM8lNRvnz5bAPd5SQxMTHbKO26FhcXhz59+mDfvn3ZfimkpKQAAA4fPox+/frxLOH/l5iYqNWdNyVKlJAtABjqseLp06dwdnYWQ4mjoyMEQRADW7FixbB8+XKYmJjIGpINdTJwIOvsb4MGDXIMSmo2NjZwc3P75DvqP336FLGxsXm2e/LkCc8sfcxsbW1x8+ZNpKSkiAPKVa1aFQEBARrX+LWZ16swDRgwAL6+vuLlIkEQUK9ePXG07m7duiE4OBgmJiYYNmyYbHUZqm7dumH9+vXw9fXNdaLcO3fu4Nq1axg8eLCstW3duhWPHj1C27ZtMWvWLI11Xbp0QYsWLTBnzhwcP34cmzZtkmWwU0NXvnx5rSZXDQ4Olm2qH0M9VmRkZGi8BpUrV0aRIkVw//59cVnp0qVRr149jWW6ZqiTgQNZwxhocwfep9jNYdiwYXj06JHGslOnTkkOAJuYmIiEhIRcJzEvTDyzpCft2rVDfHw8Bg4cKA5U9vnnn4uXTVJSUnD48GHcuHFD1qHePTw8sHz5clhbW8PU1BTNmjUTBxRUq1SpErZs2YK6devKVpehuHv3rsYfDw8PVK9eHWPHjsWPP/6I27dv49WrV0hKSsLDhw+xY8cODB06FM7OzrKHyzNnzsDKygo///yzxmTMaiVKlMCyZctQrlw5HDt2TNbaDFXjxo3x5MkT7N69O9c2u3fvRkREBBo3bixLTYZ6rChdujRevnwp/qxQKFCpUqVsZ7wsLS0RFRUlW10tWrRAVFRUtuPW29STgTdv3ly2uoCsY+etW7eyzdjwtoyMDNy6dUv2IKdv/fr1w9OnT8U/CoUCSUlJGsve/RMfH48iRYrkOul7YeI4S3qSnp6OwYMH47///kPLli3h5eWFuLg4tGrVKttdAW/fxq9vT58+1ekUHYYut4lhpe74Ua+Te9ygevXqoUmTJli7dq1ku3HjxuHcuXO4c+eOTJUZrqdPn6JLly5ISkpCx44d8cUXX2DmzJnw8PBAz549cfbsWXh7e8PMzAyHDh1C1apVdV6ToR4rxo0bh7Nnz+LIkSPioKdjxozBpUuXcOHCBfHmgQ4dOiAhIUHnfUrUDHky8J9++gnbt29Hv379cp0r78cff8Tu3bsxaNAgzJgxQ7baDEFwcLA4zEP37t3RvHlzTJw4Mdf2pqamsLKykmW6H4YlPUpPT8cff/wBY2Nj9OnTB0DWTN6enp548uQJTExM0L9//zw7uJF8WrZsWaDHyznWjIeHB6pVq4bffvtNst3gwYNx7949jRHaP2VXr17Fd999h/j4+GwBWBAEFCtWDCtXrkSzZs1kq8kQjxXnzp3DqFGjULJkSYwdOxYDBw7EoUOHMGPGDDRu3BgDBw6Ej48P9u3bh8aNG2Pr1q2y1Waok4HHxsaiY8eOiI+Ph52dHdq3bw9ra2soFAqEh4fj2LFjCA4ORunSpeHt7W0QI1fri6enJ+rXry8OY6NvDEsGKjY2FsWLF9fbXHD04fv222/h6+uLP/74I9stymohISHo0aMH3N3dZf1lZuji4+Oxf//+bBNJN2zYEL1795b1bERe9HmsWLFiBbZu3Yr27dtj1apVSE9PR9euXfHgwQMxpCiVSuzYsQNubm6y1paZmYmTJ0/i8uXLBjUZeFBQEMaMGYNnz57lGMYrVaqEdevWwcHBQS/1Uc4YlogK4NmzZyhatGiet96Hh4fjwYMHsp6NuHDhAoYPHw5LS0tMnjwZLVu2FL+pvnz5EmfPnsXKlSsRGxsLLy8vWQc0pI9HcHAw4uLi4O7uDiDrs/Xzzz/jxo0bKFWqFIYOHSrZSfdTlJaWhmPHjsHPzw/R0dFQqVSoUKECGjZsiC+//FJvQY5yx7BEVAC1a9cW55yS8t133+HKlSsFnnU8v37++Wds3rxZ/Aarnm5F3cFUEAQMGzYM33//vax1GaqBAweicePGGDVqlGS7JUuW4MyZMzhx4kSh17Bt27YCPX7IkCGFVMmHLzExEdeuXUNUVBSMjIxQuXJlNGjQgGGE8o1DBxDlw7NnzzR+FgQBSUlJ2Za/LSEhAYGBgUhLS9N1edlMmTIFbm5u2LVrF/z8/MTxekxMTODi4oLBgwfzW/9b/Pz8ULFixTzbBQcH4/nz5zqp4aeffnqv6UHU/XLkCkve3t5ajWD+8uVLzJ49G15eXjJUlSUuLg7Lly+Ht7d3tsmHzc3NMWDAAIwdO5ahibTGM0tE+TB06FBcvnz5vR5br1497Nmzp5Aryp9Xr14hMzMTlpaWOp3U90MxZcoUxMTEiD/7+fmhbNmyqF69eq6PSUhIQHBwMCpVqlSgKRpyM2PGjALNpbZkyZJCrCZ36nn+1HPp5eTs2bOYPXs2YmNjZRtkMTExEf369UNISAiMjIzg5OSkMbn13bt3oVKp8MUXX2Dz5s06nQxZaiT4vMgxOSxpj0dLonyYMWMG+vfvLw7+l5iYCCMjI5ibm+fYXqFQoEiRIqhWrRrmz58vY6U5k3sUcUPn4eEBT09P8WeFQoEXL17kOSq7QqHA8OHDdVLT0qVLdbLdwlayZEkcOXIEt27dws8//6xxE0FycjKWLFmC/fv3QxAEjfkmdW3r1q0IDg5Gw4YNsXz58mxjjEVERGDq1Km4dOkSfv/9d53ODafN5LD0YeCZJaICUH+7XrZsmb5Lofd0+vRpqFQqAFljBzVs2BADBw7Msa1CoYCpqSmqVq0KGxsbOcs0ONHR0ZgxYwYuXboEExMTTJw4EcOGDcOtW7cwbdo0PHnyBObm5pgyZYqsk9W2a9cOr1+/xsmTJ3M94xUfH4+2bduicuXK+Ouvv3RWy9OnTwv0+E95TDtDw7BEVAAHDx6EjY2NrN+cSXcGDBgADw+PPDt460NYWBgiIiKQlpamMa2JSqVCamoqXrx4AR8fH9kv9W7fvh0rV65Eeno67O3tcf/+fWRkZMDDwwMLFy5EpUqVZK3H2dkZzZo102ow1osXL8o6+XBuMjMzceLECTx//hx169bl8cQA8TIcUQF0794913W3b9/G8+fP4eDgIDlxJhkOOSd81VZqaqo4MrYUqVHkdWnw4MFwcHDAkCFDEBQUBADo1KkTVqxYIXstAFCmTBlER0fn2e7NmzewsLCQoSJNx44dw7p16zBp0iS0bt0agiBg6NChGnfKduvWTba+Z6Qdzg1HVEA3btzAyJEjcfHiRXHZtGnT0Lt3b0ycOBHt2rXDL7/8oscKKT8yMzPx77//4smTJ+Kyc+fOoWPHjqhXrx4GDx6s1WS7heXXX3/FxYsXoVQqYW9vL84Z1qBBA9SqVQtKpRKCIKB69epYt26dbHWpHTp0CN999x0yMjJQpkwZAMDRo0cxefJkjbnj5NK9e3fcunULp06dyrVNQEAA/Pz80KlTJxkrA/z9/TFp0iQ8ePBAvJvyn3/+wdWrV1G0aFF069YN5cuXx6FDh3D48GFZa6M8CET03u7duyc4OTkJ9vb2ws6dOwVBEISzZ88KdnZ2goODg9C/f3+hfv36gr29vXD27Fk9V0t5ef36tdC9e3fB3t5eOHDggCAIgvDkyRPB0dFRsLOzE/+4ubkJz549k6UmdT1Xr14VBEEQvL29BXt7eyE0NFQQBEF4+vSp0L17d8HBwUEIDAyUpSb1focOHSrY29sLdnZ2gqenp5CYmChcvnxZaN68uWBnZyd88cUXwj///CNbTYIgCCkpKcKYMWMER0dHYdmyZUJgYKCQlJQkpKamCo8fPxa2b98uNGzYUGjRooVw7do1ISAgQOOPLo0fP16ws7MT9u3bJ6hUKkEQBGH06NGCvb29cPDgQUEQBCEyMlJwcXERBgwYoNNaKH94GY6oAH799VekpaVh1KhR6NGjB4Cs8WcUCgW+//57DBo0CPfv30f37t2xZ88eWUfwpvzbsWMHAgMDUbNmTVSrVg0A8McffyA9PR2tW7eGp6cnDh06hHXr1mHz5s2YO3euzmt6/PgxHB0d0bBhQwCAk5MTBEHA9evXUaNGDVSqVAlr1qxB+/bt8euvv2L58uU6rwnIutSWnJwMS0tL/PDDD2jdujUA4PPPP8eRI0cwf/58/P3335g8eTL++ecf2c56ubi4AMi6LPnrr7/i119/zdZGEAQkJCRgwIABGst1Pdn19evX4eTkJM53lpaWhitXrsDIyAht2rQBAFSoUAH169dHQECAzuqg/GNYIiqAa9euoVatWpg0aRKArM6258+fh0KhQJcuXQAAtWrVgqurK27fvq3PUkkLp06dQsmSJfH777+jRIkS4jKFQoFx48ahcuXKGDt2LP755x+cP39elppSU1M1OklXrVoVxsbGGpcCbWxs4OzsrNNf9O9KSkpC8+bNsWjRIvHym1rx4sWxYsUKtGzZEgsWLJC8JFbY1JcpDVF8fLxG5+3r168jOTkZzs7OGnfuFStWDG/evNFHiZQLhiWiAnjx4gWcnZ3Fn2/fvo3Xr1/D3t5eY0wjS0tLvH79Wh8lUj48fvwY7u7uYlB69uwZHj16hLJly8Le3l5sV6NGDZw9e1aWmiwtLZGYmCj+rFQqYWVlhbCwMI125cqVk7Uv1YIFC9C7d2/JNh06dICrqytmzpwpU1VZQ0EYqnLlymmM4eXr6wuFQoFGjRpptAsNDUXp0qXlLo8kMCwRFYClpSXi4+PFn319fQEg28EvPDxcL3feUP4oFAqNEZ0vXLgAAOIksWpv3ryBkZGRLDXVrl0b/v7+ePnypfgLtFq1arhx4wbS0tLEKTvCw8NhYmIiS00AxKCUlpaGw4cP48qVK3j+/Dnc3NwwceJE7N69Gw4ODnBxccHWrVtlq8uQ1apVCxcuXMDly5dRoUIFsRP321MO7dixAw8ePEC7du30VSblgHfDERVA9erV4e/vjwcPHiAhIQGHDx+GQqFAixYtxDYnTpxAYGAgnJyc9FgpacPGxgYBAQHiIJUnT56EQqFAkyZNxDYvXrzA9evX8dlnn8lSU9euXZGcnIzevXvjn3/+AQA0a9YMiYmJmDNnDsLCwrBhwwYEBgZKTtOiC7dv30a7du0wZ84c/P3337h+/bo4T+KBAwfwzTffMCi9ZcCAAVCpVBg6dCg6duyIFy9ewMXFRTw2dOvWDUuXLoWJiQmGDRum52rpbTyzRFQAvXr1wtWrV9GlSxcYGxsjJSUFNWvWFDvjjh49WuzD9G5nUjI8Hh4e2LJlC4YMGYIyZcrg/PnzMDc3F7/5Hz16FL/88gtSUlLQvn17WWrq2LEjfHx88O+//+LYsWPo0KEDvvrqK2zcuBGHDx8Wz04oFAoMHTpUlpoA4Pnz5xgxYgTi4+PRrFkzNGvWDAsXLhTXf/HFFwgJCcGKFSvg7Oyss4EWP6T51zw8PLB8+XKsWbMGMTExcHd3xw8//KDRplKlSli8eDHq1q0rW12UN47gTVRAmzZtwv/+9z8kJyejVq1aWL16NWrUqAEg646hp0+fYsGCBWKHbzJc6klY3+77M3fuXPTt2xcA0Lx5c0RGRqJp06b45ZdfZJ21/syZM0hNTRVD2sOHD7FgwQLcuHEDpUqVwvDhw9G/f3/Z6pk3bx7++OMPzJkzR5zO5N3pf06ePInx48ejVatWWL9+vU7qeLsvWW6MjIygVCqRnp4uLlMqlVAoFLh7965O6nofT58+5RQnBophiagQpKWlITExMVunzFu3bqFWrVooWrSoniqj/EpLS8OxY8cQHR2Nhg0banzDX7NmDWxsbNCtWzedzlb/IWjZsiXMzc1x9OhRcVlOcyV2794d8fHxOut4/e78aykpKZg4cSKePXuGsWPHol27dmIAefXqFXx8fLBy5UpUqVIFW7ZsQfHixXVSF31ceBmOqBAUKVIkx7tX3r5Tjj4MRYoUyfUs4IQJE2SuxnDFxMSgZcuWebazsbHJdudeYXr3TMzq1avx8OFD/Pbbb+KYS2qlSpVCz5494eTkhK+++gqrV6/G7NmzdVYbfTwYlogKQUxMDPbs2SPeEdS8eXPMnz8fq1evRq1atdCxY0d9l0j59OTJE1y9ehXPnj1D9erV0blzZ/j7+8PR0RFmZmay1pKeng5fX1/cu3cPr1+/RmZmZq5t5frlb2Fhke2sTk4iIiLEoRjkcPjwYbi6umYLSm+zs7ODu7s7jh8/zrBEWmFYIiqgc+fOYcqUKXjz5o04mWlSUhKArH4mGzduxPXr1zFnzhw9V0raiI+Px5w5c3Dq1Cmoeyl07twZnTt3xooVK/Do0SOsW7cObm5ustTz+vVrDBgwQOxHJdVzQqFQyPbL38XFBWfOnIG/v3+unbf9/PwQGBiocWu8rsXGxsLR0THPdqamphrjVxFJYVgiKoCwsDB89913yMzMxDfffINmzZph1KhR4vqvv/4aa9aswZ49e9C4cWOtLluQ/iQnJ2PQoEEICgpC6dKl0bBhQxw7dkxcb2Zmhri4OIwcORLe3t6oUqWKzmtau3YtgoKCYG5ujrZt28LKygrGxvo/dA8ZMgSnT5/G2LFjMXXqVI2xxV6+fImzZ89i2bJlst8JWrlyZfj5+SExMTHX/kgvXrzAlStXxCltiPKi//9xRB+w//3vf0hLS8O6devEubHe1r9/f9SuXRv9+/fH7t27GZYM3LZt2xAUFITOnTtj4cKFMDc317jbavv27VixYgW2bNmCrVu3YsGCBTqvycfHB+bm5rKFM201aNAA33//PZYvXy7OkadQKPD333/jyJEjALLOgo0dOxaff/65bHV16tQJa9euxejRo7FkyRLY2NhorA8KCsKMGTOQnJyMnj17ylYXfdgYlogK4MqVK6hTp06OQUnN1dUVzs7OCA0NlbEyeh///vsvypYti0WLFuU6LIB6Ylg/Pz9ZaoqJiUGjRo0MKiipDR06FI6OjtiyZQuuXbuG5ORkCIIAExMT1KtXD8OGDZN98mj1GS9/f3+0a9cOn332GSpWrAggq//UkydPIAgCmjdvLg4JQZQXhiWiAoiPj9dqULxy5coZ1HgulLMnT56gWbNmkuMnKZVKODg4yDaRbrly5WTZz/tq2LAhGjZsCJVKhbi4OKhUKlhaWurtUqG5uTm2b9+OdevW4c8//0RYWJjG3XiWlpYYOHAgRo4cCYVCoZca6cPDsERUAKVKlcLDhw/zbPfgwQNOjPkBMDExwatXr/Js9/LlS9nmYWvVqhX279+PFy9eoGzZsrLs830olUqD+YwXL14cnp6emDp1KgICAhAVFQWFQgErKys4ODjINq8ffTw+7VHViAqoYcOGCA0NxcmTJ3Ntc/z4cYSFhcl29xS9Pzs7OwQEBOD58+e5tomIiEBAQADs7OxkqWns2LEoX748hg0bBj8/P41RqEma+nJg+/bt0a5dO9StW5dBid4LzywRFcDIkSNx/PhxTJ48GUOHDsUXX3wBIGsU4Tt37uDs2bPYvHkzjI2NMWTIED1XS3np2bMnPD09MW7cOKxcuRJVq1bVWP/48WNMnjwZaWlp6Nq1q05qyOmybkZGBtLT0zFo0CAAWXfl5XQJSe65zgzBiRMnCvT4tm3bFlIl9DHjdCdEBXT06FHMnDkTaWlp2dYJggBjY2PMmzcPX3/9tR6qo/waN24cTp06JV62ef78OcqWLYuSJUvi0aNHyMjIQOPGjbFlyxad9HnRZq4zKUFBQYVUyYfB3t6+QO/DvXv3CrEa+lgxLBEVgkePHmHHjh3iCN4qlQrlypVDw4YNMWjQoAL/AiT5qFQqeHl5YefOnUhISNBYZ25ujm+++QYTJ07U2SS62oyKnZv4+HjUqVOnEKsxfAUdw2nXrl2FVAl9zBiWiAogKCgItWrVYj+Ij8S3336LGjVqYOrUqUhPT0dgYCCePXsGQRBQrlw5ODk5yT7VSatWrdC2bVtMnz5dst3333+Py5cv48KFCzJVRvTpYJ8logIYP348TExM8M8//+i7FCoEV69eRXx8PICszsHOzs56nwz56dOniI2NzbPdkydPxNoJePXqFf744w9cuXIF0dHRKFKkCMqUKYNGjRqha9euBj8kAxkWhiWiAoiMjETTpk31XQYVEiMjI1hYWOi1hmHDhuHRo0cay06dOiU5v1piYiISEhI4fcf/5+fnh/HjxyMhISHbXHqXLl3Cli1bsGrVKo0pWoikMCwRFUClSpUQERGh7zKokPTs2RO7du3ChQsX4OHhoZca+vXrhzFjxog/qydmVk/OnBtTU1NMnjxZ1+UZvKdPn2LMmDFITExE8+bN0blzZ9jY2EAQBDx58gRHjhyBr68vJk6ciEOHDsHKykrfJdMHgH2WiArg4sWLGDt2LFq3bo2BAwfC3t5eZx1/SfcOHTqETZs24eHDh6hevTrs7e1RsmRJKJU5D0k3e/ZsndQRHBwMQRAgCAK6d++O5s2bY+LEibm2NzU1hZWVlez9qQzR/PnzsXfvXkyePBkjR47Msc3GjRuxatUqDB48GDNmzJC5QvoQMSwRFcDQoUPx+PFjPHv2TFzGMXA+XOrb0LU5LCoUClluO/f09ET9+vU59ISWWrVqBWNjYxw/flyyXdu2baFQKPJsRwTwMhxRgVy6dCnbsuTkZD1UQoVh7NixBjdf2JIlS/RdwgclOjpasn+XWp06dXDmzBkZKqKPAcMSUQH4+Pho3ZZ3Khm+8ePH67sEKqCiRYtqdfdgbGwsL1uS1hiWiApg4MCBHAOHyIA4Ojri6tWrCAoKynUw2KCgIFy/fh2ff/65zNXRh4oT6RIVAMfAITIs33zzDTIyMjBixAicOHECmZmZ4rrMzEycPHkSI0aMgEqlQp8+ffRYKX1I2MGbKB/eHQPn6dOnKFq0KEqVKpXrY94eA+fff/+VoUqiT9vcuXOxb98+KBQKmJqaokKFClAoFIiMjERqaioEQUDPnj3x448/6rtU+kAwLBHlw+nTp7ONgaPNfyFTU1OsWLECbdq00WV5RPT/7d27F1u3bkV4eLjG8ipVqmDIkCH45ptv9FQZfYgYlojyiWPgEH04oqKiEBUVBUEQUKFCBVSsWFHfJdEHiB28ifLJzs5O/Hf37t1Rv379XDuSEpF+VahQARUqVNB3GfSB45klIiIiIgm8G46IiIhIAsMSERERkQSGJSIiIiIJDEtEREREEhiWiIiIiCQwLBERERFJYFgiIiIikvD/AFtXkx7PWpFlAAAAAElFTkSuQmCC",
      "text/plain": [
       "<Figure size 640x480 with 1 Axes>"
      ]
     },
     "metadata": {},
     "output_type": "display_data"
    }
   ],
   "source": [
    "feature_df=pd.DataFrame(feature_dict,index=[0])\n",
    "# feature_df\n",
    "feature_df.T.plot.bar(title=\"Feature Importance\",legend=False)"
   ]
  },
  {
   "attachments": {},
   "cell_type": "markdown",
   "id": "0390ca89",
   "metadata": {},
   "source": [
    "# Conclusion"
   ]
  },
  {
   "attachments": {},
   "cell_type": "markdown",
   "id": "e4a06fb1",
   "metadata": {},
   "source": [
    "1. Here we concluded that, out of three ML classfication models:\n",
    "    * Logistic Regression\n",
    "    * K Neighbor Classification\n",
    "    * Random Forest Classification\n",
    "2. `Logistic regression` performed best prediction according to metric evaluation.\n",
    "3. We tuned the Model with GridSearchCV and found the perfect tuning to be: `C=0.20433597178569418, solver='liblinear'`\n",
    "4. We obtained maximum accuracy of : `88.52%` from our model. "
   ]
  },
  {
   "cell_type": "code",
   "execution_count": null,
   "id": "6a0f3e42",
   "metadata": {},
   "outputs": [],
   "source": []
  }
 ],
 "metadata": {
  "kernelspec": {
   "display_name": "Python 3 (ipykernel)",
   "language": "python",
   "name": "python3"
  },
  "language_info": {
   "codemirror_mode": {
    "name": "ipython",
    "version": 3
   },
   "file_extension": ".py",
   "mimetype": "text/x-python",
   "name": "python",
   "nbconvert_exporter": "python",
   "pygments_lexer": "ipython3",
   "version": "3.11.3"
  }
 },
 "nbformat": 4,
 "nbformat_minor": 5
}
{% endraw %}
